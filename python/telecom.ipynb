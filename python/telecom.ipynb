{
 "cells": [
  {
   "cell_type": "code",
   "execution_count": 3,
   "id": "a18aa401",
   "metadata": {},
   "outputs": [],
   "source": [
    "import pandas as pd \n",
    "import numpy as np\n",
    "import seaborn as sns\n",
    "import matplotlib.pyplot as plt\n",
    "from sklearn.model_selection import train_test_split\n",
    "from sklearn.preprocessing import StandardScaler\n",
    "from sklearn.neighbors import KNeighborsClassifier\n",
    "from sklearn.ensemble import RandomForestClassifier\n",
    "from sklearn.metrics import accuracy_score,classification_report"
   ]
  },
  {
   "cell_type": "code",
   "execution_count": 4,
   "id": "023fddeb",
   "metadata": {},
   "outputs": [
    {
     "data": {
      "text/html": [
       "<div>\n",
       "<style scoped>\n",
       "    .dataframe tbody tr th:only-of-type {\n",
       "        vertical-align: middle;\n",
       "    }\n",
       "\n",
       "    .dataframe tbody tr th {\n",
       "        vertical-align: top;\n",
       "    }\n",
       "\n",
       "    .dataframe thead th {\n",
       "        text-align: right;\n",
       "    }\n",
       "</style>\n",
       "<table border=\"1\" class=\"dataframe\">\n",
       "  <thead>\n",
       "    <tr style=\"text-align: right;\">\n",
       "      <th></th>\n",
       "      <th>CustomerID</th>\n",
       "      <th>Count</th>\n",
       "      <th>Country</th>\n",
       "      <th>State</th>\n",
       "      <th>City</th>\n",
       "      <th>ZipCode</th>\n",
       "      <th>LatLong</th>\n",
       "      <th>Latitude</th>\n",
       "      <th>Longitude</th>\n",
       "      <th>Gender</th>\n",
       "      <th>...</th>\n",
       "      <th>Contract</th>\n",
       "      <th>PaperlessBilling</th>\n",
       "      <th>PaymentMethod</th>\n",
       "      <th>MonthlyCharges</th>\n",
       "      <th>TotalCharges</th>\n",
       "      <th>ChurnLabel</th>\n",
       "      <th>ChurnValue</th>\n",
       "      <th>ChurnScore</th>\n",
       "      <th>CLTV</th>\n",
       "      <th>ChurnReason</th>\n",
       "    </tr>\n",
       "  </thead>\n",
       "  <tbody>\n",
       "    <tr>\n",
       "      <th>0</th>\n",
       "      <td>3668-QPYBK</td>\n",
       "      <td>1</td>\n",
       "      <td>United States</td>\n",
       "      <td>California</td>\n",
       "      <td>Los Angeles</td>\n",
       "      <td>90003</td>\n",
       "      <td>33.964131, -118.272783</td>\n",
       "      <td>33.964131</td>\n",
       "      <td>-118.272783</td>\n",
       "      <td>Male</td>\n",
       "      <td>...</td>\n",
       "      <td>Month-to-month</td>\n",
       "      <td>Yes</td>\n",
       "      <td>Mailed check</td>\n",
       "      <td>53.85</td>\n",
       "      <td>108.15</td>\n",
       "      <td>Yes</td>\n",
       "      <td>1</td>\n",
       "      <td>86</td>\n",
       "      <td>3239</td>\n",
       "      <td>Competitor made better offer</td>\n",
       "    </tr>\n",
       "    <tr>\n",
       "      <th>1</th>\n",
       "      <td>9237-HQITU</td>\n",
       "      <td>1</td>\n",
       "      <td>United States</td>\n",
       "      <td>California</td>\n",
       "      <td>Los Angeles</td>\n",
       "      <td>90005</td>\n",
       "      <td>34.059281, -118.30742</td>\n",
       "      <td>34.059281</td>\n",
       "      <td>-118.307420</td>\n",
       "      <td>Female</td>\n",
       "      <td>...</td>\n",
       "      <td>Month-to-month</td>\n",
       "      <td>Yes</td>\n",
       "      <td>Electronic check</td>\n",
       "      <td>70.70</td>\n",
       "      <td>151.65</td>\n",
       "      <td>Yes</td>\n",
       "      <td>1</td>\n",
       "      <td>67</td>\n",
       "      <td>2701</td>\n",
       "      <td>Moved</td>\n",
       "    </tr>\n",
       "    <tr>\n",
       "      <th>2</th>\n",
       "      <td>9305-CDSKC</td>\n",
       "      <td>1</td>\n",
       "      <td>United States</td>\n",
       "      <td>California</td>\n",
       "      <td>Los Angeles</td>\n",
       "      <td>90006</td>\n",
       "      <td>34.048013, -118.293953</td>\n",
       "      <td>34.048013</td>\n",
       "      <td>-118.293953</td>\n",
       "      <td>Female</td>\n",
       "      <td>...</td>\n",
       "      <td>Month-to-month</td>\n",
       "      <td>Yes</td>\n",
       "      <td>Electronic check</td>\n",
       "      <td>99.65</td>\n",
       "      <td>820.5</td>\n",
       "      <td>Yes</td>\n",
       "      <td>1</td>\n",
       "      <td>86</td>\n",
       "      <td>5372</td>\n",
       "      <td>Moved</td>\n",
       "    </tr>\n",
       "    <tr>\n",
       "      <th>3</th>\n",
       "      <td>7892-POOKP</td>\n",
       "      <td>1</td>\n",
       "      <td>United States</td>\n",
       "      <td>California</td>\n",
       "      <td>Los Angeles</td>\n",
       "      <td>90010</td>\n",
       "      <td>34.062125, -118.315709</td>\n",
       "      <td>34.062125</td>\n",
       "      <td>-118.315709</td>\n",
       "      <td>Female</td>\n",
       "      <td>...</td>\n",
       "      <td>Month-to-month</td>\n",
       "      <td>Yes</td>\n",
       "      <td>Electronic check</td>\n",
       "      <td>104.80</td>\n",
       "      <td>3046.05</td>\n",
       "      <td>Yes</td>\n",
       "      <td>1</td>\n",
       "      <td>84</td>\n",
       "      <td>5003</td>\n",
       "      <td>Moved</td>\n",
       "    </tr>\n",
       "    <tr>\n",
       "      <th>4</th>\n",
       "      <td>0280-XJGEX</td>\n",
       "      <td>1</td>\n",
       "      <td>United States</td>\n",
       "      <td>California</td>\n",
       "      <td>Los Angeles</td>\n",
       "      <td>90015</td>\n",
       "      <td>34.039224, -118.266293</td>\n",
       "      <td>34.039224</td>\n",
       "      <td>-118.266293</td>\n",
       "      <td>Male</td>\n",
       "      <td>...</td>\n",
       "      <td>Month-to-month</td>\n",
       "      <td>Yes</td>\n",
       "      <td>Bank transfer (automatic)</td>\n",
       "      <td>103.70</td>\n",
       "      <td>5036.3</td>\n",
       "      <td>Yes</td>\n",
       "      <td>1</td>\n",
       "      <td>89</td>\n",
       "      <td>5340</td>\n",
       "      <td>Competitor had better devices</td>\n",
       "    </tr>\n",
       "    <tr>\n",
       "      <th>...</th>\n",
       "      <td>...</td>\n",
       "      <td>...</td>\n",
       "      <td>...</td>\n",
       "      <td>...</td>\n",
       "      <td>...</td>\n",
       "      <td>...</td>\n",
       "      <td>...</td>\n",
       "      <td>...</td>\n",
       "      <td>...</td>\n",
       "      <td>...</td>\n",
       "      <td>...</td>\n",
       "      <td>...</td>\n",
       "      <td>...</td>\n",
       "      <td>...</td>\n",
       "      <td>...</td>\n",
       "      <td>...</td>\n",
       "      <td>...</td>\n",
       "      <td>...</td>\n",
       "      <td>...</td>\n",
       "      <td>...</td>\n",
       "      <td>...</td>\n",
       "    </tr>\n",
       "    <tr>\n",
       "      <th>7038</th>\n",
       "      <td>2569-WGERO</td>\n",
       "      <td>1</td>\n",
       "      <td>United States</td>\n",
       "      <td>California</td>\n",
       "      <td>Landers</td>\n",
       "      <td>92285</td>\n",
       "      <td>34.341737, -116.539416</td>\n",
       "      <td>34.341737</td>\n",
       "      <td>-116.539416</td>\n",
       "      <td>Female</td>\n",
       "      <td>...</td>\n",
       "      <td>Two year</td>\n",
       "      <td>Yes</td>\n",
       "      <td>Bank transfer (automatic)</td>\n",
       "      <td>21.15</td>\n",
       "      <td>1419.4</td>\n",
       "      <td>No</td>\n",
       "      <td>0</td>\n",
       "      <td>45</td>\n",
       "      <td>5306</td>\n",
       "      <td>NaN</td>\n",
       "    </tr>\n",
       "    <tr>\n",
       "      <th>7039</th>\n",
       "      <td>6840-RESVB</td>\n",
       "      <td>1</td>\n",
       "      <td>United States</td>\n",
       "      <td>California</td>\n",
       "      <td>Adelanto</td>\n",
       "      <td>92301</td>\n",
       "      <td>34.667815, -117.536183</td>\n",
       "      <td>34.667815</td>\n",
       "      <td>-117.536183</td>\n",
       "      <td>Male</td>\n",
       "      <td>...</td>\n",
       "      <td>One year</td>\n",
       "      <td>Yes</td>\n",
       "      <td>Mailed check</td>\n",
       "      <td>84.80</td>\n",
       "      <td>1990.5</td>\n",
       "      <td>No</td>\n",
       "      <td>0</td>\n",
       "      <td>59</td>\n",
       "      <td>2140</td>\n",
       "      <td>NaN</td>\n",
       "    </tr>\n",
       "    <tr>\n",
       "      <th>7040</th>\n",
       "      <td>2234-XADUH</td>\n",
       "      <td>1</td>\n",
       "      <td>United States</td>\n",
       "      <td>California</td>\n",
       "      <td>Amboy</td>\n",
       "      <td>92304</td>\n",
       "      <td>34.559882, -115.637164</td>\n",
       "      <td>34.559882</td>\n",
       "      <td>-115.637164</td>\n",
       "      <td>Female</td>\n",
       "      <td>...</td>\n",
       "      <td>One year</td>\n",
       "      <td>Yes</td>\n",
       "      <td>Credit card (automatic)</td>\n",
       "      <td>103.20</td>\n",
       "      <td>7362.9</td>\n",
       "      <td>No</td>\n",
       "      <td>0</td>\n",
       "      <td>71</td>\n",
       "      <td>5560</td>\n",
       "      <td>NaN</td>\n",
       "    </tr>\n",
       "    <tr>\n",
       "      <th>7041</th>\n",
       "      <td>4801-JZAZL</td>\n",
       "      <td>1</td>\n",
       "      <td>United States</td>\n",
       "      <td>California</td>\n",
       "      <td>Angelus Oaks</td>\n",
       "      <td>92305</td>\n",
       "      <td>34.1678, -116.86433</td>\n",
       "      <td>34.167800</td>\n",
       "      <td>-116.864330</td>\n",
       "      <td>Female</td>\n",
       "      <td>...</td>\n",
       "      <td>Month-to-month</td>\n",
       "      <td>Yes</td>\n",
       "      <td>Electronic check</td>\n",
       "      <td>29.60</td>\n",
       "      <td>346.45</td>\n",
       "      <td>No</td>\n",
       "      <td>0</td>\n",
       "      <td>59</td>\n",
       "      <td>2793</td>\n",
       "      <td>NaN</td>\n",
       "    </tr>\n",
       "    <tr>\n",
       "      <th>7042</th>\n",
       "      <td>3186-AJIEK</td>\n",
       "      <td>1</td>\n",
       "      <td>United States</td>\n",
       "      <td>California</td>\n",
       "      <td>Apple Valley</td>\n",
       "      <td>92308</td>\n",
       "      <td>34.424926, -117.184503</td>\n",
       "      <td>34.424926</td>\n",
       "      <td>-117.184503</td>\n",
       "      <td>Male</td>\n",
       "      <td>...</td>\n",
       "      <td>Two year</td>\n",
       "      <td>Yes</td>\n",
       "      <td>Bank transfer (automatic)</td>\n",
       "      <td>105.65</td>\n",
       "      <td>6844.5</td>\n",
       "      <td>No</td>\n",
       "      <td>0</td>\n",
       "      <td>38</td>\n",
       "      <td>5097</td>\n",
       "      <td>NaN</td>\n",
       "    </tr>\n",
       "  </tbody>\n",
       "</table>\n",
       "<p>7043 rows × 33 columns</p>\n",
       "</div>"
      ],
      "text/plain": [
       "      CustomerID  Count        Country       State          City  ZipCode  \\\n",
       "0     3668-QPYBK      1  United States  California   Los Angeles    90003   \n",
       "1     9237-HQITU      1  United States  California   Los Angeles    90005   \n",
       "2     9305-CDSKC      1  United States  California   Los Angeles    90006   \n",
       "3     7892-POOKP      1  United States  California   Los Angeles    90010   \n",
       "4     0280-XJGEX      1  United States  California   Los Angeles    90015   \n",
       "...          ...    ...            ...         ...           ...      ...   \n",
       "7038  2569-WGERO      1  United States  California       Landers    92285   \n",
       "7039  6840-RESVB      1  United States  California      Adelanto    92301   \n",
       "7040  2234-XADUH      1  United States  California         Amboy    92304   \n",
       "7041  4801-JZAZL      1  United States  California  Angelus Oaks    92305   \n",
       "7042  3186-AJIEK      1  United States  California  Apple Valley    92308   \n",
       "\n",
       "                     LatLong   Latitude   Longitude  Gender  ...  \\\n",
       "0     33.964131, -118.272783  33.964131 -118.272783    Male  ...   \n",
       "1      34.059281, -118.30742  34.059281 -118.307420  Female  ...   \n",
       "2     34.048013, -118.293953  34.048013 -118.293953  Female  ...   \n",
       "3     34.062125, -118.315709  34.062125 -118.315709  Female  ...   \n",
       "4     34.039224, -118.266293  34.039224 -118.266293    Male  ...   \n",
       "...                      ...        ...         ...     ...  ...   \n",
       "7038  34.341737, -116.539416  34.341737 -116.539416  Female  ...   \n",
       "7039  34.667815, -117.536183  34.667815 -117.536183    Male  ...   \n",
       "7040  34.559882, -115.637164  34.559882 -115.637164  Female  ...   \n",
       "7041     34.1678, -116.86433  34.167800 -116.864330  Female  ...   \n",
       "7042  34.424926, -117.184503  34.424926 -117.184503    Male  ...   \n",
       "\n",
       "            Contract PaperlessBilling              PaymentMethod  \\\n",
       "0     Month-to-month              Yes               Mailed check   \n",
       "1     Month-to-month              Yes           Electronic check   \n",
       "2     Month-to-month              Yes           Electronic check   \n",
       "3     Month-to-month              Yes           Electronic check   \n",
       "4     Month-to-month              Yes  Bank transfer (automatic)   \n",
       "...              ...              ...                        ...   \n",
       "7038        Two year              Yes  Bank transfer (automatic)   \n",
       "7039        One year              Yes               Mailed check   \n",
       "7040        One year              Yes    Credit card (automatic)   \n",
       "7041  Month-to-month              Yes           Electronic check   \n",
       "7042        Two year              Yes  Bank transfer (automatic)   \n",
       "\n",
       "      MonthlyCharges TotalCharges ChurnLabel ChurnValue ChurnScore  CLTV  \\\n",
       "0              53.85       108.15        Yes          1         86  3239   \n",
       "1              70.70       151.65        Yes          1         67  2701   \n",
       "2              99.65        820.5        Yes          1         86  5372   \n",
       "3             104.80      3046.05        Yes          1         84  5003   \n",
       "4             103.70       5036.3        Yes          1         89  5340   \n",
       "...              ...          ...        ...        ...        ...   ...   \n",
       "7038           21.15       1419.4         No          0         45  5306   \n",
       "7039           84.80       1990.5         No          0         59  2140   \n",
       "7040          103.20       7362.9         No          0         71  5560   \n",
       "7041           29.60       346.45         No          0         59  2793   \n",
       "7042          105.65       6844.5         No          0         38  5097   \n",
       "\n",
       "                        ChurnReason  \n",
       "0      Competitor made better offer  \n",
       "1                             Moved  \n",
       "2                             Moved  \n",
       "3                             Moved  \n",
       "4     Competitor had better devices  \n",
       "...                             ...  \n",
       "7038                            NaN  \n",
       "7039                            NaN  \n",
       "7040                            NaN  \n",
       "7041                            NaN  \n",
       "7042                            NaN  \n",
       "\n",
       "[7043 rows x 33 columns]"
      ]
     },
     "execution_count": 4,
     "metadata": {},
     "output_type": "execute_result"
    }
   ],
   "source": [
    "dataFrame=pd.read_csv(\"/home/hrugvedb/Desktop/hrugved/dataset/Telco_customer_churn.csv\")\n",
    "dataFrame\n"
   ]
  },
  {
   "cell_type": "code",
   "execution_count": 5,
   "id": "12677401",
   "metadata": {},
   "outputs": [],
   "source": [
    "df=dataFrame.copy()"
   ]
  },
  {
   "cell_type": "code",
   "execution_count": 6,
   "id": "f902000b",
   "metadata": {},
   "outputs": [
    {
     "data": {
      "text/html": [
       "<div>\n",
       "<style scoped>\n",
       "    .dataframe tbody tr th:only-of-type {\n",
       "        vertical-align: middle;\n",
       "    }\n",
       "\n",
       "    .dataframe tbody tr th {\n",
       "        vertical-align: top;\n",
       "    }\n",
       "\n",
       "    .dataframe thead th {\n",
       "        text-align: right;\n",
       "    }\n",
       "</style>\n",
       "<table border=\"1\" class=\"dataframe\">\n",
       "  <thead>\n",
       "    <tr style=\"text-align: right;\">\n",
       "      <th></th>\n",
       "      <th>CustomerID</th>\n",
       "      <th>Count</th>\n",
       "      <th>Country</th>\n",
       "      <th>State</th>\n",
       "      <th>City</th>\n",
       "      <th>ZipCode</th>\n",
       "      <th>LatLong</th>\n",
       "      <th>Latitude</th>\n",
       "      <th>Longitude</th>\n",
       "      <th>Gender</th>\n",
       "      <th>...</th>\n",
       "      <th>Contract</th>\n",
       "      <th>PaperlessBilling</th>\n",
       "      <th>PaymentMethod</th>\n",
       "      <th>MonthlyCharges</th>\n",
       "      <th>TotalCharges</th>\n",
       "      <th>ChurnLabel</th>\n",
       "      <th>ChurnValue</th>\n",
       "      <th>ChurnScore</th>\n",
       "      <th>CLTV</th>\n",
       "      <th>ChurnReason</th>\n",
       "    </tr>\n",
       "  </thead>\n",
       "  <tbody>\n",
       "    <tr>\n",
       "      <th>0</th>\n",
       "      <td>3668-QPYBK</td>\n",
       "      <td>1</td>\n",
       "      <td>United States</td>\n",
       "      <td>California</td>\n",
       "      <td>Los Angeles</td>\n",
       "      <td>90003</td>\n",
       "      <td>33.964131, -118.272783</td>\n",
       "      <td>33.964131</td>\n",
       "      <td>-118.272783</td>\n",
       "      <td>Male</td>\n",
       "      <td>...</td>\n",
       "      <td>Month-to-month</td>\n",
       "      <td>Yes</td>\n",
       "      <td>Mailed check</td>\n",
       "      <td>53.85</td>\n",
       "      <td>108.15</td>\n",
       "      <td>Yes</td>\n",
       "      <td>1</td>\n",
       "      <td>86</td>\n",
       "      <td>3239</td>\n",
       "      <td>Competitor made better offer</td>\n",
       "    </tr>\n",
       "    <tr>\n",
       "      <th>1</th>\n",
       "      <td>9237-HQITU</td>\n",
       "      <td>1</td>\n",
       "      <td>United States</td>\n",
       "      <td>California</td>\n",
       "      <td>Los Angeles</td>\n",
       "      <td>90005</td>\n",
       "      <td>34.059281, -118.30742</td>\n",
       "      <td>34.059281</td>\n",
       "      <td>-118.307420</td>\n",
       "      <td>Female</td>\n",
       "      <td>...</td>\n",
       "      <td>Month-to-month</td>\n",
       "      <td>Yes</td>\n",
       "      <td>Electronic check</td>\n",
       "      <td>70.70</td>\n",
       "      <td>151.65</td>\n",
       "      <td>Yes</td>\n",
       "      <td>1</td>\n",
       "      <td>67</td>\n",
       "      <td>2701</td>\n",
       "      <td>Moved</td>\n",
       "    </tr>\n",
       "    <tr>\n",
       "      <th>2</th>\n",
       "      <td>9305-CDSKC</td>\n",
       "      <td>1</td>\n",
       "      <td>United States</td>\n",
       "      <td>California</td>\n",
       "      <td>Los Angeles</td>\n",
       "      <td>90006</td>\n",
       "      <td>34.048013, -118.293953</td>\n",
       "      <td>34.048013</td>\n",
       "      <td>-118.293953</td>\n",
       "      <td>Female</td>\n",
       "      <td>...</td>\n",
       "      <td>Month-to-month</td>\n",
       "      <td>Yes</td>\n",
       "      <td>Electronic check</td>\n",
       "      <td>99.65</td>\n",
       "      <td>820.5</td>\n",
       "      <td>Yes</td>\n",
       "      <td>1</td>\n",
       "      <td>86</td>\n",
       "      <td>5372</td>\n",
       "      <td>Moved</td>\n",
       "    </tr>\n",
       "    <tr>\n",
       "      <th>3</th>\n",
       "      <td>7892-POOKP</td>\n",
       "      <td>1</td>\n",
       "      <td>United States</td>\n",
       "      <td>California</td>\n",
       "      <td>Los Angeles</td>\n",
       "      <td>90010</td>\n",
       "      <td>34.062125, -118.315709</td>\n",
       "      <td>34.062125</td>\n",
       "      <td>-118.315709</td>\n",
       "      <td>Female</td>\n",
       "      <td>...</td>\n",
       "      <td>Month-to-month</td>\n",
       "      <td>Yes</td>\n",
       "      <td>Electronic check</td>\n",
       "      <td>104.80</td>\n",
       "      <td>3046.05</td>\n",
       "      <td>Yes</td>\n",
       "      <td>1</td>\n",
       "      <td>84</td>\n",
       "      <td>5003</td>\n",
       "      <td>Moved</td>\n",
       "    </tr>\n",
       "    <tr>\n",
       "      <th>4</th>\n",
       "      <td>0280-XJGEX</td>\n",
       "      <td>1</td>\n",
       "      <td>United States</td>\n",
       "      <td>California</td>\n",
       "      <td>Los Angeles</td>\n",
       "      <td>90015</td>\n",
       "      <td>34.039224, -118.266293</td>\n",
       "      <td>34.039224</td>\n",
       "      <td>-118.266293</td>\n",
       "      <td>Male</td>\n",
       "      <td>...</td>\n",
       "      <td>Month-to-month</td>\n",
       "      <td>Yes</td>\n",
       "      <td>Bank transfer (automatic)</td>\n",
       "      <td>103.70</td>\n",
       "      <td>5036.3</td>\n",
       "      <td>Yes</td>\n",
       "      <td>1</td>\n",
       "      <td>89</td>\n",
       "      <td>5340</td>\n",
       "      <td>Competitor had better devices</td>\n",
       "    </tr>\n",
       "    <tr>\n",
       "      <th>...</th>\n",
       "      <td>...</td>\n",
       "      <td>...</td>\n",
       "      <td>...</td>\n",
       "      <td>...</td>\n",
       "      <td>...</td>\n",
       "      <td>...</td>\n",
       "      <td>...</td>\n",
       "      <td>...</td>\n",
       "      <td>...</td>\n",
       "      <td>...</td>\n",
       "      <td>...</td>\n",
       "      <td>...</td>\n",
       "      <td>...</td>\n",
       "      <td>...</td>\n",
       "      <td>...</td>\n",
       "      <td>...</td>\n",
       "      <td>...</td>\n",
       "      <td>...</td>\n",
       "      <td>...</td>\n",
       "      <td>...</td>\n",
       "      <td>...</td>\n",
       "    </tr>\n",
       "    <tr>\n",
       "      <th>7038</th>\n",
       "      <td>2569-WGERO</td>\n",
       "      <td>1</td>\n",
       "      <td>United States</td>\n",
       "      <td>California</td>\n",
       "      <td>Landers</td>\n",
       "      <td>92285</td>\n",
       "      <td>34.341737, -116.539416</td>\n",
       "      <td>34.341737</td>\n",
       "      <td>-116.539416</td>\n",
       "      <td>Female</td>\n",
       "      <td>...</td>\n",
       "      <td>Two year</td>\n",
       "      <td>Yes</td>\n",
       "      <td>Bank transfer (automatic)</td>\n",
       "      <td>21.15</td>\n",
       "      <td>1419.4</td>\n",
       "      <td>No</td>\n",
       "      <td>0</td>\n",
       "      <td>45</td>\n",
       "      <td>5306</td>\n",
       "      <td>NaN</td>\n",
       "    </tr>\n",
       "    <tr>\n",
       "      <th>7039</th>\n",
       "      <td>6840-RESVB</td>\n",
       "      <td>1</td>\n",
       "      <td>United States</td>\n",
       "      <td>California</td>\n",
       "      <td>Adelanto</td>\n",
       "      <td>92301</td>\n",
       "      <td>34.667815, -117.536183</td>\n",
       "      <td>34.667815</td>\n",
       "      <td>-117.536183</td>\n",
       "      <td>Male</td>\n",
       "      <td>...</td>\n",
       "      <td>One year</td>\n",
       "      <td>Yes</td>\n",
       "      <td>Mailed check</td>\n",
       "      <td>84.80</td>\n",
       "      <td>1990.5</td>\n",
       "      <td>No</td>\n",
       "      <td>0</td>\n",
       "      <td>59</td>\n",
       "      <td>2140</td>\n",
       "      <td>NaN</td>\n",
       "    </tr>\n",
       "    <tr>\n",
       "      <th>7040</th>\n",
       "      <td>2234-XADUH</td>\n",
       "      <td>1</td>\n",
       "      <td>United States</td>\n",
       "      <td>California</td>\n",
       "      <td>Amboy</td>\n",
       "      <td>92304</td>\n",
       "      <td>34.559882, -115.637164</td>\n",
       "      <td>34.559882</td>\n",
       "      <td>-115.637164</td>\n",
       "      <td>Female</td>\n",
       "      <td>...</td>\n",
       "      <td>One year</td>\n",
       "      <td>Yes</td>\n",
       "      <td>Credit card (automatic)</td>\n",
       "      <td>103.20</td>\n",
       "      <td>7362.9</td>\n",
       "      <td>No</td>\n",
       "      <td>0</td>\n",
       "      <td>71</td>\n",
       "      <td>5560</td>\n",
       "      <td>NaN</td>\n",
       "    </tr>\n",
       "    <tr>\n",
       "      <th>7041</th>\n",
       "      <td>4801-JZAZL</td>\n",
       "      <td>1</td>\n",
       "      <td>United States</td>\n",
       "      <td>California</td>\n",
       "      <td>Angelus Oaks</td>\n",
       "      <td>92305</td>\n",
       "      <td>34.1678, -116.86433</td>\n",
       "      <td>34.167800</td>\n",
       "      <td>-116.864330</td>\n",
       "      <td>Female</td>\n",
       "      <td>...</td>\n",
       "      <td>Month-to-month</td>\n",
       "      <td>Yes</td>\n",
       "      <td>Electronic check</td>\n",
       "      <td>29.60</td>\n",
       "      <td>346.45</td>\n",
       "      <td>No</td>\n",
       "      <td>0</td>\n",
       "      <td>59</td>\n",
       "      <td>2793</td>\n",
       "      <td>NaN</td>\n",
       "    </tr>\n",
       "    <tr>\n",
       "      <th>7042</th>\n",
       "      <td>3186-AJIEK</td>\n",
       "      <td>1</td>\n",
       "      <td>United States</td>\n",
       "      <td>California</td>\n",
       "      <td>Apple Valley</td>\n",
       "      <td>92308</td>\n",
       "      <td>34.424926, -117.184503</td>\n",
       "      <td>34.424926</td>\n",
       "      <td>-117.184503</td>\n",
       "      <td>Male</td>\n",
       "      <td>...</td>\n",
       "      <td>Two year</td>\n",
       "      <td>Yes</td>\n",
       "      <td>Bank transfer (automatic)</td>\n",
       "      <td>105.65</td>\n",
       "      <td>6844.5</td>\n",
       "      <td>No</td>\n",
       "      <td>0</td>\n",
       "      <td>38</td>\n",
       "      <td>5097</td>\n",
       "      <td>NaN</td>\n",
       "    </tr>\n",
       "  </tbody>\n",
       "</table>\n",
       "<p>7043 rows × 33 columns</p>\n",
       "</div>"
      ],
      "text/plain": [
       "      CustomerID  Count        Country       State          City  ZipCode  \\\n",
       "0     3668-QPYBK      1  United States  California   Los Angeles    90003   \n",
       "1     9237-HQITU      1  United States  California   Los Angeles    90005   \n",
       "2     9305-CDSKC      1  United States  California   Los Angeles    90006   \n",
       "3     7892-POOKP      1  United States  California   Los Angeles    90010   \n",
       "4     0280-XJGEX      1  United States  California   Los Angeles    90015   \n",
       "...          ...    ...            ...         ...           ...      ...   \n",
       "7038  2569-WGERO      1  United States  California       Landers    92285   \n",
       "7039  6840-RESVB      1  United States  California      Adelanto    92301   \n",
       "7040  2234-XADUH      1  United States  California         Amboy    92304   \n",
       "7041  4801-JZAZL      1  United States  California  Angelus Oaks    92305   \n",
       "7042  3186-AJIEK      1  United States  California  Apple Valley    92308   \n",
       "\n",
       "                     LatLong   Latitude   Longitude  Gender  ...  \\\n",
       "0     33.964131, -118.272783  33.964131 -118.272783    Male  ...   \n",
       "1      34.059281, -118.30742  34.059281 -118.307420  Female  ...   \n",
       "2     34.048013, -118.293953  34.048013 -118.293953  Female  ...   \n",
       "3     34.062125, -118.315709  34.062125 -118.315709  Female  ...   \n",
       "4     34.039224, -118.266293  34.039224 -118.266293    Male  ...   \n",
       "...                      ...        ...         ...     ...  ...   \n",
       "7038  34.341737, -116.539416  34.341737 -116.539416  Female  ...   \n",
       "7039  34.667815, -117.536183  34.667815 -117.536183    Male  ...   \n",
       "7040  34.559882, -115.637164  34.559882 -115.637164  Female  ...   \n",
       "7041     34.1678, -116.86433  34.167800 -116.864330  Female  ...   \n",
       "7042  34.424926, -117.184503  34.424926 -117.184503    Male  ...   \n",
       "\n",
       "            Contract PaperlessBilling              PaymentMethod  \\\n",
       "0     Month-to-month              Yes               Mailed check   \n",
       "1     Month-to-month              Yes           Electronic check   \n",
       "2     Month-to-month              Yes           Electronic check   \n",
       "3     Month-to-month              Yes           Electronic check   \n",
       "4     Month-to-month              Yes  Bank transfer (automatic)   \n",
       "...              ...              ...                        ...   \n",
       "7038        Two year              Yes  Bank transfer (automatic)   \n",
       "7039        One year              Yes               Mailed check   \n",
       "7040        One year              Yes    Credit card (automatic)   \n",
       "7041  Month-to-month              Yes           Electronic check   \n",
       "7042        Two year              Yes  Bank transfer (automatic)   \n",
       "\n",
       "      MonthlyCharges TotalCharges ChurnLabel ChurnValue ChurnScore  CLTV  \\\n",
       "0              53.85       108.15        Yes          1         86  3239   \n",
       "1              70.70       151.65        Yes          1         67  2701   \n",
       "2              99.65        820.5        Yes          1         86  5372   \n",
       "3             104.80      3046.05        Yes          1         84  5003   \n",
       "4             103.70       5036.3        Yes          1         89  5340   \n",
       "...              ...          ...        ...        ...        ...   ...   \n",
       "7038           21.15       1419.4         No          0         45  5306   \n",
       "7039           84.80       1990.5         No          0         59  2140   \n",
       "7040          103.20       7362.9         No          0         71  5560   \n",
       "7041           29.60       346.45         No          0         59  2793   \n",
       "7042          105.65       6844.5         No          0         38  5097   \n",
       "\n",
       "                        ChurnReason  \n",
       "0      Competitor made better offer  \n",
       "1                             Moved  \n",
       "2                             Moved  \n",
       "3                             Moved  \n",
       "4     Competitor had better devices  \n",
       "...                             ...  \n",
       "7038                            NaN  \n",
       "7039                            NaN  \n",
       "7040                            NaN  \n",
       "7041                            NaN  \n",
       "7042                            NaN  \n",
       "\n",
       "[7043 rows x 33 columns]"
      ]
     },
     "execution_count": 6,
     "metadata": {},
     "output_type": "execute_result"
    }
   ],
   "source": [
    "df"
   ]
  },
  {
   "cell_type": "code",
   "execution_count": 7,
   "id": "be858482",
   "metadata": {},
   "outputs": [
    {
     "data": {
      "text/html": [
       "<div>\n",
       "<style scoped>\n",
       "    .dataframe tbody tr th:only-of-type {\n",
       "        vertical-align: middle;\n",
       "    }\n",
       "\n",
       "    .dataframe tbody tr th {\n",
       "        vertical-align: top;\n",
       "    }\n",
       "\n",
       "    .dataframe thead th {\n",
       "        text-align: right;\n",
       "    }\n",
       "</style>\n",
       "<table border=\"1\" class=\"dataframe\">\n",
       "  <thead>\n",
       "    <tr style=\"text-align: right;\">\n",
       "      <th></th>\n",
       "      <th>Count</th>\n",
       "      <th>ZipCode</th>\n",
       "      <th>Latitude</th>\n",
       "      <th>Longitude</th>\n",
       "      <th>TenureMonths</th>\n",
       "      <th>MonthlyCharges</th>\n",
       "      <th>ChurnValue</th>\n",
       "      <th>ChurnScore</th>\n",
       "      <th>CLTV</th>\n",
       "    </tr>\n",
       "  </thead>\n",
       "  <tbody>\n",
       "    <tr>\n",
       "      <th>count</th>\n",
       "      <td>7043.0</td>\n",
       "      <td>7043.000000</td>\n",
       "      <td>7043.000000</td>\n",
       "      <td>7043.000000</td>\n",
       "      <td>7043.000000</td>\n",
       "      <td>7043.000000</td>\n",
       "      <td>7043.000000</td>\n",
       "      <td>7043.000000</td>\n",
       "      <td>7043.000000</td>\n",
       "    </tr>\n",
       "    <tr>\n",
       "      <th>mean</th>\n",
       "      <td>1.0</td>\n",
       "      <td>93521.964646</td>\n",
       "      <td>36.282441</td>\n",
       "      <td>-119.798880</td>\n",
       "      <td>32.371149</td>\n",
       "      <td>64.761692</td>\n",
       "      <td>0.265370</td>\n",
       "      <td>58.699418</td>\n",
       "      <td>4400.295755</td>\n",
       "    </tr>\n",
       "    <tr>\n",
       "      <th>std</th>\n",
       "      <td>0.0</td>\n",
       "      <td>1865.794555</td>\n",
       "      <td>2.455723</td>\n",
       "      <td>2.157889</td>\n",
       "      <td>24.559481</td>\n",
       "      <td>30.090047</td>\n",
       "      <td>0.441561</td>\n",
       "      <td>21.525131</td>\n",
       "      <td>1183.057152</td>\n",
       "    </tr>\n",
       "    <tr>\n",
       "      <th>min</th>\n",
       "      <td>1.0</td>\n",
       "      <td>90001.000000</td>\n",
       "      <td>32.555828</td>\n",
       "      <td>-124.301372</td>\n",
       "      <td>0.000000</td>\n",
       "      <td>18.250000</td>\n",
       "      <td>0.000000</td>\n",
       "      <td>5.000000</td>\n",
       "      <td>2003.000000</td>\n",
       "    </tr>\n",
       "    <tr>\n",
       "      <th>25%</th>\n",
       "      <td>1.0</td>\n",
       "      <td>92102.000000</td>\n",
       "      <td>34.030915</td>\n",
       "      <td>-121.815412</td>\n",
       "      <td>9.000000</td>\n",
       "      <td>35.500000</td>\n",
       "      <td>0.000000</td>\n",
       "      <td>40.000000</td>\n",
       "      <td>3469.000000</td>\n",
       "    </tr>\n",
       "    <tr>\n",
       "      <th>50%</th>\n",
       "      <td>1.0</td>\n",
       "      <td>93552.000000</td>\n",
       "      <td>36.391777</td>\n",
       "      <td>-119.730885</td>\n",
       "      <td>29.000000</td>\n",
       "      <td>70.350000</td>\n",
       "      <td>0.000000</td>\n",
       "      <td>61.000000</td>\n",
       "      <td>4527.000000</td>\n",
       "    </tr>\n",
       "    <tr>\n",
       "      <th>75%</th>\n",
       "      <td>1.0</td>\n",
       "      <td>95351.000000</td>\n",
       "      <td>38.224869</td>\n",
       "      <td>-118.043237</td>\n",
       "      <td>55.000000</td>\n",
       "      <td>89.850000</td>\n",
       "      <td>1.000000</td>\n",
       "      <td>75.000000</td>\n",
       "      <td>5380.500000</td>\n",
       "    </tr>\n",
       "    <tr>\n",
       "      <th>max</th>\n",
       "      <td>1.0</td>\n",
       "      <td>96161.000000</td>\n",
       "      <td>41.962127</td>\n",
       "      <td>-114.192901</td>\n",
       "      <td>72.000000</td>\n",
       "      <td>118.750000</td>\n",
       "      <td>1.000000</td>\n",
       "      <td>100.000000</td>\n",
       "      <td>6500.000000</td>\n",
       "    </tr>\n",
       "  </tbody>\n",
       "</table>\n",
       "</div>"
      ],
      "text/plain": [
       "        Count       ZipCode     Latitude    Longitude  TenureMonths  \\\n",
       "count  7043.0   7043.000000  7043.000000  7043.000000   7043.000000   \n",
       "mean      1.0  93521.964646    36.282441  -119.798880     32.371149   \n",
       "std       0.0   1865.794555     2.455723     2.157889     24.559481   \n",
       "min       1.0  90001.000000    32.555828  -124.301372      0.000000   \n",
       "25%       1.0  92102.000000    34.030915  -121.815412      9.000000   \n",
       "50%       1.0  93552.000000    36.391777  -119.730885     29.000000   \n",
       "75%       1.0  95351.000000    38.224869  -118.043237     55.000000   \n",
       "max       1.0  96161.000000    41.962127  -114.192901     72.000000   \n",
       "\n",
       "       MonthlyCharges   ChurnValue   ChurnScore         CLTV  \n",
       "count     7043.000000  7043.000000  7043.000000  7043.000000  \n",
       "mean        64.761692     0.265370    58.699418  4400.295755  \n",
       "std         30.090047     0.441561    21.525131  1183.057152  \n",
       "min         18.250000     0.000000     5.000000  2003.000000  \n",
       "25%         35.500000     0.000000    40.000000  3469.000000  \n",
       "50%         70.350000     0.000000    61.000000  4527.000000  \n",
       "75%         89.850000     1.000000    75.000000  5380.500000  \n",
       "max        118.750000     1.000000   100.000000  6500.000000  "
      ]
     },
     "execution_count": 7,
     "metadata": {},
     "output_type": "execute_result"
    }
   ],
   "source": [
    "df.describe()"
   ]
  },
  {
   "cell_type": "code",
   "execution_count": 8,
   "id": "0c78b693",
   "metadata": {},
   "outputs": [
    {
     "name": "stdout",
     "output_type": "stream",
     "text": [
      "<class 'pandas.core.frame.DataFrame'>\n",
      "RangeIndex: 7043 entries, 0 to 7042\n",
      "Data columns (total 33 columns):\n",
      " #   Column            Non-Null Count  Dtype  \n",
      "---  ------            --------------  -----  \n",
      " 0   CustomerID        7043 non-null   object \n",
      " 1   Count             7043 non-null   int64  \n",
      " 2   Country           7043 non-null   object \n",
      " 3   State             7043 non-null   object \n",
      " 4   City              7043 non-null   object \n",
      " 5   ZipCode           7043 non-null   int64  \n",
      " 6   LatLong           7043 non-null   object \n",
      " 7   Latitude          7043 non-null   float64\n",
      " 8   Longitude         7043 non-null   float64\n",
      " 9   Gender            7043 non-null   object \n",
      " 10  SeniorCitizen     7043 non-null   object \n",
      " 11  Partner           7043 non-null   object \n",
      " 12  Dependents        7043 non-null   object \n",
      " 13  TenureMonths      7043 non-null   int64  \n",
      " 14  PhoneService      7043 non-null   object \n",
      " 15  MultipleLines     7043 non-null   object \n",
      " 16  InternetService   7043 non-null   object \n",
      " 17  OnlineSecurity    7043 non-null   object \n",
      " 18  OnlineBackup      7043 non-null   object \n",
      " 19  DeviceProtection  7043 non-null   object \n",
      " 20  TechSupport       7043 non-null   object \n",
      " 21  StreamingTV       7043 non-null   object \n",
      " 22  Streaming Movies  7043 non-null   object \n",
      " 23  Contract          7043 non-null   object \n",
      " 24  PaperlessBilling  7043 non-null   object \n",
      " 25  PaymentMethod     7043 non-null   object \n",
      " 26  MonthlyCharges    7043 non-null   float64\n",
      " 27  TotalCharges      7043 non-null   object \n",
      " 28  ChurnLabel        7043 non-null   object \n",
      " 29  ChurnValue        7043 non-null   int64  \n",
      " 30  ChurnScore        7043 non-null   int64  \n",
      " 31  CLTV              7043 non-null   int64  \n",
      " 32  ChurnReason       1869 non-null   object \n",
      "dtypes: float64(3), int64(6), object(24)\n",
      "memory usage: 1.8+ MB\n"
     ]
    }
   ],
   "source": [
    "df.info()"
   ]
  },
  {
   "cell_type": "code",
   "execution_count": 9,
   "id": "eeab62db",
   "metadata": {},
   "outputs": [
    {
     "data": {
      "text/plain": [
       "CustomerID             0\n",
       "Count                  0\n",
       "Country                0\n",
       "State                  0\n",
       "City                   0\n",
       "ZipCode                0\n",
       "LatLong                0\n",
       "Latitude               0\n",
       "Longitude              0\n",
       "Gender                 0\n",
       "SeniorCitizen          0\n",
       "Partner                0\n",
       "Dependents             0\n",
       "TenureMonths           0\n",
       "PhoneService           0\n",
       "MultipleLines          0\n",
       "InternetService        0\n",
       "OnlineSecurity         0\n",
       "OnlineBackup           0\n",
       "DeviceProtection       0\n",
       "TechSupport            0\n",
       "StreamingTV            0\n",
       "Streaming Movies       0\n",
       "Contract               0\n",
       "PaperlessBilling       0\n",
       "PaymentMethod          0\n",
       "MonthlyCharges         0\n",
       "TotalCharges           0\n",
       "ChurnLabel             0\n",
       "ChurnValue             0\n",
       "ChurnScore             0\n",
       "CLTV                   0\n",
       "ChurnReason         5174\n",
       "dtype: int64"
      ]
     },
     "execution_count": 9,
     "metadata": {},
     "output_type": "execute_result"
    }
   ],
   "source": [
    "df.isnull().sum()"
   ]
  },
  {
   "cell_type": "code",
   "execution_count": 10,
   "id": "6ca11a4d",
   "metadata": {},
   "outputs": [
    {
     "data": {
      "image/png": "[encoded data removed]",
      "text/plain": [
       "<Figure size 432x288 with 2 Axes>"
      ]
     },
     "metadata": {
      "needs_background": "light"
     },
     "output_type": "display_data"
    }
   ],
   "source": [
    "corr=df.corr()\n",
    "mapp=sns.heatmap(corr)"
   ]
  },
  {
   "cell_type": "code",
   "execution_count": 11,
   "id": "b4048760",
   "metadata": {},
   "outputs": [
    {
     "data": {
      "text/plain": [
       "0    5174\n",
       "1    1869\n",
       "Name: ChurnValue, dtype: int64"
      ]
     },
     "execution_count": 11,
     "metadata": {},
     "output_type": "execute_result"
    }
   ],
   "source": [
    "df.ChurnValue.value_counts()"
   ]
  },
  {
   "cell_type": "code",
   "execution_count": 12,
   "id": "6c876afd",
   "metadata": {},
   "outputs": [
    {
     "data": {
      "text/plain": [
       "(7043, 33)"
      ]
     },
     "execution_count": 12,
     "metadata": {},
     "output_type": "execute_result"
    }
   ],
   "source": [
    "df.shape"
   ]
  },
  {
   "cell_type": "code",
   "execution_count": 13,
   "id": "cfb7ea15",
   "metadata": {},
   "outputs": [
    {
     "data": {
      "text/plain": [
       "Index(['CustomerID', 'Count', 'Country', 'State', 'City', 'ZipCode', 'LatLong',\n",
       "       'Latitude', 'Longitude', 'Gender', 'SeniorCitizen', 'Partner',\n",
       "       'Dependents', 'TenureMonths', 'PhoneService', 'MultipleLines',\n",
       "       'InternetService', 'OnlineSecurity', 'OnlineBackup', 'DeviceProtection',\n",
       "       'TechSupport', 'StreamingTV', 'Streaming Movies', 'Contract',\n",
       "       'PaperlessBilling', 'PaymentMethod', 'MonthlyCharges', 'TotalCharges',\n",
       "       'ChurnLabel', 'ChurnValue', 'ChurnScore', 'CLTV', 'ChurnReason'],\n",
       "      dtype='object')"
      ]
     },
     "execution_count": 13,
     "metadata": {},
     "output_type": "execute_result"
    }
   ],
   "source": [
    "columns=df.columns\n",
    "columns"
   ]
  },
  {
   "cell_type": "code",
   "execution_count": 14,
   "id": "b5d3c91b",
   "metadata": {},
   "outputs": [],
   "source": [
    "binary_cols=[]\n",
    "for col in columns:\n",
    "    if df[col].value_counts().shape[0]==2:\n",
    "        binary_cols.append(col)"
   ]
  },
  {
   "cell_type": "code",
   "execution_count": 15,
   "id": "7035a28d",
   "metadata": {},
   "outputs": [
    {
     "data": {
      "text/plain": [
       "['Gender',\n",
       " 'SeniorCitizen',\n",
       " 'Partner',\n",
       " 'Dependents',\n",
       " 'PhoneService',\n",
       " 'PaperlessBilling',\n",
       " 'ChurnLabel',\n",
       " 'ChurnValue']"
      ]
     },
     "execution_count": 15,
     "metadata": {},
     "output_type": "execute_result"
    }
   ],
   "source": [
    "binary_cols"
   ]
  },
  {
   "cell_type": "code",
   "execution_count": 16,
   "id": "12946e4b",
   "metadata": {},
   "outputs": [
    {
     "data": {
      "text/plain": [
       "array([[<AxesSubplot:title={'center':'Count'}>,\n",
       "        <AxesSubplot:title={'center':'ZipCode'}>,\n",
       "        <AxesSubplot:title={'center':'Latitude'}>],\n",
       "       [<AxesSubplot:title={'center':'Longitude'}>,\n",
       "        <AxesSubplot:title={'center':'TenureMonths'}>,\n",
       "        <AxesSubplot:title={'center':'MonthlyCharges'}>],\n",
       "       [<AxesSubplot:title={'center':'ChurnValue'}>,\n",
       "        <AxesSubplot:title={'center':'ChurnScore'}>,\n",
       "        <AxesSubplot:title={'center':'CLTV'}>]], dtype=object)"
      ]
     },
     "execution_count": 16,
     "metadata": {},
     "output_type": "execute_result"
    },
    {
     "data": {
      "image/png": "[encoded data removed]",
      "text/plain": [
       "<Figure size 720x648 with 9 Axes>"
      ]
     },
     "metadata": {
      "needs_background": "light"
     },
     "output_type": "display_data"
    }
   ],
   "source": [
    "df.hist(figsize=(10,9))"
   ]
  },
  {
   "cell_type": "code",
   "execution_count": 17,
   "id": "ec38e6b4",
   "metadata": {},
   "outputs": [
    {
     "data": {
      "text/plain": [
       "['Gender',\n",
       " 'SeniorCitizen',\n",
       " 'Partner',\n",
       " 'Dependents',\n",
       " 'PhoneService',\n",
       " 'PaperlessBilling',\n",
       " 'ChurnLabel',\n",
       " 'ChurnValue']"
      ]
     },
     "execution_count": 17,
     "metadata": {},
     "output_type": "execute_result"
    }
   ],
   "source": [
    "['Gender',\n",
    " 'SeniorCitizen',\n",
    " 'Partner',\n",
    " 'Dependents',\n",
    " 'PhoneService',\n",
    " 'PaperlessBilling',\n",
    " 'ChurnLabel',\n",
    " 'ChurnValue']"
   ]
  },
  {
   "cell_type": "code",
   "execution_count": 18,
   "id": "3274c1b2",
   "metadata": {},
   "outputs": [
    {
     "name": "stderr",
     "output_type": "stream",
     "text": [
      "/home/hrugvedb/.local/lib/python3.6/site-packages/seaborn/_decorators.py:43: FutureWarning: Pass the following variable as a keyword arg: x. From version 0.12, the only valid positional argument will be `data`, and passing other arguments without an explicit keyword will result in an error or misinterpretation.\n",
      "  FutureWarning\n",
      "/home/hrugvedb/.local/lib/python3.6/site-packages/seaborn/_decorators.py:43: FutureWarning: Pass the following variable as a keyword arg: x. From version 0.12, the only valid positional argument will be `data`, and passing other arguments without an explicit keyword will result in an error or misinterpretation.\n",
      "  FutureWarning\n",
      "/home/hrugvedb/.local/lib/python3.6/site-packages/seaborn/_decorators.py:43: FutureWarning: Pass the following variable as a keyword arg: x. From version 0.12, the only valid positional argument will be `data`, and passing other arguments without an explicit keyword will result in an error or misinterpretation.\n",
      "  FutureWarning\n",
      "/home/hrugvedb/.local/lib/python3.6/site-packages/seaborn/_decorators.py:43: FutureWarning: Pass the following variable as a keyword arg: x. From version 0.12, the only valid positional argument will be `data`, and passing other arguments without an explicit keyword will result in an error or misinterpretation.\n",
      "  FutureWarning\n",
      "/home/hrugvedb/.local/lib/python3.6/site-packages/seaborn/_decorators.py:43: FutureWarning: Pass the following variable as a keyword arg: x. From version 0.12, the only valid positional argument will be `data`, and passing other arguments without an explicit keyword will result in an error or misinterpretation.\n",
      "  FutureWarning\n",
      "/home/hrugvedb/.local/lib/python3.6/site-packages/seaborn/_decorators.py:43: FutureWarning: Pass the following variable as a keyword arg: x. From version 0.12, the only valid positional argument will be `data`, and passing other arguments without an explicit keyword will result in an error or misinterpretation.\n",
      "  FutureWarning\n",
      "/home/hrugvedb/.local/lib/python3.6/site-packages/seaborn/_decorators.py:43: FutureWarning: Pass the following variable as a keyword arg: x. From version 0.12, the only valid positional argument will be `data`, and passing other arguments without an explicit keyword will result in an error or misinterpretation.\n",
      "  FutureWarning\n",
      "/home/hrugvedb/.local/lib/python3.6/site-packages/seaborn/_decorators.py:43: FutureWarning: Pass the following variable as a keyword arg: x. From version 0.12, the only valid positional argument will be `data`, and passing other arguments without an explicit keyword will result in an error or misinterpretation.\n",
      "  FutureWarning\n"
     ]
    },
    {
     "data": {
      "text/plain": [
       "<AxesSubplot:xlabel='ChurnValue', ylabel='count'>"
      ]
     },
     "execution_count": 18,
     "metadata": {},
     "output_type": "execute_result"
    },
    {
     "data": {
      "image/png": "[encoded data removed]",
      "text/plain": [
       "<Figure size 1080x1008 with 8 Axes>"
      ]
     },
     "metadata": {
      "needs_background": "light"
     },
     "output_type": "display_data"
    }
   ],
   "source": [
    "fig,axes=plt.subplots(4,2,figsize=(15,14))\n",
    "sns.countplot(\"Gender\",data=df,ax=axes[0,0])\n",
    "sns.countplot(\"SeniorCitizen\",data=df,ax=axes[0,1])\n",
    "sns.countplot(\"Partner\",data=df,ax=axes[1,0])\n",
    "sns.countplot(\"Dependents\",data=df,ax=axes[1,1])\n",
    "sns.countplot(\"PhoneService\",data=df,ax=axes[2,1])\n",
    "sns.countplot(\"PaperlessBilling\",data=df,ax=axes[3,1])\n",
    "sns.countplot(\"ChurnLabel\",data=df,ax=axes[2,0])\n",
    "sns.countplot(\"ChurnValue\",data=df,ax=axes[3,0])"
   ]
  },
  {
   "cell_type": "code",
   "execution_count": 19,
   "id": "942739e8",
   "metadata": {},
   "outputs": [
    {
     "data": {
      "text/html": [
       "<div>\n",
       "<style scoped>\n",
       "    .dataframe tbody tr th:only-of-type {\n",
       "        vertical-align: middle;\n",
       "    }\n",
       "\n",
       "    .dataframe tbody tr th {\n",
       "        vertical-align: top;\n",
       "    }\n",
       "\n",
       "    .dataframe thead th {\n",
       "        text-align: right;\n",
       "    }\n",
       "</style>\n",
       "<table border=\"1\" class=\"dataframe\">\n",
       "  <thead>\n",
       "    <tr style=\"text-align: right;\">\n",
       "      <th></th>\n",
       "      <th>ChurnValue</th>\n",
       "    </tr>\n",
       "    <tr>\n",
       "      <th>Gender</th>\n",
       "      <th></th>\n",
       "    </tr>\n",
       "  </thead>\n",
       "  <tbody>\n",
       "    <tr>\n",
       "      <th>Female</th>\n",
       "      <td>0.269209</td>\n",
       "    </tr>\n",
       "    <tr>\n",
       "      <th>Male</th>\n",
       "      <td>0.261603</td>\n",
       "    </tr>\n",
       "  </tbody>\n",
       "</table>\n",
       "</div>"
      ],
      "text/plain": [
       "        ChurnValue\n",
       "Gender            \n",
       "Female    0.269209\n",
       "Male      0.261603"
      ]
     },
     "execution_count": 19,
     "metadata": {},
     "output_type": "execute_result"
    }
   ],
   "source": [
    "df[['Gender','ChurnValue']].groupby(['Gender']).mean()"
   ]
  },
  {
   "cell_type": "code",
   "execution_count": 20,
   "id": "c0801524",
   "metadata": {},
   "outputs": [
    {
     "data": {
      "text/html": [
       "<div>\n",
       "<style scoped>\n",
       "    .dataframe tbody tr th:only-of-type {\n",
       "        vertical-align: middle;\n",
       "    }\n",
       "\n",
       "    .dataframe tbody tr th {\n",
       "        vertical-align: top;\n",
       "    }\n",
       "\n",
       "    .dataframe thead th {\n",
       "        text-align: right;\n",
       "    }\n",
       "</style>\n",
       "<table border=\"1\" class=\"dataframe\">\n",
       "  <thead>\n",
       "    <tr style=\"text-align: right;\">\n",
       "      <th></th>\n",
       "      <th>ChurnValue</th>\n",
       "    </tr>\n",
       "    <tr>\n",
       "      <th>SeniorCitizen</th>\n",
       "      <th></th>\n",
       "    </tr>\n",
       "  </thead>\n",
       "  <tbody>\n",
       "    <tr>\n",
       "      <th>No</th>\n",
       "      <td>0.236062</td>\n",
       "    </tr>\n",
       "    <tr>\n",
       "      <th>Yes</th>\n",
       "      <td>0.416813</td>\n",
       "    </tr>\n",
       "  </tbody>\n",
       "</table>\n",
       "</div>"
      ],
      "text/plain": [
       "               ChurnValue\n",
       "SeniorCitizen            \n",
       "No               0.236062\n",
       "Yes              0.416813"
      ]
     },
     "execution_count": 20,
     "metadata": {},
     "output_type": "execute_result"
    }
   ],
   "source": [
    "df[['SeniorCitizen','ChurnValue']].groupby(['SeniorCitizen']).mean()"
   ]
  },
  {
   "cell_type": "code",
   "execution_count": 21,
   "id": "e06822ab",
   "metadata": {},
   "outputs": [
    {
     "data": {
      "text/plain": [
       "['Gender',\n",
       " 'SeniorCitizen',\n",
       " 'Partner',\n",
       " 'Dependents',\n",
       " 'PhoneService',\n",
       " 'PaperlessBilling',\n",
       " 'ChurnLabel',\n",
       " 'ChurnValue']"
      ]
     },
     "execution_count": 21,
     "metadata": {},
     "output_type": "execute_result"
    }
   ],
   "source": [
    "binary_cols"
   ]
  },
  {
   "cell_type": "code",
   "execution_count": 22,
   "id": "813e3d2f",
   "metadata": {},
   "outputs": [
    {
     "data": {
      "text/plain": [
       "Index(['CustomerID', 'Count', 'Country', 'State', 'City', 'ZipCode', 'LatLong',\n",
       "       'Latitude', 'Longitude', 'Gender', 'SeniorCitizen', 'Partner',\n",
       "       'Dependents', 'TenureMonths', 'PhoneService', 'MultipleLines',\n",
       "       'InternetService', 'OnlineSecurity', 'OnlineBackup', 'DeviceProtection',\n",
       "       'TechSupport', 'StreamingTV', 'Streaming Movies', 'Contract',\n",
       "       'PaperlessBilling', 'PaymentMethod', 'MonthlyCharges', 'TotalCharges',\n",
       "       'ChurnLabel', 'ChurnValue', 'ChurnScore', 'CLTV', 'ChurnReason'],\n",
       "      dtype='object')"
      ]
     },
     "execution_count": 22,
     "metadata": {},
     "output_type": "execute_result"
    }
   ],
   "source": [
    "df.columns"
   ]
  },
  {
   "cell_type": "code",
   "execution_count": 23,
   "id": "9c756751",
   "metadata": {},
   "outputs": [
    {
     "ename": "AttributeError",
     "evalue": "'DataFrame' object has no attribute 'columnsbinary_cols'",
     "output_type": "error",
     "traceback": [
      "\u001b[0;31m---------------------------------------------------------------------------\u001b[0m",
      "\u001b[0;31mAttributeError\u001b[0m                            Traceback (most recent call last)",
      "\u001b[0;32m<ipython-input-23-10d53e13de65>\u001b[0m in \u001b[0;36m<module>\u001b[0;34m\u001b[0m\n\u001b[0;32m----> 1\u001b[0;31m \u001b[0mdf\u001b[0m\u001b[0;34m.\u001b[0m\u001b[0mcolumnsbinary_cols\u001b[0m\u001b[0;34m\u001b[0m\u001b[0;34m\u001b[0m\u001b[0m\n\u001b[0m",
      "\u001b[0;32m~/.local/lib/python3.6/site-packages/pandas/core/generic.py\u001b[0m in \u001b[0;36m__getattr__\u001b[0;34m(self, name)\u001b[0m\n\u001b[1;32m   5139\u001b[0m             \u001b[0;32mif\u001b[0m \u001b[0mself\u001b[0m\u001b[0;34m.\u001b[0m\u001b[0m_info_axis\u001b[0m\u001b[0;34m.\u001b[0m\u001b[0m_can_hold_identifiers_and_holds_name\u001b[0m\u001b[0;34m(\u001b[0m\u001b[0mname\u001b[0m\u001b[0;34m)\u001b[0m\u001b[0;34m:\u001b[0m\u001b[0;34m\u001b[0m\u001b[0;34m\u001b[0m\u001b[0m\n\u001b[1;32m   5140\u001b[0m                 \u001b[0;32mreturn\u001b[0m \u001b[0mself\u001b[0m\u001b[0;34m[\u001b[0m\u001b[0mname\u001b[0m\u001b[0;34m]\u001b[0m\u001b[0;34m\u001b[0m\u001b[0;34m\u001b[0m\u001b[0m\n\u001b[0;32m-> 5141\u001b[0;31m             \u001b[0;32mreturn\u001b[0m \u001b[0mobject\u001b[0m\u001b[0;34m.\u001b[0m\u001b[0m__getattribute__\u001b[0m\u001b[0;34m(\u001b[0m\u001b[0mself\u001b[0m\u001b[0;34m,\u001b[0m \u001b[0mname\u001b[0m\u001b[0;34m)\u001b[0m\u001b[0;34m\u001b[0m\u001b[0;34m\u001b[0m\u001b[0m\n\u001b[0m\u001b[1;32m   5142\u001b[0m \u001b[0;34m\u001b[0m\u001b[0m\n\u001b[1;32m   5143\u001b[0m     \u001b[0;32mdef\u001b[0m \u001b[0m__setattr__\u001b[0m\u001b[0;34m(\u001b[0m\u001b[0mself\u001b[0m\u001b[0;34m,\u001b[0m \u001b[0mname\u001b[0m\u001b[0;34m:\u001b[0m \u001b[0mstr\u001b[0m\u001b[0;34m,\u001b[0m \u001b[0mvalue\u001b[0m\u001b[0;34m)\u001b[0m \u001b[0;34m->\u001b[0m \u001b[0;32mNone\u001b[0m\u001b[0;34m:\u001b[0m\u001b[0;34m\u001b[0m\u001b[0;34m\u001b[0m\u001b[0m\n",
      "\u001b[0;31mAttributeError\u001b[0m: 'DataFrame' object has no attribute 'columnsbinary_cols'"
     ]
    }
   ],
   "source": [
    "df.columnsbinary_cols"
   ]
  },
  {
   "cell_type": "code",
   "execution_count": 24,
   "id": "23e3f19d",
   "metadata": {},
   "outputs": [],
   "source": [
    "non_binary= [col for col in df.columns if col not in binary_cols]\n"
   ]
  },
  {
   "cell_type": "code",
   "execution_count": 25,
   "id": "5f517a6b",
   "metadata": {},
   "outputs": [
    {
     "data": {
      "text/plain": [
       "['CustomerID',\n",
       " 'Count',\n",
       " 'Country',\n",
       " 'State',\n",
       " 'City',\n",
       " 'ZipCode',\n",
       " 'LatLong',\n",
       " 'Latitude',\n",
       " 'Longitude',\n",
       " 'TenureMonths',\n",
       " 'MultipleLines',\n",
       " 'InternetService',\n",
       " 'OnlineSecurity',\n",
       " 'OnlineBackup',\n",
       " 'DeviceProtection',\n",
       " 'TechSupport',\n",
       " 'StreamingTV',\n",
       " 'Streaming Movies',\n",
       " 'Contract',\n",
       " 'PaymentMethod',\n",
       " 'MonthlyCharges',\n",
       " 'TotalCharges',\n",
       " 'ChurnScore',\n",
       " 'CLTV',\n",
       " 'ChurnReason']"
      ]
     },
     "execution_count": 25,
     "metadata": {},
     "output_type": "execute_result"
    }
   ],
   "source": [
    "non_binary"
   ]
  },
  {
   "cell_type": "code",
   "execution_count": 26,
   "id": "669275d8",
   "metadata": {},
   "outputs": [],
   "source": [
    "non_binary_cols = [col for col in df.columns if col not in binary_cols]\n",
    "non_binary_df = df[non_binary_cols]\n"
   ]
  },
  {
   "cell_type": "code",
   "execution_count": 27,
   "id": "15aef95a",
   "metadata": {},
   "outputs": [
    {
     "name": "stdout",
     "output_type": "stream",
     "text": [
      "<class 'pandas.core.frame.DataFrame'>\n",
      "RangeIndex: 7043 entries, 0 to 7042\n",
      "Data columns (total 25 columns):\n",
      " #   Column            Non-Null Count  Dtype  \n",
      "---  ------            --------------  -----  \n",
      " 0   CustomerID        7043 non-null   object \n",
      " 1   Count             7043 non-null   int64  \n",
      " 2   Country           7043 non-null   object \n",
      " 3   State             7043 non-null   object \n",
      " 4   City              7043 non-null   object \n",
      " 5   ZipCode           7043 non-null   int64  \n",
      " 6   LatLong           7043 non-null   object \n",
      " 7   Latitude          7043 non-null   float64\n",
      " 8   Longitude         7043 non-null   float64\n",
      " 9   TenureMonths      7043 non-null   int64  \n",
      " 10  MultipleLines     7043 non-null   object \n",
      " 11  InternetService   7043 non-null   object \n",
      " 12  OnlineSecurity    7043 non-null   object \n",
      " 13  OnlineBackup      7043 non-null   object \n",
      " 14  DeviceProtection  7043 non-null   object \n",
      " 15  TechSupport       7043 non-null   object \n",
      " 16  StreamingTV       7043 non-null   object \n",
      " 17  Streaming Movies  7043 non-null   object \n",
      " 18  Contract          7043 non-null   object \n",
      " 19  PaymentMethod     7043 non-null   object \n",
      " 20  MonthlyCharges    7043 non-null   float64\n",
      " 21  TotalCharges      7043 non-null   object \n",
      " 22  ChurnScore        7043 non-null   int64  \n",
      " 23  CLTV              7043 non-null   int64  \n",
      " 24  ChurnReason       1869 non-null   object \n",
      "dtypes: float64(3), int64(5), object(17)\n",
      "memory usage: 1.3+ MB\n"
     ]
    }
   ],
   "source": [
    "non_binary_df.info()"
   ]
  },
  {
   "cell_type": "code",
   "execution_count": 28,
   "id": "1ab9bd8a",
   "metadata": {},
   "outputs": [
    {
     "name": "stderr",
     "output_type": "stream",
     "text": [
      "/home/hrugvedb/.local/lib/python3.6/site-packages/seaborn/_decorators.py:43: FutureWarning: Pass the following variable as a keyword arg: x. From version 0.12, the only valid positional argument will be `data`, and passing other arguments without an explicit keyword will result in an error or misinterpretation.\n",
      "  FutureWarning\n"
     ]
    },
    {
     "data": {
      "text/plain": [
       "<AxesSubplot:xlabel='Country', ylabel='count'>"
      ]
     },
     "execution_count": 28,
     "metadata": {},
     "output_type": "execute_result"
    },
    {
     "data": {
      "image/png": "[encoded data removed]",
      "text/plain": [
       "<Figure size 432x288 with 1 Axes>"
      ]
     },
     "metadata": {
      "needs_background": "light"
     },
     "output_type": "display_data"
    }
   ],
   "source": [
    "sns.countplot(\"Country\",data=df)"
   ]
  },
  {
   "cell_type": "code",
   "execution_count": 29,
   "id": "04260cdd",
   "metadata": {},
   "outputs": [
    {
     "name": "stderr",
     "output_type": "stream",
     "text": [
      "/home/hrugvedb/.local/lib/python3.6/site-packages/seaborn/_decorators.py:43: FutureWarning: Pass the following variable as a keyword arg: x. From version 0.12, the only valid positional argument will be `data`, and passing other arguments without an explicit keyword will result in an error or misinterpretation.\n",
      "  FutureWarning\n"
     ]
    },
    {
     "data": {
      "text/plain": [
       "<AxesSubplot:xlabel='City', ylabel='count'>"
      ]
     },
     "execution_count": 29,
     "metadata": {},
     "output_type": "execute_result"
    },
    {
     "data": {
      "image/png": "[encoded data removed]",
      "text/plain": [
       "<Figure size 432x288 with 1 Axes>"
      ]
     },
     "metadata": {
      "needs_background": "light"
     },
     "output_type": "display_data"
    }
   ],
   "source": [
    "sns.countplot(\"City\",data=df)"
   ]
  },
  {
   "cell_type": "code",
   "execution_count": 30,
   "id": "ea652459",
   "metadata": {},
   "outputs": [
    {
     "data": {
      "text/plain": [
       "<bound method Series.sum of Los Angeles      305\n",
       "San Diego        150\n",
       "San Jose         112\n",
       "Sacramento       108\n",
       "San Francisco    104\n",
       "                ... \n",
       "Dinuba             4\n",
       "Folsom             4\n",
       "Bass Lake          4\n",
       "Lucerne            4\n",
       "Sierraville        4\n",
       "Name: City, Length: 1129, dtype: int64>"
      ]
     },
     "execution_count": 30,
     "metadata": {},
     "output_type": "execute_result"
    }
   ],
   "source": [
    "df['City'].value_counts().sum"
   ]
  },
  {
   "cell_type": "code",
   "execution_count": 31,
   "id": "7d9f20d4",
   "metadata": {},
   "outputs": [
    {
     "data": {
      "text/plain": [
       "<AxesSubplot:xlabel='PaymentMethod', ylabel='count'>"
      ]
     },
     "execution_count": 31,
     "metadata": {},
     "output_type": "execute_result"
    },
    {
     "data": {
      "image/png": "[encoded data removed]",
      "text/plain": [
       "<Figure size 720x648 with 1 Axes>"
      ]
     },
     "metadata": {
      "needs_background": "light"
     },
     "output_type": "display_data"
    }
   ],
   "source": [
    "plt.figure(figsize=(10,9))\n",
    "sns.countplot(x=\"PaymentMethod\", data=df)\n"
   ]
  },
  {
   "cell_type": "code",
   "execution_count": 32,
   "id": "64d9cab6",
   "metadata": {},
   "outputs": [
    {
     "data": {
      "text/plain": [
       "<AxesSubplot:xlabel='InternetService', ylabel='count'>"
      ]
     },
     "execution_count": 32,
     "metadata": {},
     "output_type": "execute_result"
    },
    {
     "data": {
      "image/png": "[encoded data removed]",
      "text/plain": [
       "<Figure size 720x648 with 1 Axes>"
      ]
     },
     "metadata": {
      "needs_background": "light"
     },
     "output_type": "display_data"
    }
   ],
   "source": [
    "plt.figure(figsize=(10,9))\n",
    "sns.countplot(x=\"InternetService\", data=df)\n"
   ]
  },
  {
   "cell_type": "code",
   "execution_count": 33,
   "id": "13eb98fe",
   "metadata": {},
   "outputs": [],
   "source": [
    "tripp_cols=[]\n",
    "for col in columns:\n",
    "    if df[col].value_counts().shape[0]==3:\n",
    "        tripp_cols.append(col)"
   ]
  },
  {
   "cell_type": "code",
   "execution_count": 34,
   "id": "9c312479",
   "metadata": {},
   "outputs": [
    {
     "data": {
      "text/plain": [
       "['MultipleLines',\n",
       " 'InternetService',\n",
       " 'OnlineSecurity',\n",
       " 'OnlineBackup',\n",
       " 'DeviceProtection',\n",
       " 'TechSupport',\n",
       " 'StreamingTV',\n",
       " 'Streaming Movies',\n",
       " 'Contract']"
      ]
     },
     "execution_count": 34,
     "metadata": {},
     "output_type": "execute_result"
    }
   ],
   "source": [
    " tripp_cols"
   ]
  },
  {
   "cell_type": "code",
   "execution_count": 35,
   "id": "d13e051c",
   "metadata": {},
   "outputs": [
    {
     "name": "stderr",
     "output_type": "stream",
     "text": [
      "/home/hrugvedb/.local/lib/python3.6/site-packages/seaborn/_decorators.py:43: FutureWarning: Pass the following variable as a keyword arg: x. From version 0.12, the only valid positional argument will be `data`, and passing other arguments without an explicit keyword will result in an error or misinterpretation.\n",
      "  FutureWarning\n",
      "/home/hrugvedb/.local/lib/python3.6/site-packages/seaborn/_decorators.py:43: FutureWarning: Pass the following variable as a keyword arg: x. From version 0.12, the only valid positional argument will be `data`, and passing other arguments without an explicit keyword will result in an error or misinterpretation.\n",
      "  FutureWarning\n",
      "/home/hrugvedb/.local/lib/python3.6/site-packages/seaborn/_decorators.py:43: FutureWarning: Pass the following variable as a keyword arg: x. From version 0.12, the only valid positional argument will be `data`, and passing other arguments without an explicit keyword will result in an error or misinterpretation.\n",
      "  FutureWarning\n",
      "/home/hrugvedb/.local/lib/python3.6/site-packages/seaborn/_decorators.py:43: FutureWarning: Pass the following variable as a keyword arg: x. From version 0.12, the only valid positional argument will be `data`, and passing other arguments without an explicit keyword will result in an error or misinterpretation.\n",
      "  FutureWarning\n",
      "/home/hrugvedb/.local/lib/python3.6/site-packages/seaborn/_decorators.py:43: FutureWarning: Pass the following variable as a keyword arg: x. From version 0.12, the only valid positional argument will be `data`, and passing other arguments without an explicit keyword will result in an error or misinterpretation.\n",
      "  FutureWarning\n",
      "/home/hrugvedb/.local/lib/python3.6/site-packages/seaborn/_decorators.py:43: FutureWarning: Pass the following variable as a keyword arg: x. From version 0.12, the only valid positional argument will be `data`, and passing other arguments without an explicit keyword will result in an error or misinterpretation.\n",
      "  FutureWarning\n",
      "/home/hrugvedb/.local/lib/python3.6/site-packages/seaborn/_decorators.py:43: FutureWarning: Pass the following variable as a keyword arg: x. From version 0.12, the only valid positional argument will be `data`, and passing other arguments without an explicit keyword will result in an error or misinterpretation.\n",
      "  FutureWarning\n",
      "/home/hrugvedb/.local/lib/python3.6/site-packages/seaborn/_decorators.py:43: FutureWarning: Pass the following variable as a keyword arg: x. From version 0.12, the only valid positional argument will be `data`, and passing other arguments without an explicit keyword will result in an error or misinterpretation.\n",
      "  FutureWarning\n",
      "/home/hrugvedb/.local/lib/python3.6/site-packages/seaborn/_decorators.py:43: FutureWarning: Pass the following variable as a keyword arg: x. From version 0.12, the only valid positional argument will be `data`, and passing other arguments without an explicit keyword will result in an error or misinterpretation.\n",
      "  FutureWarning\n"
     ]
    },
    {
     "data": {
      "text/plain": [
       "<AxesSubplot:xlabel='Contract', ylabel='count'>"
      ]
     },
     "execution_count": 35,
     "metadata": {},
     "output_type": "execute_result"
    },
    {
     "data": {
      "image/png": "[encoded data removed]",
      "text/plain": [
       "<Figure size 1152x1368 with 10 Axes>"
      ]
     },
     "metadata": {
      "needs_background": "light"
     },
     "output_type": "display_data"
    }
   ],
   "source": [
    "fig,axes=plt.subplots(5,2,figsize=(16,19))\n",
    "sns.countplot(\"MultipleLines\",data=df,ax=axes[0,0])\n",
    "sns.countplot(\"InternetService\",data=df,ax=axes[0,1])\n",
    "sns.countplot(\"OnlineSecurity\",data=df,ax=axes[1,0])\n",
    "sns.countplot(\"OnlineBackup\",data=df,ax=axes[1,1])\n",
    "sns.countplot(\"DeviceProtection\",data=df,ax=axes[2,1])\n",
    "sns.countplot(\"TechSupport\",data=df,ax=axes[3,1])\n",
    "sns.countplot(\"StreamingTV\",data=df,ax=axes[2,0])\n",
    "sns.countplot(\"Streaming Movies\",data=df,ax=axes[3,0])\n",
    "sns.countplot(\"Contract\",data=df,ax=axes[4,0])"
   ]
  },
  {
   "cell_type": "code",
   "execution_count": 36,
   "id": "b320fd8c",
   "metadata": {},
   "outputs": [
    {
     "data": {
      "image/png": "[encoded data removed]",
      "text/plain": [
       "<Figure size 432x288 with 2 Axes>"
      ]
     },
     "metadata": {
      "needs_background": "light"
     },
     "output_type": "display_data"
    }
   ],
   "source": [
    "\n",
    "mapp=sns.heatmap(corr)"
   ]
  },
  {
   "cell_type": "code",
   "execution_count": 35,
   "id": "c7fdabfe",
   "metadata": {},
   "outputs": [
    {
     "data": {
      "text/plain": [
       "['Gender',\n",
       " 'SeniorCitizen',\n",
       " 'Partner',\n",
       " 'Dependents',\n",
       " 'PhoneService',\n",
       " 'PaperlessBilling',\n",
       " 'ChurnLabel',\n",
       " 'ChurnValue']"
      ]
     },
     "execution_count": 35,
     "metadata": {},
     "output_type": "execute_result"
    }
   ],
   "source": [
    "binary_cols"
   ]
  },
  {
   "cell_type": "code",
   "execution_count": 37,
   "id": "7db7180f",
   "metadata": {},
   "outputs": [
    {
     "data": {
      "text/plain": [
       "['MultipleLines',\n",
       " 'InternetService',\n",
       " 'OnlineSecurity',\n",
       " 'OnlineBackup',\n",
       " 'DeviceProtection',\n",
       " 'TechSupport',\n",
       " 'StreamingTV',\n",
       " 'Streaming Movies',\n",
       " 'Contract']"
      ]
     },
     "execution_count": 37,
     "metadata": {},
     "output_type": "execute_result"
    }
   ],
   "source": [
    "tripp_cols"
   ]
  },
  {
   "cell_type": "code",
   "execution_count": 38,
   "id": "c65060b8",
   "metadata": {},
   "outputs": [],
   "source": [
    "quat_cols=[]\n",
    "for col in columns:\n",
    "    if df[col].value_counts().shape[0]==4:\n",
    "        quat_cols.append(col)"
   ]
  },
  {
   "cell_type": "code",
   "execution_count": 39,
   "id": "10d808c5",
   "metadata": {},
   "outputs": [
    {
     "data": {
      "text/plain": [
       "['PaymentMethod']"
      ]
     },
     "execution_count": 39,
     "metadata": {},
     "output_type": "execute_result"
    }
   ],
   "source": [
    "quat_cols"
   ]
  },
  {
   "cell_type": "code",
   "execution_count": 40,
   "id": "59af0dbd",
   "metadata": {},
   "outputs": [],
   "source": [
    "five_cols=[]\n",
    "for col in columns:\n",
    "    if df[col].value_counts().shape[0]==7:\n",
    "        five_cols.append(col)"
   ]
  },
  {
   "cell_type": "code",
   "execution_count": 41,
   "id": "b13b0d7e",
   "metadata": {},
   "outputs": [
    {
     "data": {
      "text/plain": [
       "[]"
      ]
     },
     "execution_count": 41,
     "metadata": {},
     "output_type": "execute_result"
    }
   ],
   "source": [
    "five_cols"
   ]
  },
  {
   "cell_type": "code",
   "execution_count": 42,
   "id": "5142b409",
   "metadata": {},
   "outputs": [],
   "source": [
    "df2=df.copy()"
   ]
  },
  {
   "cell_type": "code",
   "execution_count": 43,
   "id": "64ddd205",
   "metadata": {},
   "outputs": [
    {
     "name": "stdout",
     "output_type": "stream",
     "text": [
      "      CustomerID  Count        Country       State          City  ZipCode  \\\n",
      "0     3668-QPYBK      1  United States  California   Los Angeles    90003   \n",
      "1     9237-HQITU      1  United States  California   Los Angeles    90005   \n",
      "2     9305-CDSKC      1  United States  California   Los Angeles    90006   \n",
      "3     7892-POOKP      1  United States  California   Los Angeles    90010   \n",
      "4     0280-XJGEX      1  United States  California   Los Angeles    90015   \n",
      "...          ...    ...            ...         ...           ...      ...   \n",
      "7038  2569-WGERO      1  United States  California       Landers    92285   \n",
      "7039  6840-RESVB      1  United States  California      Adelanto    92301   \n",
      "7040  2234-XADUH      1  United States  California         Amboy    92304   \n",
      "7041  4801-JZAZL      1  United States  California  Angelus Oaks    92305   \n",
      "7042  3186-AJIEK      1  United States  California  Apple Valley    92308   \n",
      "\n",
      "                     LatLong   Latitude   Longitude  Gender  ...  \\\n",
      "0     33.964131, -118.272783  33.964131 -118.272783    Male  ...   \n",
      "1      34.059281, -118.30742  34.059281 -118.307420  Female  ...   \n",
      "2     34.048013, -118.293953  34.048013 -118.293953  Female  ...   \n",
      "3     34.062125, -118.315709  34.062125 -118.315709  Female  ...   \n",
      "4     34.039224, -118.266293  34.039224 -118.266293    Male  ...   \n",
      "...                      ...        ...         ...     ...  ...   \n",
      "7038  34.341737, -116.539416  34.341737 -116.539416  Female  ...   \n",
      "7039  34.667815, -117.536183  34.667815 -117.536183    Male  ...   \n",
      "7040  34.559882, -115.637164  34.559882 -115.637164  Female  ...   \n",
      "7041     34.1678, -116.86433  34.167800 -116.864330  Female  ...   \n",
      "7042  34.424926, -117.184503  34.424926 -117.184503    Male  ...   \n",
      "\n",
      "     MonthlyCharges TotalCharges ChurnLabel  ChurnValue ChurnScore  CLTV  \\\n",
      "0             53.85       108.15        Yes           1         86  3239   \n",
      "1             70.70       151.65        Yes           1         67  2701   \n",
      "2             99.65        820.5        Yes           1         86  5372   \n",
      "3            104.80      3046.05        Yes           1         84  5003   \n",
      "4            103.70       5036.3        Yes           1         89  5340   \n",
      "...             ...          ...        ...         ...        ...   ...   \n",
      "7038          21.15       1419.4         No           0         45  5306   \n",
      "7039          84.80       1990.5         No           0         59  2140   \n",
      "7040         103.20       7362.9         No           0         71  5560   \n",
      "7041          29.60       346.45         No           0         59  2793   \n",
      "7042         105.65       6844.5         No           0         38  5097   \n",
      "\n",
      "                        ChurnReason Contract_Month-to-month Contract_One year  \\\n",
      "0      Competitor made better offer                       1                 0   \n",
      "1                             Moved                       1                 0   \n",
      "2                             Moved                       1                 0   \n",
      "3                             Moved                       1                 0   \n",
      "4     Competitor had better devices                       1                 0   \n",
      "...                             ...                     ...               ...   \n",
      "7038                            NaN                       0                 0   \n",
      "7039                            NaN                       0                 1   \n",
      "7040                            NaN                       0                 1   \n",
      "7041                            NaN                       1                 0   \n",
      "7042                            NaN                       0                 0   \n",
      "\n",
      "     Contract_Two year  \n",
      "0                    0  \n",
      "1                    0  \n",
      "2                    0  \n",
      "3                    0  \n",
      "4                    0  \n",
      "...                ...  \n",
      "7038                 1  \n",
      "7039                 0  \n",
      "7040                 0  \n",
      "7041                 0  \n",
      "7042                 1  \n",
      "\n",
      "[7043 rows x 35 columns]\n"
     ]
    }
   ],
   "source": [
    "df = pd.get_dummies(df, columns=['Contract'])\n",
    "print(df)"
   ]
  },
  {
   "cell_type": "code",
   "execution_count": 44,
   "id": "403b1479",
   "metadata": {},
   "outputs": [
    {
     "data": {
      "text/html": [
       "<div>\n",
       "<style scoped>\n",
       "    .dataframe tbody tr th:only-of-type {\n",
       "        vertical-align: middle;\n",
       "    }\n",
       "\n",
       "    .dataframe tbody tr th {\n",
       "        vertical-align: top;\n",
       "    }\n",
       "\n",
       "    .dataframe thead th {\n",
       "        text-align: right;\n",
       "    }\n",
       "</style>\n",
       "<table border=\"1\" class=\"dataframe\">\n",
       "  <thead>\n",
       "    <tr style=\"text-align: right;\">\n",
       "      <th></th>\n",
       "      <th>Count</th>\n",
       "      <th>ZipCode</th>\n",
       "      <th>Latitude</th>\n",
       "      <th>Longitude</th>\n",
       "      <th>TenureMonths</th>\n",
       "      <th>MonthlyCharges</th>\n",
       "      <th>ChurnValue</th>\n",
       "      <th>ChurnScore</th>\n",
       "      <th>CLTV</th>\n",
       "      <th>Contract_Month-to-month</th>\n",
       "      <th>Contract_One year</th>\n",
       "      <th>Contract_Two year</th>\n",
       "    </tr>\n",
       "  </thead>\n",
       "  <tbody>\n",
       "    <tr>\n",
       "      <th>count</th>\n",
       "      <td>7043.0</td>\n",
       "      <td>7043.000000</td>\n",
       "      <td>7043.000000</td>\n",
       "      <td>7043.000000</td>\n",
       "      <td>7043.000000</td>\n",
       "      <td>7043.000000</td>\n",
       "      <td>7043.000000</td>\n",
       "      <td>7043.000000</td>\n",
       "      <td>7043.000000</td>\n",
       "      <td>7043.000000</td>\n",
       "      <td>7043.000000</td>\n",
       "      <td>7043.000000</td>\n",
       "    </tr>\n",
       "    <tr>\n",
       "      <th>mean</th>\n",
       "      <td>1.0</td>\n",
       "      <td>93521.964646</td>\n",
       "      <td>36.282441</td>\n",
       "      <td>-119.798880</td>\n",
       "      <td>32.371149</td>\n",
       "      <td>64.761692</td>\n",
       "      <td>0.265370</td>\n",
       "      <td>58.699418</td>\n",
       "      <td>4400.295755</td>\n",
       "      <td>0.550192</td>\n",
       "      <td>0.209144</td>\n",
       "      <td>0.240664</td>\n",
       "    </tr>\n",
       "    <tr>\n",
       "      <th>std</th>\n",
       "      <td>0.0</td>\n",
       "      <td>1865.794555</td>\n",
       "      <td>2.455723</td>\n",
       "      <td>2.157889</td>\n",
       "      <td>24.559481</td>\n",
       "      <td>30.090047</td>\n",
       "      <td>0.441561</td>\n",
       "      <td>21.525131</td>\n",
       "      <td>1183.057152</td>\n",
       "      <td>0.497510</td>\n",
       "      <td>0.406726</td>\n",
       "      <td>0.427517</td>\n",
       "    </tr>\n",
       "    <tr>\n",
       "      <th>min</th>\n",
       "      <td>1.0</td>\n",
       "      <td>90001.000000</td>\n",
       "      <td>32.555828</td>\n",
       "      <td>-124.301372</td>\n",
       "      <td>0.000000</td>\n",
       "      <td>18.250000</td>\n",
       "      <td>0.000000</td>\n",
       "      <td>5.000000</td>\n",
       "      <td>2003.000000</td>\n",
       "      <td>0.000000</td>\n",
       "      <td>0.000000</td>\n",
       "      <td>0.000000</td>\n",
       "    </tr>\n",
       "    <tr>\n",
       "      <th>25%</th>\n",
       "      <td>1.0</td>\n",
       "      <td>92102.000000</td>\n",
       "      <td>34.030915</td>\n",
       "      <td>-121.815412</td>\n",
       "      <td>9.000000</td>\n",
       "      <td>35.500000</td>\n",
       "      <td>0.000000</td>\n",
       "      <td>40.000000</td>\n",
       "      <td>3469.000000</td>\n",
       "      <td>0.000000</td>\n",
       "      <td>0.000000</td>\n",
       "      <td>0.000000</td>\n",
       "    </tr>\n",
       "    <tr>\n",
       "      <th>50%</th>\n",
       "      <td>1.0</td>\n",
       "      <td>93552.000000</td>\n",
       "      <td>36.391777</td>\n",
       "      <td>-119.730885</td>\n",
       "      <td>29.000000</td>\n",
       "      <td>70.350000</td>\n",
       "      <td>0.000000</td>\n",
       "      <td>61.000000</td>\n",
       "      <td>4527.000000</td>\n",
       "      <td>1.000000</td>\n",
       "      <td>0.000000</td>\n",
       "      <td>0.000000</td>\n",
       "    </tr>\n",
       "    <tr>\n",
       "      <th>75%</th>\n",
       "      <td>1.0</td>\n",
       "      <td>95351.000000</td>\n",
       "      <td>38.224869</td>\n",
       "      <td>-118.043237</td>\n",
       "      <td>55.000000</td>\n",
       "      <td>89.850000</td>\n",
       "      <td>1.000000</td>\n",
       "      <td>75.000000</td>\n",
       "      <td>5380.500000</td>\n",
       "      <td>1.000000</td>\n",
       "      <td>0.000000</td>\n",
       "      <td>0.000000</td>\n",
       "    </tr>\n",
       "    <tr>\n",
       "      <th>max</th>\n",
       "      <td>1.0</td>\n",
       "      <td>96161.000000</td>\n",
       "      <td>41.962127</td>\n",
       "      <td>-114.192901</td>\n",
       "      <td>72.000000</td>\n",
       "      <td>118.750000</td>\n",
       "      <td>1.000000</td>\n",
       "      <td>100.000000</td>\n",
       "      <td>6500.000000</td>\n",
       "      <td>1.000000</td>\n",
       "      <td>1.000000</td>\n",
       "      <td>1.000000</td>\n",
       "    </tr>\n",
       "  </tbody>\n",
       "</table>\n",
       "</div>"
      ],
      "text/plain": [
       "        Count       ZipCode     Latitude    Longitude  TenureMonths  \\\n",
       "count  7043.0   7043.000000  7043.000000  7043.000000   7043.000000   \n",
       "mean      1.0  93521.964646    36.282441  -119.798880     32.371149   \n",
       "std       0.0   1865.794555     2.455723     2.157889     24.559481   \n",
       "min       1.0  90001.000000    32.555828  -124.301372      0.000000   \n",
       "25%       1.0  92102.000000    34.030915  -121.815412      9.000000   \n",
       "50%       1.0  93552.000000    36.391777  -119.730885     29.000000   \n",
       "75%       1.0  95351.000000    38.224869  -118.043237     55.000000   \n",
       "max       1.0  96161.000000    41.962127  -114.192901     72.000000   \n",
       "\n",
       "       MonthlyCharges   ChurnValue   ChurnScore         CLTV  \\\n",
       "count     7043.000000  7043.000000  7043.000000  7043.000000   \n",
       "mean        64.761692     0.265370    58.699418  4400.295755   \n",
       "std         30.090047     0.441561    21.525131  1183.057152   \n",
       "min         18.250000     0.000000     5.000000  2003.000000   \n",
       "25%         35.500000     0.000000    40.000000  3469.000000   \n",
       "50%         70.350000     0.000000    61.000000  4527.000000   \n",
       "75%         89.850000     1.000000    75.000000  5380.500000   \n",
       "max        118.750000     1.000000   100.000000  6500.000000   \n",
       "\n",
       "       Contract_Month-to-month  Contract_One year  Contract_Two year  \n",
       "count              7043.000000        7043.000000        7043.000000  \n",
       "mean                  0.550192           0.209144           0.240664  \n",
       "std                   0.497510           0.406726           0.427517  \n",
       "min                   0.000000           0.000000           0.000000  \n",
       "25%                   0.000000           0.000000           0.000000  \n",
       "50%                   1.000000           0.000000           0.000000  \n",
       "75%                   1.000000           0.000000           0.000000  \n",
       "max                   1.000000           1.000000           1.000000  "
      ]
     },
     "execution_count": 44,
     "metadata": {},
     "output_type": "execute_result"
    }
   ],
   "source": [
    "df.describe()"
   ]
  },
  {
   "cell_type": "code",
   "execution_count": 45,
   "id": "5f99729e",
   "metadata": {},
   "outputs": [
    {
     "name": "stdout",
     "output_type": "stream",
     "text": [
      "<class 'pandas.core.frame.DataFrame'>\n",
      "RangeIndex: 7043 entries, 0 to 7042\n",
      "Data columns (total 35 columns):\n",
      " #   Column                   Non-Null Count  Dtype  \n",
      "---  ------                   --------------  -----  \n",
      " 0   CustomerID               7043 non-null   object \n",
      " 1   Count                    7043 non-null   int64  \n",
      " 2   Country                  7043 non-null   object \n",
      " 3   State                    7043 non-null   object \n",
      " 4   City                     7043 non-null   object \n",
      " 5   ZipCode                  7043 non-null   int64  \n",
      " 6   LatLong                  7043 non-null   object \n",
      " 7   Latitude                 7043 non-null   float64\n",
      " 8   Longitude                7043 non-null   float64\n",
      " 9   Gender                   7043 non-null   object \n",
      " 10  SeniorCitizen            7043 non-null   object \n",
      " 11  Partner                  7043 non-null   object \n",
      " 12  Dependents               7043 non-null   object \n",
      " 13  TenureMonths             7043 non-null   int64  \n",
      " 14  PhoneService             7043 non-null   object \n",
      " 15  MultipleLines            7043 non-null   object \n",
      " 16  InternetService          7043 non-null   object \n",
      " 17  OnlineSecurity           7043 non-null   object \n",
      " 18  OnlineBackup             7043 non-null   object \n",
      " 19  DeviceProtection         7043 non-null   object \n",
      " 20  TechSupport              7043 non-null   object \n",
      " 21  StreamingTV              7043 non-null   object \n",
      " 22  Streaming Movies         7043 non-null   object \n",
      " 23  PaperlessBilling         7043 non-null   object \n",
      " 24  PaymentMethod            7043 non-null   object \n",
      " 25  MonthlyCharges           7043 non-null   float64\n",
      " 26  TotalCharges             7043 non-null   object \n",
      " 27  ChurnLabel               7043 non-null   object \n",
      " 28  ChurnValue               7043 non-null   int64  \n",
      " 29  ChurnScore               7043 non-null   int64  \n",
      " 30  CLTV                     7043 non-null   int64  \n",
      " 31  ChurnReason              1869 non-null   object \n",
      " 32  Contract_Month-to-month  7043 non-null   uint8  \n",
      " 33  Contract_One year        7043 non-null   uint8  \n",
      " 34  Contract_Two year        7043 non-null   uint8  \n",
      "dtypes: float64(3), int64(6), object(23), uint8(3)\n",
      "memory usage: 1.7+ MB\n"
     ]
    }
   ],
   "source": [
    "df.info()"
   ]
  },
  {
   "cell_type": "code",
   "execution_count": 46,
   "id": "831f8c1b",
   "metadata": {},
   "outputs": [],
   "source": [
    "df.drop(['CustomerID','State',],axis=1,inplace=True)"
   ]
  },
  {
   "cell_type": "code",
   "execution_count": 47,
   "id": "0d399f82",
   "metadata": {},
   "outputs": [
    {
     "name": "stdout",
     "output_type": "stream",
     "text": [
      "<class 'pandas.core.frame.DataFrame'>\n",
      "RangeIndex: 7043 entries, 0 to 7042\n",
      "Data columns (total 33 columns):\n",
      " #   Column                   Non-Null Count  Dtype  \n",
      "---  ------                   --------------  -----  \n",
      " 0   Count                    7043 non-null   int64  \n",
      " 1   Country                  7043 non-null   object \n",
      " 2   City                     7043 non-null   object \n",
      " 3   ZipCode                  7043 non-null   int64  \n",
      " 4   LatLong                  7043 non-null   object \n",
      " 5   Latitude                 7043 non-null   float64\n",
      " 6   Longitude                7043 non-null   float64\n",
      " 7   Gender                   7043 non-null   object \n",
      " 8   SeniorCitizen            7043 non-null   object \n",
      " 9   Partner                  7043 non-null   object \n",
      " 10  Dependents               7043 non-null   object \n",
      " 11  TenureMonths             7043 non-null   int64  \n",
      " 12  PhoneService             7043 non-null   object \n",
      " 13  MultipleLines            7043 non-null   object \n",
      " 14  InternetService          7043 non-null   object \n",
      " 15  OnlineSecurity           7043 non-null   object \n",
      " 16  OnlineBackup             7043 non-null   object \n",
      " 17  DeviceProtection         7043 non-null   object \n",
      " 18  TechSupport              7043 non-null   object \n",
      " 19  StreamingTV              7043 non-null   object \n",
      " 20  Streaming Movies         7043 non-null   object \n",
      " 21  PaperlessBilling         7043 non-null   object \n",
      " 22  PaymentMethod            7043 non-null   object \n",
      " 23  MonthlyCharges           7043 non-null   float64\n",
      " 24  TotalCharges             7043 non-null   object \n",
      " 25  ChurnLabel               7043 non-null   object \n",
      " 26  ChurnValue               7043 non-null   int64  \n",
      " 27  ChurnScore               7043 non-null   int64  \n",
      " 28  CLTV                     7043 non-null   int64  \n",
      " 29  ChurnReason              1869 non-null   object \n",
      " 30  Contract_Month-to-month  7043 non-null   uint8  \n",
      " 31  Contract_One year        7043 non-null   uint8  \n",
      " 32  Contract_Two year        7043 non-null   uint8  \n",
      "dtypes: float64(3), int64(6), object(21), uint8(3)\n",
      "memory usage: 1.6+ MB\n"
     ]
    }
   ],
   "source": [
    "df.info()"
   ]
  },
  {
   "cell_type": "code",
   "execution_count": 48,
   "id": "b1c9c036",
   "metadata": {},
   "outputs": [],
   "source": [
    "df.drop(['ChurnLabel'],axis=1,inplace=True)"
   ]
  },
  {
   "cell_type": "code",
   "execution_count": 49,
   "id": "df266c75",
   "metadata": {},
   "outputs": [
    {
     "data": {
      "image/png": "[encoded data removed]",
      "text/plain": [
       "<Figure size 432x288 with 2 Axes>"
      ]
     },
     "metadata": {
      "needs_background": "light"
     },
     "output_type": "display_data"
    }
   ],
   "source": [
    "corr=df.corr()\n",
    "mapp=sns.heatmap(corr)"
   ]
  },
  {
   "cell_type": "code",
   "execution_count": null,
   "id": "8fd43576",
   "metadata": {},
   "outputs": [],
   "source": []
  },
  {
   "cell_type": "code",
   "execution_count": 50,
   "id": "3d3a8084",
   "metadata": {},
   "outputs": [],
   "source": [
    "# Convert 'Yes' to 1 and 'No' to 0\n",
    "df['SeniorCitizen'] = df['SeniorCitizen'].map({'Yes': 1, 'No': 0})\n"
   ]
  },
  {
   "cell_type": "code",
   "execution_count": 51,
   "id": "00700dc2",
   "metadata": {},
   "outputs": [
    {
     "data": {
      "text/plain": [
       "0       0\n",
       "1       0\n",
       "2       0\n",
       "3       0\n",
       "4       0\n",
       "       ..\n",
       "7038    0\n",
       "7039    0\n",
       "7040    0\n",
       "7041    0\n",
       "7042    0\n",
       "Name: SeniorCitizen, Length: 7043, dtype: int64"
      ]
     },
     "execution_count": 51,
     "metadata": {},
     "output_type": "execute_result"
    }
   ],
   "source": [
    "df['SeniorCitizen']"
   ]
  },
  {
   "cell_type": "code",
   "execution_count": 52,
   "id": "01f616bf",
   "metadata": {},
   "outputs": [],
   "source": [
    "df['Partner'] = df['Partner'].map({'Yes': 1, 'No': 0})"
   ]
  },
  {
   "cell_type": "code",
   "execution_count": 53,
   "id": "a8b80550",
   "metadata": {},
   "outputs": [],
   "source": [
    "df['Dependents'] = df['Dependents'].map({'Yes': 1, 'No': 0})"
   ]
  },
  {
   "cell_type": "code",
   "execution_count": 54,
   "id": "46a5fc39",
   "metadata": {},
   "outputs": [],
   "source": [
    "df['PhoneService'] = df['PhoneService'].map({'Yes': 1, 'No': 0})"
   ]
  },
  {
   "cell_type": "code",
   "execution_count": 55,
   "id": "80e80f0d",
   "metadata": {},
   "outputs": [
    {
     "name": "stdout",
     "output_type": "stream",
     "text": [
      "<class 'pandas.core.frame.DataFrame'>\n",
      "RangeIndex: 7043 entries, 0 to 7042\n",
      "Data columns (total 32 columns):\n",
      " #   Column                   Non-Null Count  Dtype  \n",
      "---  ------                   --------------  -----  \n",
      " 0   Count                    7043 non-null   int64  \n",
      " 1   Country                  7043 non-null   object \n",
      " 2   City                     7043 non-null   object \n",
      " 3   ZipCode                  7043 non-null   int64  \n",
      " 4   LatLong                  7043 non-null   object \n",
      " 5   Latitude                 7043 non-null   float64\n",
      " 6   Longitude                7043 non-null   float64\n",
      " 7   Gender                   7043 non-null   object \n",
      " 8   SeniorCitizen            7043 non-null   int64  \n",
      " 9   Partner                  7043 non-null   int64  \n",
      " 10  Dependents               7043 non-null   int64  \n",
      " 11  TenureMonths             7043 non-null   int64  \n",
      " 12  PhoneService             7043 non-null   int64  \n",
      " 13  MultipleLines            7043 non-null   object \n",
      " 14  InternetService          7043 non-null   object \n",
      " 15  OnlineSecurity           7043 non-null   object \n",
      " 16  OnlineBackup             7043 non-null   object \n",
      " 17  DeviceProtection         7043 non-null   object \n",
      " 18  TechSupport              7043 non-null   object \n",
      " 19  StreamingTV              7043 non-null   object \n",
      " 20  Streaming Movies         7043 non-null   object \n",
      " 21  PaperlessBilling         7043 non-null   object \n",
      " 22  PaymentMethod            7043 non-null   object \n",
      " 23  MonthlyCharges           7043 non-null   float64\n",
      " 24  TotalCharges             7043 non-null   object \n",
      " 25  ChurnValue               7043 non-null   int64  \n",
      " 26  ChurnScore               7043 non-null   int64  \n",
      " 27  CLTV                     7043 non-null   int64  \n",
      " 28  ChurnReason              1869 non-null   object \n",
      " 29  Contract_Month-to-month  7043 non-null   uint8  \n",
      " 30  Contract_One year        7043 non-null   uint8  \n",
      " 31  Contract_Two year        7043 non-null   uint8  \n",
      "dtypes: float64(3), int64(10), object(16), uint8(3)\n",
      "memory usage: 1.6+ MB\n"
     ]
    }
   ],
   "source": [
    "df.info()"
   ]
  },
  {
   "cell_type": "code",
   "execution_count": 56,
   "id": "fa6ced32",
   "metadata": {},
   "outputs": [],
   "source": [
    "df.drop(['LatLong'],axis=1,inplace=True)"
   ]
  },
  {
   "cell_type": "code",
   "execution_count": 57,
   "id": "20862465",
   "metadata": {},
   "outputs": [
    {
     "name": "stdout",
     "output_type": "stream",
     "text": [
      "<class 'pandas.core.frame.DataFrame'>\n",
      "RangeIndex: 7043 entries, 0 to 7042\n",
      "Data columns (total 31 columns):\n",
      " #   Column                   Non-Null Count  Dtype  \n",
      "---  ------                   --------------  -----  \n",
      " 0   Count                    7043 non-null   int64  \n",
      " 1   Country                  7043 non-null   object \n",
      " 2   City                     7043 non-null   object \n",
      " 3   ZipCode                  7043 non-null   int64  \n",
      " 4   Latitude                 7043 non-null   float64\n",
      " 5   Longitude                7043 non-null   float64\n",
      " 6   Gender                   7043 non-null   object \n",
      " 7   SeniorCitizen            7043 non-null   int64  \n",
      " 8   Partner                  7043 non-null   int64  \n",
      " 9   Dependents               7043 non-null   int64  \n",
      " 10  TenureMonths             7043 non-null   int64  \n",
      " 11  PhoneService             7043 non-null   int64  \n",
      " 12  MultipleLines            7043 non-null   object \n",
      " 13  InternetService          7043 non-null   object \n",
      " 14  OnlineSecurity           7043 non-null   object \n",
      " 15  OnlineBackup             7043 non-null   object \n",
      " 16  DeviceProtection         7043 non-null   object \n",
      " 17  TechSupport              7043 non-null   object \n",
      " 18  StreamingTV              7043 non-null   object \n",
      " 19  Streaming Movies         7043 non-null   object \n",
      " 20  PaperlessBilling         7043 non-null   object \n",
      " 21  PaymentMethod            7043 non-null   object \n",
      " 22  MonthlyCharges           7043 non-null   float64\n",
      " 23  TotalCharges             7043 non-null   object \n",
      " 24  ChurnValue               7043 non-null   int64  \n",
      " 25  ChurnScore               7043 non-null   int64  \n",
      " 26  CLTV                     7043 non-null   int64  \n",
      " 27  ChurnReason              1869 non-null   object \n",
      " 28  Contract_Month-to-month  7043 non-null   uint8  \n",
      " 29  Contract_One year        7043 non-null   uint8  \n",
      " 30  Contract_Two year        7043 non-null   uint8  \n",
      "dtypes: float64(3), int64(10), object(15), uint8(3)\n",
      "memory usage: 1.5+ MB\n"
     ]
    }
   ],
   "source": [
    "df.info()"
   ]
  },
  {
   "cell_type": "code",
   "execution_count": 58,
   "id": "675e9659",
   "metadata": {},
   "outputs": [
    {
     "data": {
      "text/plain": [
       "Attitude of support person                   192\n",
       "Competitor offered higher download speeds    189\n",
       "Competitor offered more data                 162\n",
       "Don't know                                   154\n",
       "Competitor made better offer                 140\n",
       "Attitude of service provider                 135\n",
       "Competitor had better devices                130\n",
       "Network reliability                          103\n",
       "Product dissatisfaction                      102\n",
       "Price too high                                98\n",
       "Service dissatisfaction                       89\n",
       "Lack of self-service on Website               88\n",
       "Extra data charges                            57\n",
       "Moved                                         53\n",
       "Lack of affordable download/upload speed      44\n",
       "Limited range of services                     44\n",
       "Long distance charges                         44\n",
       "Poor expertise of phone support               20\n",
       "Poor expertise of online support              19\n",
       "Deceased                                       6\n",
       "Name: ChurnReason, dtype: int64"
      ]
     },
     "execution_count": 58,
     "metadata": {},
     "output_type": "execute_result"
    }
   ],
   "source": [
    "df['ChurnReason'].value_counts()"
   ]
  },
  {
   "cell_type": "code",
   "execution_count": 59,
   "id": "1f9fb0e4",
   "metadata": {},
   "outputs": [
    {
     "data": {
      "text/plain": [
       "<AxesSubplot:xlabel='ChurnReason', ylabel='count'>"
      ]
     },
     "execution_count": 59,
     "metadata": {},
     "output_type": "execute_result"
    },
    {
     "data": {
      "image/png": "[encoded data removed]",
      "text/plain": [
       "<Figure size 432x288 with 1 Axes>"
      ]
     },
     "metadata": {
      "needs_background": "light"
     },
     "output_type": "display_data"
    }
   ],
   "source": [
    "import seaborn as sns\n",
    "\n",
    "sns.countplot(x='ChurnReason', data=df)\n",
    "\n"
   ]
  },
  {
   "cell_type": "code",
   "execution_count": 60,
   "id": "8e99f4a1",
   "metadata": {},
   "outputs": [
    {
     "data": {
      "text/html": [
       "<div>\n",
       "<style scoped>\n",
       "    .dataframe tbody tr th:only-of-type {\n",
       "        vertical-align: middle;\n",
       "    }\n",
       "\n",
       "    .dataframe tbody tr th {\n",
       "        vertical-align: top;\n",
       "    }\n",
       "\n",
       "    .dataframe thead th {\n",
       "        text-align: right;\n",
       "    }\n",
       "</style>\n",
       "<table border=\"1\" class=\"dataframe\">\n",
       "  <thead>\n",
       "    <tr style=\"text-align: right;\">\n",
       "      <th></th>\n",
       "      <th>Count</th>\n",
       "      <th>Country</th>\n",
       "      <th>City</th>\n",
       "      <th>ZipCode</th>\n",
       "      <th>Latitude</th>\n",
       "      <th>Longitude</th>\n",
       "      <th>Gender</th>\n",
       "      <th>SeniorCitizen</th>\n",
       "      <th>Partner</th>\n",
       "      <th>Dependents</th>\n",
       "      <th>...</th>\n",
       "      <th>PaymentMethod</th>\n",
       "      <th>MonthlyCharges</th>\n",
       "      <th>TotalCharges</th>\n",
       "      <th>ChurnValue</th>\n",
       "      <th>ChurnScore</th>\n",
       "      <th>CLTV</th>\n",
       "      <th>ChurnReason</th>\n",
       "      <th>Contract_Month-to-month</th>\n",
       "      <th>Contract_One year</th>\n",
       "      <th>Contract_Two year</th>\n",
       "    </tr>\n",
       "  </thead>\n",
       "  <tbody>\n",
       "    <tr>\n",
       "      <th>0</th>\n",
       "      <td>1</td>\n",
       "      <td>United States</td>\n",
       "      <td>Los Angeles</td>\n",
       "      <td>90003</td>\n",
       "      <td>33.964131</td>\n",
       "      <td>-118.272783</td>\n",
       "      <td>Male</td>\n",
       "      <td>0</td>\n",
       "      <td>0</td>\n",
       "      <td>0</td>\n",
       "      <td>...</td>\n",
       "      <td>Mailed check</td>\n",
       "      <td>53.85</td>\n",
       "      <td>108.15</td>\n",
       "      <td>1</td>\n",
       "      <td>86</td>\n",
       "      <td>3239</td>\n",
       "      <td>Competitor made better offer</td>\n",
       "      <td>1</td>\n",
       "      <td>0</td>\n",
       "      <td>0</td>\n",
       "    </tr>\n",
       "    <tr>\n",
       "      <th>1</th>\n",
       "      <td>1</td>\n",
       "      <td>United States</td>\n",
       "      <td>Los Angeles</td>\n",
       "      <td>90005</td>\n",
       "      <td>34.059281</td>\n",
       "      <td>-118.307420</td>\n",
       "      <td>Female</td>\n",
       "      <td>0</td>\n",
       "      <td>0</td>\n",
       "      <td>1</td>\n",
       "      <td>...</td>\n",
       "      <td>Electronic check</td>\n",
       "      <td>70.70</td>\n",
       "      <td>151.65</td>\n",
       "      <td>1</td>\n",
       "      <td>67</td>\n",
       "      <td>2701</td>\n",
       "      <td>Moved</td>\n",
       "      <td>1</td>\n",
       "      <td>0</td>\n",
       "      <td>0</td>\n",
       "    </tr>\n",
       "    <tr>\n",
       "      <th>2</th>\n",
       "      <td>1</td>\n",
       "      <td>United States</td>\n",
       "      <td>Los Angeles</td>\n",
       "      <td>90006</td>\n",
       "      <td>34.048013</td>\n",
       "      <td>-118.293953</td>\n",
       "      <td>Female</td>\n",
       "      <td>0</td>\n",
       "      <td>0</td>\n",
       "      <td>1</td>\n",
       "      <td>...</td>\n",
       "      <td>Electronic check</td>\n",
       "      <td>99.65</td>\n",
       "      <td>820.5</td>\n",
       "      <td>1</td>\n",
       "      <td>86</td>\n",
       "      <td>5372</td>\n",
       "      <td>Moved</td>\n",
       "      <td>1</td>\n",
       "      <td>0</td>\n",
       "      <td>0</td>\n",
       "    </tr>\n",
       "    <tr>\n",
       "      <th>3</th>\n",
       "      <td>1</td>\n",
       "      <td>United States</td>\n",
       "      <td>Los Angeles</td>\n",
       "      <td>90010</td>\n",
       "      <td>34.062125</td>\n",
       "      <td>-118.315709</td>\n",
       "      <td>Female</td>\n",
       "      <td>0</td>\n",
       "      <td>1</td>\n",
       "      <td>1</td>\n",
       "      <td>...</td>\n",
       "      <td>Electronic check</td>\n",
       "      <td>104.80</td>\n",
       "      <td>3046.05</td>\n",
       "      <td>1</td>\n",
       "      <td>84</td>\n",
       "      <td>5003</td>\n",
       "      <td>Moved</td>\n",
       "      <td>1</td>\n",
       "      <td>0</td>\n",
       "      <td>0</td>\n",
       "    </tr>\n",
       "    <tr>\n",
       "      <th>4</th>\n",
       "      <td>1</td>\n",
       "      <td>United States</td>\n",
       "      <td>Los Angeles</td>\n",
       "      <td>90015</td>\n",
       "      <td>34.039224</td>\n",
       "      <td>-118.266293</td>\n",
       "      <td>Male</td>\n",
       "      <td>0</td>\n",
       "      <td>0</td>\n",
       "      <td>1</td>\n",
       "      <td>...</td>\n",
       "      <td>Bank transfer (automatic)</td>\n",
       "      <td>103.70</td>\n",
       "      <td>5036.3</td>\n",
       "      <td>1</td>\n",
       "      <td>89</td>\n",
       "      <td>5340</td>\n",
       "      <td>Competitor had better devices</td>\n",
       "      <td>1</td>\n",
       "      <td>0</td>\n",
       "      <td>0</td>\n",
       "    </tr>\n",
       "    <tr>\n",
       "      <th>...</th>\n",
       "      <td>...</td>\n",
       "      <td>...</td>\n",
       "      <td>...</td>\n",
       "      <td>...</td>\n",
       "      <td>...</td>\n",
       "      <td>...</td>\n",
       "      <td>...</td>\n",
       "      <td>...</td>\n",
       "      <td>...</td>\n",
       "      <td>...</td>\n",
       "      <td>...</td>\n",
       "      <td>...</td>\n",
       "      <td>...</td>\n",
       "      <td>...</td>\n",
       "      <td>...</td>\n",
       "      <td>...</td>\n",
       "      <td>...</td>\n",
       "      <td>...</td>\n",
       "      <td>...</td>\n",
       "      <td>...</td>\n",
       "      <td>...</td>\n",
       "    </tr>\n",
       "    <tr>\n",
       "      <th>7038</th>\n",
       "      <td>1</td>\n",
       "      <td>United States</td>\n",
       "      <td>Landers</td>\n",
       "      <td>92285</td>\n",
       "      <td>34.341737</td>\n",
       "      <td>-116.539416</td>\n",
       "      <td>Female</td>\n",
       "      <td>0</td>\n",
       "      <td>0</td>\n",
       "      <td>0</td>\n",
       "      <td>...</td>\n",
       "      <td>Bank transfer (automatic)</td>\n",
       "      <td>21.15</td>\n",
       "      <td>1419.4</td>\n",
       "      <td>0</td>\n",
       "      <td>45</td>\n",
       "      <td>5306</td>\n",
       "      <td>NaN</td>\n",
       "      <td>0</td>\n",
       "      <td>0</td>\n",
       "      <td>1</td>\n",
       "    </tr>\n",
       "    <tr>\n",
       "      <th>7039</th>\n",
       "      <td>1</td>\n",
       "      <td>United States</td>\n",
       "      <td>Adelanto</td>\n",
       "      <td>92301</td>\n",
       "      <td>34.667815</td>\n",
       "      <td>-117.536183</td>\n",
       "      <td>Male</td>\n",
       "      <td>0</td>\n",
       "      <td>1</td>\n",
       "      <td>1</td>\n",
       "      <td>...</td>\n",
       "      <td>Mailed check</td>\n",
       "      <td>84.80</td>\n",
       "      <td>1990.5</td>\n",
       "      <td>0</td>\n",
       "      <td>59</td>\n",
       "      <td>2140</td>\n",
       "      <td>NaN</td>\n",
       "      <td>0</td>\n",
       "      <td>1</td>\n",
       "      <td>0</td>\n",
       "    </tr>\n",
       "    <tr>\n",
       "      <th>7040</th>\n",
       "      <td>1</td>\n",
       "      <td>United States</td>\n",
       "      <td>Amboy</td>\n",
       "      <td>92304</td>\n",
       "      <td>34.559882</td>\n",
       "      <td>-115.637164</td>\n",
       "      <td>Female</td>\n",
       "      <td>0</td>\n",
       "      <td>1</td>\n",
       "      <td>1</td>\n",
       "      <td>...</td>\n",
       "      <td>Credit card (automatic)</td>\n",
       "      <td>103.20</td>\n",
       "      <td>7362.9</td>\n",
       "      <td>0</td>\n",
       "      <td>71</td>\n",
       "      <td>5560</td>\n",
       "      <td>NaN</td>\n",
       "      <td>0</td>\n",
       "      <td>1</td>\n",
       "      <td>0</td>\n",
       "    </tr>\n",
       "    <tr>\n",
       "      <th>7041</th>\n",
       "      <td>1</td>\n",
       "      <td>United States</td>\n",
       "      <td>Angelus Oaks</td>\n",
       "      <td>92305</td>\n",
       "      <td>34.167800</td>\n",
       "      <td>-116.864330</td>\n",
       "      <td>Female</td>\n",
       "      <td>0</td>\n",
       "      <td>1</td>\n",
       "      <td>1</td>\n",
       "      <td>...</td>\n",
       "      <td>Electronic check</td>\n",
       "      <td>29.60</td>\n",
       "      <td>346.45</td>\n",
       "      <td>0</td>\n",
       "      <td>59</td>\n",
       "      <td>2793</td>\n",
       "      <td>NaN</td>\n",
       "      <td>1</td>\n",
       "      <td>0</td>\n",
       "      <td>0</td>\n",
       "    </tr>\n",
       "    <tr>\n",
       "      <th>7042</th>\n",
       "      <td>1</td>\n",
       "      <td>United States</td>\n",
       "      <td>Apple Valley</td>\n",
       "      <td>92308</td>\n",
       "      <td>34.424926</td>\n",
       "      <td>-117.184503</td>\n",
       "      <td>Male</td>\n",
       "      <td>0</td>\n",
       "      <td>0</td>\n",
       "      <td>0</td>\n",
       "      <td>...</td>\n",
       "      <td>Bank transfer (automatic)</td>\n",
       "      <td>105.65</td>\n",
       "      <td>6844.5</td>\n",
       "      <td>0</td>\n",
       "      <td>38</td>\n",
       "      <td>5097</td>\n",
       "      <td>NaN</td>\n",
       "      <td>0</td>\n",
       "      <td>0</td>\n",
       "      <td>1</td>\n",
       "    </tr>\n",
       "  </tbody>\n",
       "</table>\n",
       "<p>7043 rows × 31 columns</p>\n",
       "</div>"
      ],
      "text/plain": [
       "      Count        Country          City  ZipCode   Latitude   Longitude  \\\n",
       "0         1  United States   Los Angeles    90003  33.964131 -118.272783   \n",
       "1         1  United States   Los Angeles    90005  34.059281 -118.307420   \n",
       "2         1  United States   Los Angeles    90006  34.048013 -118.293953   \n",
       "3         1  United States   Los Angeles    90010  34.062125 -118.315709   \n",
       "4         1  United States   Los Angeles    90015  34.039224 -118.266293   \n",
       "...     ...            ...           ...      ...        ...         ...   \n",
       "7038      1  United States       Landers    92285  34.341737 -116.539416   \n",
       "7039      1  United States      Adelanto    92301  34.667815 -117.536183   \n",
       "7040      1  United States         Amboy    92304  34.559882 -115.637164   \n",
       "7041      1  United States  Angelus Oaks    92305  34.167800 -116.864330   \n",
       "7042      1  United States  Apple Valley    92308  34.424926 -117.184503   \n",
       "\n",
       "      Gender  SeniorCitizen  Partner  Dependents  ...  \\\n",
       "0       Male              0        0           0  ...   \n",
       "1     Female              0        0           1  ...   \n",
       "2     Female              0        0           1  ...   \n",
       "3     Female              0        1           1  ...   \n",
       "4       Male              0        0           1  ...   \n",
       "...      ...            ...      ...         ...  ...   \n",
       "7038  Female              0        0           0  ...   \n",
       "7039    Male              0        1           1  ...   \n",
       "7040  Female              0        1           1  ...   \n",
       "7041  Female              0        1           1  ...   \n",
       "7042    Male              0        0           0  ...   \n",
       "\n",
       "                  PaymentMethod  MonthlyCharges TotalCharges ChurnValue  \\\n",
       "0                  Mailed check           53.85       108.15          1   \n",
       "1              Electronic check           70.70       151.65          1   \n",
       "2              Electronic check           99.65        820.5          1   \n",
       "3              Electronic check          104.80      3046.05          1   \n",
       "4     Bank transfer (automatic)          103.70       5036.3          1   \n",
       "...                         ...             ...          ...        ...   \n",
       "7038  Bank transfer (automatic)           21.15       1419.4          0   \n",
       "7039               Mailed check           84.80       1990.5          0   \n",
       "7040    Credit card (automatic)          103.20       7362.9          0   \n",
       "7041           Electronic check           29.60       346.45          0   \n",
       "7042  Bank transfer (automatic)          105.65       6844.5          0   \n",
       "\n",
       "     ChurnScore  CLTV                    ChurnReason Contract_Month-to-month  \\\n",
       "0            86  3239   Competitor made better offer                       1   \n",
       "1            67  2701                          Moved                       1   \n",
       "2            86  5372                          Moved                       1   \n",
       "3            84  5003                          Moved                       1   \n",
       "4            89  5340  Competitor had better devices                       1   \n",
       "...         ...   ...                            ...                     ...   \n",
       "7038         45  5306                            NaN                       0   \n",
       "7039         59  2140                            NaN                       0   \n",
       "7040         71  5560                            NaN                       0   \n",
       "7041         59  2793                            NaN                       1   \n",
       "7042         38  5097                            NaN                       0   \n",
       "\n",
       "     Contract_One year Contract_Two year  \n",
       "0                    0                 0  \n",
       "1                    0                 0  \n",
       "2                    0                 0  \n",
       "3                    0                 0  \n",
       "4                    0                 0  \n",
       "...                ...               ...  \n",
       "7038                 0                 1  \n",
       "7039                 1                 0  \n",
       "7040                 1                 0  \n",
       "7041                 0                 0  \n",
       "7042                 0                 1  \n",
       "\n",
       "[7043 rows x 31 columns]"
      ]
     },
     "execution_count": 60,
     "metadata": {},
     "output_type": "execute_result"
    }
   ],
   "source": [
    "df.fillna(np.nan)\n"
   ]
  },
  {
   "cell_type": "code",
   "execution_count": 61,
   "id": "37b46324",
   "metadata": {},
   "outputs": [
    {
     "data": {
      "text/plain": [
       "Attitude of support person                   192\n",
       "Competitor offered higher download speeds    189\n",
       "Competitor offered more data                 162\n",
       "Don't know                                   154\n",
       "Competitor made better offer                 140\n",
       "Attitude of service provider                 135\n",
       "Competitor had better devices                130\n",
       "Network reliability                          103\n",
       "Product dissatisfaction                      102\n",
       "Price too high                                98\n",
       "Service dissatisfaction                       89\n",
       "Lack of self-service on Website               88\n",
       "Extra data charges                            57\n",
       "Moved                                         53\n",
       "Lack of affordable download/upload speed      44\n",
       "Limited range of services                     44\n",
       "Long distance charges                         44\n",
       "Poor expertise of phone support               20\n",
       "Poor expertise of online support              19\n",
       "Deceased                                       6\n",
       "Name: ChurnReason, dtype: int64"
      ]
     },
     "execution_count": 61,
     "metadata": {},
     "output_type": "execute_result"
    }
   ],
   "source": [
    "df['ChurnReason'].value_counts()"
   ]
  },
  {
   "cell_type": "code",
   "execution_count": 62,
   "id": "8bd83405",
   "metadata": {},
   "outputs": [
    {
     "data": {
      "text/plain": [
       "5174"
      ]
     },
     "execution_count": 62,
     "metadata": {},
     "output_type": "execute_result"
    }
   ],
   "source": [
    "df['ChurnReason'].isnull().sum()"
   ]
  },
  {
   "cell_type": "code",
   "execution_count": 63,
   "id": "a4c8fb09",
   "metadata": {},
   "outputs": [
    {
     "name": "stdout",
     "output_type": "stream",
     "text": [
      "<class 'pandas.core.frame.DataFrame'>\n",
      "RangeIndex: 7043 entries, 0 to 7042\n",
      "Data columns (total 31 columns):\n",
      " #   Column                   Non-Null Count  Dtype  \n",
      "---  ------                   --------------  -----  \n",
      " 0   Count                    7043 non-null   int64  \n",
      " 1   Country                  7043 non-null   object \n",
      " 2   City                     7043 non-null   object \n",
      " 3   ZipCode                  7043 non-null   int64  \n",
      " 4   Latitude                 7043 non-null   float64\n",
      " 5   Longitude                7043 non-null   float64\n",
      " 6   Gender                   7043 non-null   object \n",
      " 7   SeniorCitizen            7043 non-null   int64  \n",
      " 8   Partner                  7043 non-null   int64  \n",
      " 9   Dependents               7043 non-null   int64  \n",
      " 10  TenureMonths             7043 non-null   int64  \n",
      " 11  PhoneService             7043 non-null   int64  \n",
      " 12  MultipleLines            7043 non-null   object \n",
      " 13  InternetService          7043 non-null   object \n",
      " 14  OnlineSecurity           7043 non-null   object \n",
      " 15  OnlineBackup             7043 non-null   object \n",
      " 16  DeviceProtection         7043 non-null   object \n",
      " 17  TechSupport              7043 non-null   object \n",
      " 18  StreamingTV              7043 non-null   object \n",
      " 19  Streaming Movies         7043 non-null   object \n",
      " 20  PaperlessBilling         7043 non-null   object \n",
      " 21  PaymentMethod            7043 non-null   object \n",
      " 22  MonthlyCharges           7043 non-null   float64\n",
      " 23  TotalCharges             7043 non-null   object \n",
      " 24  ChurnValue               7043 non-null   int64  \n",
      " 25  ChurnScore               7043 non-null   int64  \n",
      " 26  CLTV                     7043 non-null   int64  \n",
      " 27  ChurnReason              1869 non-null   object \n",
      " 28  Contract_Month-to-month  7043 non-null   uint8  \n",
      " 29  Contract_One year        7043 non-null   uint8  \n",
      " 30  Contract_Two year        7043 non-null   uint8  \n",
      "dtypes: float64(3), int64(10), object(15), uint8(3)\n",
      "memory usage: 1.5+ MB\n"
     ]
    }
   ],
   "source": [
    "df.info()"
   ]
  },
  {
   "cell_type": "code",
   "execution_count": 64,
   "id": "0e642e74",
   "metadata": {},
   "outputs": [],
   "source": [
    "df.drop(['ChurnReason'],axis=1,inplace=True)"
   ]
  },
  {
   "cell_type": "code",
   "execution_count": 65,
   "id": "9b9848fb",
   "metadata": {},
   "outputs": [],
   "source": [
    "from sklearn.preprocessing import LabelEncoder\n",
    "\n",
    "le = LabelEncoder()\n",
    "\n",
    "# Fit the encoder to the categorical column\n",
    "le.fit(df['City'])\n",
    "\n",
    "# Transform the categorical column\n",
    "df['City'] = le.transform(df['City'])"
   ]
  },
  {
   "cell_type": "code",
   "execution_count": 66,
   "id": "8d6edc4d",
   "metadata": {},
   "outputs": [
    {
     "data": {
      "text/plain": [
       "0       562\n",
       "1       562\n",
       "2       562\n",
       "3       562\n",
       "4       562\n",
       "       ... \n",
       "7038    521\n",
       "7039      2\n",
       "7040     22\n",
       "7041     26\n",
       "7042     32\n",
       "Name: City, Length: 7043, dtype: int64"
      ]
     },
     "execution_count": 66,
     "metadata": {},
     "output_type": "execute_result"
    }
   ],
   "source": [
    "df['City']"
   ]
  },
  {
   "cell_type": "code",
   "execution_count": 67,
   "id": "6d7faf48",
   "metadata": {},
   "outputs": [],
   "source": [
    "le.fit(df['TotalCharges'])\n",
    "\n",
    "# Transform the categorical column\n",
    "df['TotalCharges'] = le.transform(df['TotalCharges'])"
   ]
  },
  {
   "cell_type": "code",
   "execution_count": 69,
   "id": "5c10076f",
   "metadata": {},
   "outputs": [],
   "source": [
    "df.drop(['Longitude'],axis=1,inplace=True) \n"
   ]
  },
  {
   "cell_type": "code",
   "execution_count": 70,
   "id": "3f923752",
   "metadata": {},
   "outputs": [
    {
     "ename": "KeyError",
     "evalue": "'Latitude'",
     "output_type": "error",
     "traceback": [
      "\u001b[0;31m---------------------------------------------------------------------------\u001b[0m",
      "\u001b[0;31mKeyError\u001b[0m                                  Traceback (most recent call last)",
      "\u001b[0;32m~/.local/lib/python3.6/site-packages/pandas/core/indexes/base.py\u001b[0m in \u001b[0;36mget_loc\u001b[0;34m(self, key, method, tolerance)\u001b[0m\n\u001b[1;32m   2897\u001b[0m             \u001b[0;32mtry\u001b[0m\u001b[0;34m:\u001b[0m\u001b[0;34m\u001b[0m\u001b[0;34m\u001b[0m\u001b[0m\n\u001b[0;32m-> 2898\u001b[0;31m                 \u001b[0;32mreturn\u001b[0m \u001b[0mself\u001b[0m\u001b[0;34m.\u001b[0m\u001b[0m_engine\u001b[0m\u001b[0;34m.\u001b[0m\u001b[0mget_loc\u001b[0m\u001b[0;34m(\u001b[0m\u001b[0mcasted_key\u001b[0m\u001b[0;34m)\u001b[0m\u001b[0;34m\u001b[0m\u001b[0;34m\u001b[0m\u001b[0m\n\u001b[0m\u001b[1;32m   2899\u001b[0m             \u001b[0;32mexcept\u001b[0m \u001b[0mKeyError\u001b[0m \u001b[0;32mas\u001b[0m \u001b[0merr\u001b[0m\u001b[0;34m:\u001b[0m\u001b[0;34m\u001b[0m\u001b[0;34m\u001b[0m\u001b[0m\n",
      "\u001b[0;32mpandas/_libs/index.pyx\u001b[0m in \u001b[0;36mpandas._libs.index.IndexEngine.get_loc\u001b[0;34m()\u001b[0m\n",
      "\u001b[0;32mpandas/_libs/index.pyx\u001b[0m in \u001b[0;36mpandas._libs.index.IndexEngine.get_loc\u001b[0;34m()\u001b[0m\n",
      "\u001b[0;32mpandas/_libs/hashtable_class_helper.pxi\u001b[0m in \u001b[0;36mpandas._libs.hashtable.PyObjectHashTable.get_item\u001b[0;34m()\u001b[0m\n",
      "\u001b[0;32mpandas/_libs/hashtable_class_helper.pxi\u001b[0m in \u001b[0;36mpandas._libs.hashtable.PyObjectHashTable.get_item\u001b[0;34m()\u001b[0m\n",
      "\u001b[0;31mKeyError\u001b[0m: 'Latitude'",
      "\nThe above exception was the direct cause of the following exception:\n",
      "\u001b[0;31mKeyError\u001b[0m                                  Traceback (most recent call last)",
      "\u001b[0;32m<ipython-input-70-0f6c47e9beda>\u001b[0m in \u001b[0;36m<module>\u001b[0;34m\u001b[0m\n\u001b[0;32m----> 1\u001b[0;31m \u001b[0mdf\u001b[0m\u001b[0;34m[\u001b[0m\u001b[0;34m'Latitude'\u001b[0m\u001b[0;34m]\u001b[0m\u001b[0;34m\u001b[0m\u001b[0;34m\u001b[0m\u001b[0m\n\u001b[0m",
      "\u001b[0;32m~/.local/lib/python3.6/site-packages/pandas/core/frame.py\u001b[0m in \u001b[0;36m__getitem__\u001b[0;34m(self, key)\u001b[0m\n\u001b[1;32m   2904\u001b[0m             \u001b[0;32mif\u001b[0m \u001b[0mself\u001b[0m\u001b[0;34m.\u001b[0m\u001b[0mcolumns\u001b[0m\u001b[0;34m.\u001b[0m\u001b[0mnlevels\u001b[0m \u001b[0;34m>\u001b[0m \u001b[0;36m1\u001b[0m\u001b[0;34m:\u001b[0m\u001b[0;34m\u001b[0m\u001b[0;34m\u001b[0m\u001b[0m\n\u001b[1;32m   2905\u001b[0m                 \u001b[0;32mreturn\u001b[0m \u001b[0mself\u001b[0m\u001b[0;34m.\u001b[0m\u001b[0m_getitem_multilevel\u001b[0m\u001b[0;34m(\u001b[0m\u001b[0mkey\u001b[0m\u001b[0;34m)\u001b[0m\u001b[0;34m\u001b[0m\u001b[0;34m\u001b[0m\u001b[0m\n\u001b[0;32m-> 2906\u001b[0;31m             \u001b[0mindexer\u001b[0m \u001b[0;34m=\u001b[0m \u001b[0mself\u001b[0m\u001b[0;34m.\u001b[0m\u001b[0mcolumns\u001b[0m\u001b[0;34m.\u001b[0m\u001b[0mget_loc\u001b[0m\u001b[0;34m(\u001b[0m\u001b[0mkey\u001b[0m\u001b[0;34m)\u001b[0m\u001b[0;34m\u001b[0m\u001b[0;34m\u001b[0m\u001b[0m\n\u001b[0m\u001b[1;32m   2907\u001b[0m             \u001b[0;32mif\u001b[0m \u001b[0mis_integer\u001b[0m\u001b[0;34m(\u001b[0m\u001b[0mindexer\u001b[0m\u001b[0;34m)\u001b[0m\u001b[0;34m:\u001b[0m\u001b[0;34m\u001b[0m\u001b[0;34m\u001b[0m\u001b[0m\n\u001b[1;32m   2908\u001b[0m                 \u001b[0mindexer\u001b[0m \u001b[0;34m=\u001b[0m \u001b[0;34m[\u001b[0m\u001b[0mindexer\u001b[0m\u001b[0;34m]\u001b[0m\u001b[0;34m\u001b[0m\u001b[0;34m\u001b[0m\u001b[0m\n",
      "\u001b[0;32m~/.local/lib/python3.6/site-packages/pandas/core/indexes/base.py\u001b[0m in \u001b[0;36mget_loc\u001b[0;34m(self, key, method, tolerance)\u001b[0m\n\u001b[1;32m   2898\u001b[0m                 \u001b[0;32mreturn\u001b[0m \u001b[0mself\u001b[0m\u001b[0;34m.\u001b[0m\u001b[0m_engine\u001b[0m\u001b[0;34m.\u001b[0m\u001b[0mget_loc\u001b[0m\u001b[0;34m(\u001b[0m\u001b[0mcasted_key\u001b[0m\u001b[0;34m)\u001b[0m\u001b[0;34m\u001b[0m\u001b[0;34m\u001b[0m\u001b[0m\n\u001b[1;32m   2899\u001b[0m             \u001b[0;32mexcept\u001b[0m \u001b[0mKeyError\u001b[0m \u001b[0;32mas\u001b[0m \u001b[0merr\u001b[0m\u001b[0;34m:\u001b[0m\u001b[0;34m\u001b[0m\u001b[0;34m\u001b[0m\u001b[0m\n\u001b[0;32m-> 2900\u001b[0;31m                 \u001b[0;32mraise\u001b[0m \u001b[0mKeyError\u001b[0m\u001b[0;34m(\u001b[0m\u001b[0mkey\u001b[0m\u001b[0;34m)\u001b[0m \u001b[0;32mfrom\u001b[0m \u001b[0merr\u001b[0m\u001b[0;34m\u001b[0m\u001b[0;34m\u001b[0m\u001b[0m\n\u001b[0m\u001b[1;32m   2901\u001b[0m \u001b[0;34m\u001b[0m\u001b[0m\n\u001b[1;32m   2902\u001b[0m         \u001b[0;32mif\u001b[0m \u001b[0mtolerance\u001b[0m \u001b[0;32mis\u001b[0m \u001b[0;32mnot\u001b[0m \u001b[0;32mNone\u001b[0m\u001b[0;34m:\u001b[0m\u001b[0;34m\u001b[0m\u001b[0;34m\u001b[0m\u001b[0m\n",
      "\u001b[0;31mKeyError\u001b[0m: 'Latitude'"
     ]
    }
   ],
   "source": [
    "df['Latitude']"
   ]
  },
  {
   "cell_type": "code",
   "execution_count": 71,
   "id": "bc5a5c67",
   "metadata": {},
   "outputs": [
    {
     "name": "stdout",
     "output_type": "stream",
     "text": [
      "<class 'pandas.core.frame.DataFrame'>\n",
      "RangeIndex: 7043 entries, 0 to 7042\n",
      "Data columns (total 28 columns):\n",
      " #   Column                   Non-Null Count  Dtype  \n",
      "---  ------                   --------------  -----  \n",
      " 0   Count                    7043 non-null   int64  \n",
      " 1   Country                  7043 non-null   object \n",
      " 2   City                     7043 non-null   int64  \n",
      " 3   ZipCode                  7043 non-null   int64  \n",
      " 4   Gender                   7043 non-null   object \n",
      " 5   SeniorCitizen            7043 non-null   int64  \n",
      " 6   Partner                  7043 non-null   int64  \n",
      " 7   Dependents               7043 non-null   int64  \n",
      " 8   TenureMonths             7043 non-null   int64  \n",
      " 9   PhoneService             7043 non-null   int64  \n",
      " 10  MultipleLines            7043 non-null   object \n",
      " 11  InternetService          7043 non-null   object \n",
      " 12  OnlineSecurity           7043 non-null   object \n",
      " 13  OnlineBackup             7043 non-null   object \n",
      " 14  DeviceProtection         7043 non-null   object \n",
      " 15  TechSupport              7043 non-null   object \n",
      " 16  StreamingTV              7043 non-null   object \n",
      " 17  Streaming Movies         7043 non-null   object \n",
      " 18  PaperlessBilling         7043 non-null   object \n",
      " 19  PaymentMethod            7043 non-null   object \n",
      " 20  MonthlyCharges           7043 non-null   float64\n",
      " 21  TotalCharges             7043 non-null   int64  \n",
      " 22  ChurnValue               7043 non-null   int64  \n",
      " 23  ChurnScore               7043 non-null   int64  \n",
      " 24  CLTV                     7043 non-null   int64  \n",
      " 25  Contract_Month-to-month  7043 non-null   uint8  \n",
      " 26  Contract_One year        7043 non-null   uint8  \n",
      " 27  Contract_Two year        7043 non-null   uint8  \n",
      "dtypes: float64(1), int64(12), object(12), uint8(3)\n",
      "memory usage: 1.4+ MB\n"
     ]
    }
   ],
   "source": [
    "df.info()"
   ]
  },
  {
   "cell_type": "code",
   "execution_count": 72,
   "id": "f797decd",
   "metadata": {},
   "outputs": [
    {
     "data": {
      "text/plain": [
       "0        53850.0\n",
       "1        70700.0\n",
       "2        99650.0\n",
       "3       104800.0\n",
       "4       103700.0\n",
       "          ...   \n",
       "7038     21150.0\n",
       "7039     84800.0\n",
       "7040    103200.0\n",
       "7041     29600.0\n",
       "7042    105650.0\n",
       "Name: MonthlyCharges, Length: 7043, dtype: float64"
      ]
     },
     "execution_count": 72,
     "metadata": {},
     "output_type": "execute_result"
    }
   ],
   "source": [
    "df['MonthlyCharges']*1000"
   ]
  },
  {
   "cell_type": "code",
   "execution_count": 73,
   "id": "21793089",
   "metadata": {},
   "outputs": [],
   "source": [
    "df['MonthlyCharges']=df['MonthlyCharges'].astype(int)"
   ]
  },
  {
   "cell_type": "code",
   "execution_count": 74,
   "id": "2555abf3",
   "metadata": {},
   "outputs": [
    {
     "data": {
      "text/plain": [
       "['MultipleLines',\n",
       " 'InternetService',\n",
       " 'OnlineSecurity',\n",
       " 'OnlineBackup',\n",
       " 'DeviceProtection',\n",
       " 'TechSupport',\n",
       " 'StreamingTV',\n",
       " 'Streaming Movies',\n",
       " 'Contract']"
      ]
     },
     "execution_count": 74,
     "metadata": {},
     "output_type": "execute_result"
    }
   ],
   "source": [
    "tripp_cols\n"
   ]
  },
  {
   "cell_type": "code",
   "execution_count": 75,
   "id": "42275fb7",
   "metadata": {},
   "outputs": [],
   "source": [
    "le.fit(df['PaymentMethod'])\n",
    "\n",
    "# Transform the categorical column\n",
    "df['PaymentMethod'] = le.transform(df['PaymentMethod'])"
   ]
  },
  {
   "cell_type": "code",
   "execution_count": 76,
   "id": "e09e4491",
   "metadata": {},
   "outputs": [],
   "source": [
    "le.fit(df['PaperlessBilling'])\n",
    "\n",
    "# Transform the categorical column\n",
    "df['PaperlessBilling'] = le.transform(df['PaperlessBilling'])"
   ]
  },
  {
   "cell_type": "code",
   "execution_count": 77,
   "id": "dabd1b6b",
   "metadata": {},
   "outputs": [
    {
     "name": "stdout",
     "output_type": "stream",
     "text": [
      "<class 'pandas.core.frame.DataFrame'>\n",
      "RangeIndex: 7043 entries, 0 to 7042\n",
      "Data columns (total 28 columns):\n",
      " #   Column                   Non-Null Count  Dtype \n",
      "---  ------                   --------------  ----- \n",
      " 0   Count                    7043 non-null   int64 \n",
      " 1   Country                  7043 non-null   object\n",
      " 2   City                     7043 non-null   int64 \n",
      " 3   ZipCode                  7043 non-null   int64 \n",
      " 4   Gender                   7043 non-null   object\n",
      " 5   SeniorCitizen            7043 non-null   int64 \n",
      " 6   Partner                  7043 non-null   int64 \n",
      " 7   Dependents               7043 non-null   int64 \n",
      " 8   TenureMonths             7043 non-null   int64 \n",
      " 9   PhoneService             7043 non-null   int64 \n",
      " 10  MultipleLines            7043 non-null   object\n",
      " 11  InternetService          7043 non-null   object\n",
      " 12  OnlineSecurity           7043 non-null   object\n",
      " 13  OnlineBackup             7043 non-null   object\n",
      " 14  DeviceProtection         7043 non-null   object\n",
      " 15  TechSupport              7043 non-null   object\n",
      " 16  StreamingTV              7043 non-null   object\n",
      " 17  Streaming Movies         7043 non-null   object\n",
      " 18  PaperlessBilling         7043 non-null   int64 \n",
      " 19  PaymentMethod            7043 non-null   int64 \n",
      " 20  MonthlyCharges           7043 non-null   int64 \n",
      " 21  TotalCharges             7043 non-null   int64 \n",
      " 22  ChurnValue               7043 non-null   int64 \n",
      " 23  ChurnScore               7043 non-null   int64 \n",
      " 24  CLTV                     7043 non-null   int64 \n",
      " 25  Contract_Month-to-month  7043 non-null   uint8 \n",
      " 26  Contract_One year        7043 non-null   uint8 \n",
      " 27  Contract_Two year        7043 non-null   uint8 \n",
      "dtypes: int64(15), object(10), uint8(3)\n",
      "memory usage: 1.4+ MB\n"
     ]
    }
   ],
   "source": [
    "df.info()"
   ]
  },
  {
   "cell_type": "code",
   "execution_count": 78,
   "id": "f991062b",
   "metadata": {},
   "outputs": [],
   "source": [
    "df['Gender']=df['Gender'].map({'Male':1,'Female':0})\n"
   ]
  },
  {
   "cell_type": "code",
   "execution_count": 80,
   "id": "7e898193",
   "metadata": {},
   "outputs": [
    {
     "data": {
      "text/plain": [
       "['MultipleLines',\n",
       " 'InternetService',\n",
       " 'OnlineSecurity',\n",
       " 'OnlineBackup',\n",
       " 'DeviceProtection',\n",
       " 'TechSupport',\n",
       " 'StreamingTV',\n",
       " 'Streaming Movies',\n",
       " 'Contract']"
      ]
     },
     "execution_count": 80,
     "metadata": {},
     "output_type": "execute_result"
    }
   ],
   "source": [
    "tripp_cols"
   ]
  },
  {
   "cell_type": "code",
   "execution_count": 79,
   "id": "36929d80",
   "metadata": {},
   "outputs": [
    {
     "name": "stdout",
     "output_type": "stream",
     "text": [
      "<class 'pandas.core.frame.DataFrame'>\n",
      "RangeIndex: 7043 entries, 0 to 7042\n",
      "Data columns (total 28 columns):\n",
      " #   Column                   Non-Null Count  Dtype \n",
      "---  ------                   --------------  ----- \n",
      " 0   Count                    7043 non-null   int64 \n",
      " 1   Country                  7043 non-null   object\n",
      " 2   City                     7043 non-null   int64 \n",
      " 3   ZipCode                  7043 non-null   int64 \n",
      " 4   Gender                   7043 non-null   int64 \n",
      " 5   SeniorCitizen            7043 non-null   int64 \n",
      " 6   Partner                  7043 non-null   int64 \n",
      " 7   Dependents               7043 non-null   int64 \n",
      " 8   TenureMonths             7043 non-null   int64 \n",
      " 9   PhoneService             7043 non-null   int64 \n",
      " 10  MultipleLines            7043 non-null   object\n",
      " 11  InternetService          7043 non-null   object\n",
      " 12  OnlineSecurity           7043 non-null   object\n",
      " 13  OnlineBackup             7043 non-null   object\n",
      " 14  DeviceProtection         7043 non-null   object\n",
      " 15  TechSupport              7043 non-null   object\n",
      " 16  StreamingTV              7043 non-null   object\n",
      " 17  Streaming Movies         7043 non-null   object\n",
      " 18  PaperlessBilling         7043 non-null   int64 \n",
      " 19  PaymentMethod            7043 non-null   int64 \n",
      " 20  MonthlyCharges           7043 non-null   int64 \n",
      " 21  TotalCharges             7043 non-null   int64 \n",
      " 22  ChurnValue               7043 non-null   int64 \n",
      " 23  ChurnScore               7043 non-null   int64 \n",
      " 24  CLTV                     7043 non-null   int64 \n",
      " 25  Contract_Month-to-month  7043 non-null   uint8 \n",
      " 26  Contract_One year        7043 non-null   uint8 \n",
      " 27  Contract_Two year        7043 non-null   uint8 \n",
      "dtypes: int64(16), object(9), uint8(3)\n",
      "memory usage: 1.4+ MB\n"
     ]
    }
   ],
   "source": [
    "df.info()"
   ]
  },
  {
   "cell_type": "code",
   "execution_count": 87,
   "id": "4a73fa54",
   "metadata": {},
   "outputs": [],
   "source": [
    "df = pd.get_dummies(df, columns=['TechSupport'])"
   ]
  },
  {
   "cell_type": "code",
   "execution_count": 90,
   "id": "0eda9c5f",
   "metadata": {
    "scrolled": false
   },
   "outputs": [
    {
     "name": "stdout",
     "output_type": "stream",
     "text": [
      "<class 'pandas.core.frame.DataFrame'>\n",
      "RangeIndex: 7043 entries, 0 to 7042\n",
      "Data columns (total 43 columns):\n",
      " #   Column                                Non-Null Count  Dtype\n",
      "---  ------                                --------------  -----\n",
      " 0   Count                                 7043 non-null   int64\n",
      " 1   City                                  7043 non-null   int64\n",
      " 2   ZipCode                               7043 non-null   int64\n",
      " 3   Gender                                7043 non-null   int64\n",
      " 4   SeniorCitizen                         7043 non-null   int64\n",
      " 5   Partner                               7043 non-null   int64\n",
      " 6   Dependents                            7043 non-null   int64\n",
      " 7   TenureMonths                          7043 non-null   int64\n",
      " 8   PhoneService                          7043 non-null   int64\n",
      " 9   PaperlessBilling                      7043 non-null   int64\n",
      " 10  PaymentMethod                         7043 non-null   int64\n",
      " 11  MonthlyCharges                        7043 non-null   int64\n",
      " 12  TotalCharges                          7043 non-null   int64\n",
      " 13  ChurnValue                            7043 non-null   int64\n",
      " 14  ChurnScore                            7043 non-null   int64\n",
      " 15  CLTV                                  7043 non-null   int64\n",
      " 16  Contract_Month-to-month               7043 non-null   uint8\n",
      " 17  Contract_One year                     7043 non-null   uint8\n",
      " 18  Contract_Two year                     7043 non-null   uint8\n",
      " 19  MultipleLines_No                      7043 non-null   uint8\n",
      " 20  MultipleLines_No phone service        7043 non-null   uint8\n",
      " 21  MultipleLines_Yes                     7043 non-null   uint8\n",
      " 22  InternetService_DSL                   7043 non-null   uint8\n",
      " 23  InternetService_Fiber optic           7043 non-null   uint8\n",
      " 24  InternetService_No                    7043 non-null   uint8\n",
      " 25  OnlineSecurity_No                     7043 non-null   uint8\n",
      " 26  OnlineSecurity_No internet service    7043 non-null   uint8\n",
      " 27  OnlineSecurity_Yes                    7043 non-null   uint8\n",
      " 28  Streaming Movies_No                   7043 non-null   uint8\n",
      " 29  Streaming Movies_No internet service  7043 non-null   uint8\n",
      " 30  Streaming Movies_Yes                  7043 non-null   uint8\n",
      " 31  StreamingTV_No                        7043 non-null   uint8\n",
      " 32  StreamingTV_No internet service       7043 non-null   uint8\n",
      " 33  StreamingTV_Yes                       7043 non-null   uint8\n",
      " 34  DeviceProtection_No                   7043 non-null   uint8\n",
      " 35  DeviceProtection_No internet service  7043 non-null   uint8\n",
      " 36  DeviceProtection_Yes                  7043 non-null   uint8\n",
      " 37  OnlineBackup_No                       7043 non-null   uint8\n",
      " 38  OnlineBackup_No internet service      7043 non-null   uint8\n",
      " 39  OnlineBackup_Yes                      7043 non-null   uint8\n",
      " 40  TechSupport_No                        7043 non-null   uint8\n",
      " 41  TechSupport_No internet service       7043 non-null   uint8\n",
      " 42  TechSupport_Yes                       7043 non-null   uint8\n",
      "dtypes: int64(16), uint8(27)\n",
      "memory usage: 1.0 MB\n"
     ]
    }
   ],
   "source": [
    "df.info()"
   ]
  },
  {
   "cell_type": "code",
   "execution_count": 91,
   "id": "85ed8860",
   "metadata": {},
   "outputs": [
    {
     "ename": "KeyError",
     "evalue": "\"['Country'] not found in axis\"",
     "output_type": "error",
     "traceback": [
      "\u001b[0;31m---------------------------------------------------------------------------\u001b[0m",
      "\u001b[0;31mKeyError\u001b[0m                                  Traceback (most recent call last)",
      "\u001b[0;32m<ipython-input-91-08d9ca1496d0>\u001b[0m in \u001b[0;36m<module>\u001b[0;34m\u001b[0m\n\u001b[0;32m----> 1\u001b[0;31m \u001b[0mdf\u001b[0m\u001b[0;34m.\u001b[0m\u001b[0mdrop\u001b[0m\u001b[0;34m(\u001b[0m\u001b[0;34m[\u001b[0m\u001b[0;34m'Country'\u001b[0m\u001b[0;34m]\u001b[0m\u001b[0;34m,\u001b[0m\u001b[0maxis\u001b[0m\u001b[0;34m=\u001b[0m\u001b[0;36m1\u001b[0m\u001b[0;34m,\u001b[0m\u001b[0minplace\u001b[0m\u001b[0;34m=\u001b[0m\u001b[0;32mTrue\u001b[0m\u001b[0;34m)\u001b[0m\u001b[0;34m\u001b[0m\u001b[0;34m\u001b[0m\u001b[0m\n\u001b[0m",
      "\u001b[0;32m~/.local/lib/python3.6/site-packages/pandas/core/frame.py\u001b[0m in \u001b[0;36mdrop\u001b[0;34m(self, labels, axis, index, columns, level, inplace, errors)\u001b[0m\n\u001b[1;32m   4172\u001b[0m             \u001b[0mlevel\u001b[0m\u001b[0;34m=\u001b[0m\u001b[0mlevel\u001b[0m\u001b[0;34m,\u001b[0m\u001b[0;34m\u001b[0m\u001b[0;34m\u001b[0m\u001b[0m\n\u001b[1;32m   4173\u001b[0m             \u001b[0minplace\u001b[0m\u001b[0;34m=\u001b[0m\u001b[0minplace\u001b[0m\u001b[0;34m,\u001b[0m\u001b[0;34m\u001b[0m\u001b[0;34m\u001b[0m\u001b[0m\n\u001b[0;32m-> 4174\u001b[0;31m             \u001b[0merrors\u001b[0m\u001b[0;34m=\u001b[0m\u001b[0merrors\u001b[0m\u001b[0;34m,\u001b[0m\u001b[0;34m\u001b[0m\u001b[0;34m\u001b[0m\u001b[0m\n\u001b[0m\u001b[1;32m   4175\u001b[0m         )\n\u001b[1;32m   4176\u001b[0m \u001b[0;34m\u001b[0m\u001b[0m\n",
      "\u001b[0;32m~/.local/lib/python3.6/site-packages/pandas/core/generic.py\u001b[0m in \u001b[0;36mdrop\u001b[0;34m(self, labels, axis, index, columns, level, inplace, errors)\u001b[0m\n\u001b[1;32m   3887\u001b[0m         \u001b[0;32mfor\u001b[0m \u001b[0maxis\u001b[0m\u001b[0;34m,\u001b[0m \u001b[0mlabels\u001b[0m \u001b[0;32min\u001b[0m \u001b[0maxes\u001b[0m\u001b[0;34m.\u001b[0m\u001b[0mitems\u001b[0m\u001b[0;34m(\u001b[0m\u001b[0;34m)\u001b[0m\u001b[0;34m:\u001b[0m\u001b[0;34m\u001b[0m\u001b[0;34m\u001b[0m\u001b[0m\n\u001b[1;32m   3888\u001b[0m             \u001b[0;32mif\u001b[0m \u001b[0mlabels\u001b[0m \u001b[0;32mis\u001b[0m \u001b[0;32mnot\u001b[0m \u001b[0;32mNone\u001b[0m\u001b[0;34m:\u001b[0m\u001b[0;34m\u001b[0m\u001b[0;34m\u001b[0m\u001b[0m\n\u001b[0;32m-> 3889\u001b[0;31m                 \u001b[0mobj\u001b[0m \u001b[0;34m=\u001b[0m \u001b[0mobj\u001b[0m\u001b[0;34m.\u001b[0m\u001b[0m_drop_axis\u001b[0m\u001b[0;34m(\u001b[0m\u001b[0mlabels\u001b[0m\u001b[0;34m,\u001b[0m \u001b[0maxis\u001b[0m\u001b[0;34m,\u001b[0m \u001b[0mlevel\u001b[0m\u001b[0;34m=\u001b[0m\u001b[0mlevel\u001b[0m\u001b[0;34m,\u001b[0m \u001b[0merrors\u001b[0m\u001b[0;34m=\u001b[0m\u001b[0merrors\u001b[0m\u001b[0;34m)\u001b[0m\u001b[0;34m\u001b[0m\u001b[0;34m\u001b[0m\u001b[0m\n\u001b[0m\u001b[1;32m   3890\u001b[0m \u001b[0;34m\u001b[0m\u001b[0m\n\u001b[1;32m   3891\u001b[0m         \u001b[0;32mif\u001b[0m \u001b[0minplace\u001b[0m\u001b[0;34m:\u001b[0m\u001b[0;34m\u001b[0m\u001b[0;34m\u001b[0m\u001b[0m\n",
      "\u001b[0;32m~/.local/lib/python3.6/site-packages/pandas/core/generic.py\u001b[0m in \u001b[0;36m_drop_axis\u001b[0;34m(self, labels, axis, level, errors)\u001b[0m\n\u001b[1;32m   3921\u001b[0m                 \u001b[0mnew_axis\u001b[0m \u001b[0;34m=\u001b[0m \u001b[0maxis\u001b[0m\u001b[0;34m.\u001b[0m\u001b[0mdrop\u001b[0m\u001b[0;34m(\u001b[0m\u001b[0mlabels\u001b[0m\u001b[0;34m,\u001b[0m \u001b[0mlevel\u001b[0m\u001b[0;34m=\u001b[0m\u001b[0mlevel\u001b[0m\u001b[0;34m,\u001b[0m \u001b[0merrors\u001b[0m\u001b[0;34m=\u001b[0m\u001b[0merrors\u001b[0m\u001b[0;34m)\u001b[0m\u001b[0;34m\u001b[0m\u001b[0;34m\u001b[0m\u001b[0m\n\u001b[1;32m   3922\u001b[0m             \u001b[0;32melse\u001b[0m\u001b[0;34m:\u001b[0m\u001b[0;34m\u001b[0m\u001b[0;34m\u001b[0m\u001b[0m\n\u001b[0;32m-> 3923\u001b[0;31m                 \u001b[0mnew_axis\u001b[0m \u001b[0;34m=\u001b[0m \u001b[0maxis\u001b[0m\u001b[0;34m.\u001b[0m\u001b[0mdrop\u001b[0m\u001b[0;34m(\u001b[0m\u001b[0mlabels\u001b[0m\u001b[0;34m,\u001b[0m \u001b[0merrors\u001b[0m\u001b[0;34m=\u001b[0m\u001b[0merrors\u001b[0m\u001b[0;34m)\u001b[0m\u001b[0;34m\u001b[0m\u001b[0;34m\u001b[0m\u001b[0m\n\u001b[0m\u001b[1;32m   3924\u001b[0m             \u001b[0mresult\u001b[0m \u001b[0;34m=\u001b[0m \u001b[0mself\u001b[0m\u001b[0;34m.\u001b[0m\u001b[0mreindex\u001b[0m\u001b[0;34m(\u001b[0m\u001b[0;34m**\u001b[0m\u001b[0;34m{\u001b[0m\u001b[0maxis_name\u001b[0m\u001b[0;34m:\u001b[0m \u001b[0mnew_axis\u001b[0m\u001b[0;34m}\u001b[0m\u001b[0;34m)\u001b[0m\u001b[0;34m\u001b[0m\u001b[0;34m\u001b[0m\u001b[0m\n\u001b[1;32m   3925\u001b[0m \u001b[0;34m\u001b[0m\u001b[0m\n",
      "\u001b[0;32m~/.local/lib/python3.6/site-packages/pandas/core/indexes/base.py\u001b[0m in \u001b[0;36mdrop\u001b[0;34m(self, labels, errors)\u001b[0m\n\u001b[1;32m   5285\u001b[0m         \u001b[0;32mif\u001b[0m \u001b[0mmask\u001b[0m\u001b[0;34m.\u001b[0m\u001b[0many\u001b[0m\u001b[0;34m(\u001b[0m\u001b[0;34m)\u001b[0m\u001b[0;34m:\u001b[0m\u001b[0;34m\u001b[0m\u001b[0;34m\u001b[0m\u001b[0m\n\u001b[1;32m   5286\u001b[0m             \u001b[0;32mif\u001b[0m \u001b[0merrors\u001b[0m \u001b[0;34m!=\u001b[0m \u001b[0;34m\"ignore\"\u001b[0m\u001b[0;34m:\u001b[0m\u001b[0;34m\u001b[0m\u001b[0;34m\u001b[0m\u001b[0m\n\u001b[0;32m-> 5287\u001b[0;31m                 \u001b[0;32mraise\u001b[0m \u001b[0mKeyError\u001b[0m\u001b[0;34m(\u001b[0m\u001b[0;34mf\"{labels[mask]} not found in axis\"\u001b[0m\u001b[0;34m)\u001b[0m\u001b[0;34m\u001b[0m\u001b[0;34m\u001b[0m\u001b[0m\n\u001b[0m\u001b[1;32m   5288\u001b[0m             \u001b[0mindexer\u001b[0m \u001b[0;34m=\u001b[0m \u001b[0mindexer\u001b[0m\u001b[0;34m[\u001b[0m\u001b[0;34m~\u001b[0m\u001b[0mmask\u001b[0m\u001b[0;34m]\u001b[0m\u001b[0;34m\u001b[0m\u001b[0;34m\u001b[0m\u001b[0m\n\u001b[1;32m   5289\u001b[0m         \u001b[0;32mreturn\u001b[0m \u001b[0mself\u001b[0m\u001b[0;34m.\u001b[0m\u001b[0mdelete\u001b[0m\u001b[0;34m(\u001b[0m\u001b[0mindexer\u001b[0m\u001b[0;34m)\u001b[0m\u001b[0;34m\u001b[0m\u001b[0;34m\u001b[0m\u001b[0m\n",
      "\u001b[0;31mKeyError\u001b[0m: \"['Country'] not found in axis\""
     ]
    }
   ],
   "source": [
    "df.drop(['Country'],axis=1,inplace=True)"
   ]
  },
  {
   "cell_type": "code",
   "execution_count": 92,
   "id": "da9ce15e",
   "metadata": {},
   "outputs": [],
   "source": [
    "y=df['ChurnValue']\n",
    "X=df.drop(['ChurnValue'],axis=1)\n",
    "X_train , X_test ,y_train,y_test=train_test_split(X,y,test_size=.35,random_state=42)"
   ]
  },
  {
   "cell_type": "code",
   "execution_count": 93,
   "id": "ef881662",
   "metadata": {},
   "outputs": [],
   "source": [
    "rfc=RandomForestClassifier(n_estimators=11,random_state=42)\n",
    "\n",
    "rfc.fit(X_train,y_train)\n",
    "\n",
    "y_pred=rfc.predict(X_test)"
   ]
  },
  {
   "cell_type": "code",
   "execution_count": 94,
   "id": "22f5b95e",
   "metadata": {},
   "outputs": [],
   "source": [
    "accu=accuracy_score(y_test,y_pred)\n",
    "classification_rep=classification_report(y_test,y_pred)"
   ]
  },
  {
   "cell_type": "code",
   "execution_count": 257,
   "id": "350b6e66",
   "metadata": {},
   "outputs": [
    {
     "name": "stdout",
     "output_type": "stream",
     "text": [
      "Accuracy:0.92\n",
      "\n",
      "the classification report:\n",
      "               precision    recall  f1-score   support\n",
      "\n",
      "           0       0.94      0.95      0.94      1789\n",
      "           1       0.87      0.83      0.85       677\n",
      "\n",
      "    accuracy                           0.92      2466\n",
      "   macro avg       0.90      0.89      0.90      2466\n",
      "weighted avg       0.92      0.92      0.92      2466\n",
      "\n"
     ]
    }
   ],
   "source": [
    "print(f\"Accuracy:{accu:.2f}\")\n",
    "print(\"\\nthe classification report:\\n\",classification_rep)"
   ]
  },
  {
   "cell_type": "code",
   "execution_count": null,
   "id": "f8f02aab",
   "metadata": {},
   "outputs": [],
   "source": []
  }
 ],
 "metadata": {
  "kernelspec": {
   "display_name": "Python 3",
   "language": "python",
   "name": "python3"
  },
  "language_info": {
   "codemirror_mode": {
    "name": "ipython",
    "version": 3
   },
   "file_extension": ".py",
   "mimetype": "text/x-python",
   "name": "python",
   "nbconvert_exporter": "python",
   "pygments_lexer": "ipython3",
   "version": "3.6.9"
  }
 },
 "nbformat": 4,
 "nbformat_minor": 5
}
