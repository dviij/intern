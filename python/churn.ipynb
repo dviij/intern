{
 "cells": [
  {
   "cell_type": "code",
   "execution_count": 401,
   "id": "49677393",
   "metadata": {},
   "outputs": [
    {
     "name": "stdout",
     "output_type": "stream",
     "text": [
      "Package                       Version\n",
      "----------------------------- --------------------\n",
      "absl-py                       2.1.0\n",
      "alabaster                     0.7.12\n",
      "anaconda-client               1.11.0\n",
      "anaconda-navigator            2.3.1\n",
      "anaconda-project              0.11.1\n",
      "anyio                         3.5.0\n",
      "appdirs                       1.4.4\n",
      "argon2-cffi                   21.3.0\n",
      "argon2-cffi-bindings          21.2.0\n",
      "arrow                         1.2.2\n",
      "astroid                       2.11.7\n",
      "astropy                       5.1\n",
      "astunparse                    1.6.3\n",
      "atomicwrites                  1.4.0\n",
      "attrs                         21.4.0\n",
      "Automat                       20.2.0\n",
      "autopep8                      1.6.0\n",
      "Babel                         2.9.1\n",
      "backcall                      0.2.0\n",
      "backports.functools-lru-cache 1.6.4\n",
      "backports.tempfile            1.0\n",
      "backports.weakref             1.0.post1\n",
      "bcrypt                        3.2.0\n",
      "beautifulsoup4                4.11.1\n",
      "binaryornot                   0.4.4\n",
      "bitarray                      2.5.1\n",
      "bkcharts                      0.2\n",
      "black                         22.6.0\n",
      "bleach                        4.1.0\n",
      "bokeh                         2.4.3\n",
      "boto3                         1.24.28\n",
      "botocore                      1.27.28\n",
      "Bottleneck                    1.3.5\n",
      "brotlipy                      0.7.0\n",
      "certifi                       2022.9.14\n",
      "cffi                          1.15.1\n",
      "chardet                       4.0.0\n",
      "charset-normalizer            2.0.4\n",
      "click                         8.0.4\n",
      "cloudpickle                   2.0.0\n",
      "clyent                        1.2.2\n",
      "colorama                      0.4.5\n",
      "colorcet                      3.0.0\n",
      "comtypes                      1.1.10\n",
      "conda                         22.9.0\n",
      "conda-build                   3.22.0\n",
      "conda-content-trust           0.1.3\n",
      "conda-pack                    0.6.0\n",
      "conda-package-handling        1.9.0\n",
      "conda-repo-cli                1.0.20\n",
      "conda-token                   0.4.0\n",
      "conda-verify                  3.4.2\n",
      "constantly                    15.1.0\n",
      "cookiecutter                  1.7.3\n",
      "cryptography                  37.0.1\n",
      "cssselect                     1.1.0\n",
      "cycler                        0.11.0\n",
      "Cython                        0.29.32\n",
      "cytoolz                       0.11.0\n",
      "daal4py                       2021.6.0\n",
      "dask                          2022.7.0\n",
      "datashader                    0.14.1\n",
      "datashape                     0.5.4\n",
      "debugpy                       1.5.1\n",
      "decorator                     5.1.1\n",
      "defusedxml                    0.7.1\n",
      "diff-match-patch              20200713\n",
      "dill                          0.3.4\n",
      "distributed                   2022.7.0\n",
      "docutils                      0.18.1\n",
      "entrypoints                   0.4\n",
      "et-xmlfile                    1.1.0\n",
      "fastjsonschema                2.16.2\n",
      "filelock                      3.6.0\n",
      "flake8                        4.0.1\n",
      "Flask                         1.1.2\n",
      "flatbuffers                   24.3.25\n",
      "fonttools                     4.25.0\n",
      "fsspec                        2022.7.1\n",
      "future                        0.18.2\n",
      "gast                          0.5.5\n",
      "gensim                        4.1.2\n",
      "glob2                         0.7\n",
      "google-pasta                  0.2.0\n",
      "greenlet                      1.1.1\n",
      "grpcio                        1.64.1\n",
      "h5py                          3.11.0\n",
      "HeapDict                      1.0.1\n",
      "holoviews                     1.15.0\n",
      "hvplot                        0.8.0\n",
      "hyperlink                     21.0.0\n",
      "idna                          3.3\n",
      "imagecodecs                   2021.8.26\n",
      "imageio                       2.19.3\n",
      "imagesize                     1.4.1\n",
      "imbalanced-learn              0.12.3\n",
      "importlib-metadata            4.11.3\n",
      "incremental                   21.3.0\n",
      "inflection                    0.5.1\n",
      "iniconfig                     1.1.1\n",
      "intake                        0.6.5\n",
      "intervaltree                  3.1.0\n",
      "ipykernel                     6.15.2\n",
      "ipython                       7.31.1\n",
      "ipython-genutils              0.2.0\n",
      "ipywidgets                    7.6.5\n",
      "isort                         5.9.3\n",
      "itemadapter                   0.3.0\n",
      "itemloaders                   1.0.4\n",
      "itsdangerous                  2.0.1\n",
      "jdcal                         1.4.1\n",
      "jedi                          0.18.1\n",
      "jellyfish                     0.9.0\n",
      "Jinja2                        2.11.3\n",
      "jinja2-time                   0.2.0\n",
      "jmespath                      0.10.0\n",
      "joblib                        1.4.2\n",
      "json5                         0.9.6\n",
      "jsonschema                    4.16.0\n",
      "jupyter                       1.0.0\n",
      "jupyter_client                7.3.4\n",
      "jupyter-console               6.4.3\n",
      "jupyter_core                  4.11.1\n",
      "jupyter-server                1.18.1\n",
      "jupyterlab                    3.4.4\n",
      "jupyterlab-pygments           0.1.2\n",
      "jupyterlab-server             2.10.3\n",
      "jupyterlab-widgets            1.0.0\n",
      "keras                         3.4.1\n",
      "keyring                       23.4.0\n",
      "kiwisolver                    1.4.2\n",
      "lazy-object-proxy             1.6.0\n",
      "libarchive-c                  2.9\n",
      "libclang                      18.1.1\n",
      "llvmlite                      0.38.0\n",
      "locket                        1.0.0\n",
      "lxml                          4.9.1\n",
      "lz4                           3.1.3\n",
      "Markdown                      3.3.4\n",
      "markdown-it-py                3.0.0\n",
      "MarkupSafe                    2.0.1\n",
      "matplotlib                    3.5.2\n",
      "matplotlib-inline             0.1.6\n",
      "mccabe                        0.6.1\n",
      "mdurl                         0.1.2\n",
      "menuinst                      1.4.19\n",
      "mistune                       0.8.4\n",
      "mkl-fft                       1.3.1\n",
      "mkl-random                    1.2.2\n",
      "mkl-service                   2.4.0\n",
      "ml-dtypes                     0.3.2\n",
      "mock                          4.0.3\n",
      "mpmath                        1.2.1\n",
      "msgpack                       1.0.3\n",
      "multipledispatch              0.6.0\n",
      "munkres                       1.1.4\n",
      "mypy-extensions               0.4.3\n",
      "namex                         0.0.8\n",
      "navigator-updater             0.3.0\n",
      "nbclassic                     0.3.5\n",
      "nbclient                      0.5.13\n",
      "nbconvert                     6.4.4\n",
      "nbformat                      5.5.0\n",
      "nest-asyncio                  1.5.5\n",
      "networkx                      2.8.4\n",
      "nltk                          3.7\n",
      "nose                          1.3.7\n",
      "notebook                      6.4.12\n",
      "numba                         0.55.1\n",
      "numexpr                       2.8.3\n",
      "numpy                         1.24.0\n",
      "numpydoc                      1.4.0\n",
      "olefile                       0.46\n",
      "opencv-python                 4.10.0.84\n",
      "openpyxl                      3.0.10\n",
      "opt-einsum                    3.3.0\n",
      "optree                        0.11.0\n",
      "packaging                     21.3\n",
      "pandas                        1.4.4\n",
      "pandoc                        2.3\n",
      "pandocfilters                 1.5.0\n",
      "panel                         0.13.1\n",
      "param                         1.12.0\n",
      "paramiko                      2.8.1\n",
      "parsel                        1.6.0\n",
      "parso                         0.8.3\n",
      "partd                         1.2.0\n",
      "pathlib                       1.0.1\n",
      "pathspec                      0.9.0\n",
      "patsy                         0.5.2\n",
      "pep8                          1.7.1\n",
      "pexpect                       4.8.0\n",
      "pickleshare                   0.7.5\n",
      "Pillow                        9.2.0\n",
      "pip                           22.2.2\n",
      "pkginfo                       1.8.2\n",
      "platformdirs                  2.5.2\n",
      "plotly                        5.9.0\n",
      "pluggy                        1.0.0\n",
      "plumbum                       1.8.2\n",
      "ply                           3.11\n",
      "poyo                          0.5.0\n",
      "prometheus-client             0.14.1\n",
      "prompt-toolkit                3.0.20\n",
      "Protego                       0.1.16\n",
      "protobuf                      4.25.3\n",
      "psutil                        5.9.0\n",
      "ptyprocess                    0.7.0\n",
      "py                            1.11.0\n",
      "pyasn1                        0.4.8\n",
      "pyasn1-modules                0.2.8\n",
      "pycodestyle                   2.8.0\n",
      "pycosat                       0.6.3\n",
      "pycparser                     2.21\n",
      "pyct                          0.4.8\n",
      "pycurl                        7.45.1\n",
      "PyDispatcher                  2.0.5\n",
      "pydocstyle                    6.1.1\n",
      "pyerfa                        2.0.0\n",
      "pyflakes                      2.4.0\n",
      "Pygments                      2.18.0\n",
      "PyHamcrest                    2.0.2\n",
      "PyJWT                         2.4.0\n",
      "pylint                        2.14.5\n",
      "pyls-spyder                   0.4.0\n",
      "PyNaCl                        1.5.0\n",
      "pyodbc                        4.0.34\n",
      "pyOpenSSL                     22.0.0\n",
      "pyparsing                     3.0.9\n",
      "pyrsistent                    0.18.0\n",
      "PySocks                       1.7.1\n",
      "pytest                        7.1.2\n",
      "python-dateutil               2.8.2\n",
      "python-lsp-black              1.0.0\n",
      "python-lsp-jsonrpc            1.0.0\n",
      "python-lsp-server             1.3.3\n",
      "python-slugify                5.0.2\n",
      "python-snappy                 0.6.0\n",
      "python-version                0.0.2\n",
      "pytz                          2022.1\n",
      "pyviz-comms                   2.0.2\n",
      "PyWavelets                    1.3.0\n",
      "pywin32                       302\n",
      "pywin32-ctypes                0.2.0\n",
      "pywinpty                      2.0.2\n",
      "PyYAML                        6.0\n",
      "pyzmq                         23.2.0\n",
      "QDarkStyle                    3.0.2\n",
      "qstylizer                     0.1.10\n",
      "QtAwesome                     1.0.3\n",
      "qtconsole                     5.2.2\n",
      "QtPy                          2.2.0\n",
      "queuelib                      1.5.0\n",
      "regex                         2022.7.9\n",
      "requests                      2.28.1\n",
      "requests-file                 1.5.1\n",
      "rich                          13.7.1\n",
      "rope                          0.22.0\n",
      "Rtree                         0.9.7\n",
      "ruamel-yaml-conda             0.15.100\n",
      "s3transfer                    0.6.0\n",
      "scikit-image                  0.19.2\n",
      "scikit-learn                  1.0.2\n",
      "scikit-learn-intelex          2021.20221004.171935\n",
      "scipy                         1.9.1\n",
      "Scrapy                        2.6.2\n",
      "seaborn                       0.11.2\n",
      "Send2Trash                    1.8.0\n",
      "service-identity              18.1.0\n",
      "setuptools                    63.4.1\n",
      "sip                           4.19.13\n",
      "six                           1.16.0\n",
      "smart-open                    5.2.1\n",
      "sniffio                       1.2.0\n",
      "snowballstemmer               2.2.0\n",
      "sortedcollections             2.1.0\n",
      "sortedcontainers              2.4.0\n",
      "soupsieve                     2.3.1\n",
      "Sphinx                        5.0.2\n",
      "sphinxcontrib-applehelp       1.0.2\n",
      "sphinxcontrib-devhelp         1.0.2\n",
      "sphinxcontrib-htmlhelp        2.0.0\n",
      "sphinxcontrib-jsmath          1.0.1\n",
      "sphinxcontrib-qthelp          1.0.3\n",
      "sphinxcontrib-serializinghtml 1.1.5\n",
      "spyder                        5.2.2\n",
      "spyder-kernels                2.2.1\n",
      "SQLAlchemy                    1.4.39\n",
      "statsmodels                   0.13.2\n",
      "sympy                         1.10.1\n",
      "tables                        3.6.1\n",
      "tabulate                      0.8.10\n",
      "TBB                           0.2\n",
      "tblib                         1.7.0\n",
      "tenacity                      8.0.1\n",
      "tensorboard                   2.16.2\n",
      "tensorboard-data-server       0.7.2\n",
      "tensorflow                    2.16.2\n",
      "tensorflow-intel              2.16.2\n",
      "tensorflow-io-gcs-filesystem  0.31.0\n",
      "termcolor                     2.4.0\n",
      "terminado                     0.13.1\n",
      "testpath                      0.6.0\n",
      "text-unidecode                1.3\n",
      "textdistance                  4.2.1\n",
      "threadpoolctl                 2.2.0\n",
      "three-merge                   0.1.1\n",
      "tifffile                      2021.7.2\n",
      "tinycss                       0.4\n",
      "tldextract                    3.2.0\n",
      "toml                          0.10.2\n",
      "tomli                         2.0.1\n",
      "tomlkit                       0.11.1\n",
      "toolz                         0.11.2\n",
      "torch                         2.2.1\n",
      "torchvision                   0.17.1\n",
      "tornado                       6.1\n",
      "tqdm                          4.64.1\n",
      "traitlets                     5.1.1\n",
      "Twisted                       22.2.0\n",
      "twisted-iocpsupport           1.0.2\n",
      "typing_extensions             4.10.0\n",
      "ujson                         5.4.0\n",
      "Unidecode                     1.2.0\n",
      "urllib3                       1.26.11\n",
      "w3lib                         1.21.0\n",
      "watchdog                      2.1.6\n",
      "wcwidth                       0.2.5\n",
      "webencodings                  0.5.1\n",
      "websocket-client              0.58.0\n",
      "Werkzeug                      2.0.3\n",
      "wheel                         0.37.1\n",
      "widgetsnbextension            3.5.2\n",
      "win-inet-pton                 1.1.0\n",
      "win-unicode-console           0.5\n",
      "wincertstore                  0.2\n",
      "wrapt                         1.14.1\n",
      "xarray                        0.20.1\n",
      "xlrd                          2.0.1\n",
      "XlsxWriter                    3.0.3\n",
      "xlwings                       0.27.15\n",
      "yapf                          0.31.0\n",
      "zict                          2.1.0\n",
      "zipp                          3.8.0\n",
      "zope.interface                5.4.0\n",
      "Note: you may need to restart the kernel to use updated packages.\n"
     ]
    },
    {
     "name": "stderr",
     "output_type": "stream",
     "text": [
      "WARNING: Ignoring invalid distribution -pencv-python (c:\\users\\hrugv\\appdata\\roaming\\python\\python39\\site-packages)\n",
      "WARNING: Ignoring invalid distribution -pencv-python (c:\\users\\hrugv\\appdata\\roaming\\python\\python39\\site-packages)\n",
      "WARNING: Ignoring invalid distribution -pencv-python (c:\\users\\hrugv\\appdata\\roaming\\python\\python39\\site-packages)\n",
      "WARNING: Ignoring invalid distribution -pencv-python (c:\\users\\hrugv\\appdata\\roaming\\python\\python39\\site-packages)\n"
     ]
    }
   ],
   "source": [
    "pip list"
   ]
  },
  {
   "cell_type": "code",
   "execution_count": 402,
   "id": "704d6fd2",
   "metadata": {},
   "outputs": [],
   "source": [
    "import pandas as pd \n",
    "import numpy as np\n",
    "import seaborn as sns\n",
    "import matplotlib.pyplot as plt\n",
    "from sklearn.model_selection import train_test_split\n",
    "from sklearn.preprocessing import StandardScaler\n",
    "from sklearn.ensemble import RandomForestClassifier\n",
    "from sklearn.metrics import accuracy_score,classification_report,confusion_matrix\n",
    "from imblearn.ensemble import BalancedRandomForestClassifier\n",
    "\n"
   ]
  },
  {
   "cell_type": "code",
   "execution_count": 403,
   "id": "9d927848",
   "metadata": {},
   "outputs": [],
   "source": [
    "from sklearn.preprocessing import LabelEncoder"
   ]
  },
  {
   "cell_type": "code",
   "execution_count": 404,
   "id": "ddd9d324",
   "metadata": {},
   "outputs": [],
   "source": [
    "dataFrame=pd.read_csv(\"C:\\\\Users\\\\hrugv\\\\OneDrive\\\\Desktop\\\\Telco_customer_churn.csv\")"
   ]
  },
  {
   "cell_type": "code",
   "execution_count": 405,
   "id": "89cebabf",
   "metadata": {},
   "outputs": [
    {
     "data": {
      "text/html": [
       "<div>\n",
       "<style scoped>\n",
       "    .dataframe tbody tr th:only-of-type {\n",
       "        vertical-align: middle;\n",
       "    }\n",
       "\n",
       "    .dataframe tbody tr th {\n",
       "        vertical-align: top;\n",
       "    }\n",
       "\n",
       "    .dataframe thead th {\n",
       "        text-align: right;\n",
       "    }\n",
       "</style>\n",
       "<table border=\"1\" class=\"dataframe\">\n",
       "  <thead>\n",
       "    <tr style=\"text-align: right;\">\n",
       "      <th></th>\n",
       "      <th>CustomerID</th>\n",
       "      <th>Count</th>\n",
       "      <th>Country</th>\n",
       "      <th>State</th>\n",
       "      <th>City</th>\n",
       "      <th>ZipCode</th>\n",
       "      <th>LatLong</th>\n",
       "      <th>Latitude</th>\n",
       "      <th>Longitude</th>\n",
       "      <th>Gender</th>\n",
       "      <th>...</th>\n",
       "      <th>Contract</th>\n",
       "      <th>PaperlessBilling</th>\n",
       "      <th>PaymentMethod</th>\n",
       "      <th>MonthlyCharges</th>\n",
       "      <th>TotalCharges</th>\n",
       "      <th>ChurnLabel</th>\n",
       "      <th>ChurnValue</th>\n",
       "      <th>ChurnScore</th>\n",
       "      <th>CLTV</th>\n",
       "      <th>ChurnReason</th>\n",
       "    </tr>\n",
       "  </thead>\n",
       "  <tbody>\n",
       "    <tr>\n",
       "      <th>0</th>\n",
       "      <td>3668-QPYBK</td>\n",
       "      <td>1</td>\n",
       "      <td>United States</td>\n",
       "      <td>California</td>\n",
       "      <td>Los Angeles</td>\n",
       "      <td>90003</td>\n",
       "      <td>33.964131, -118.272783</td>\n",
       "      <td>33.964131</td>\n",
       "      <td>-118.272783</td>\n",
       "      <td>Male</td>\n",
       "      <td>...</td>\n",
       "      <td>Month-to-month</td>\n",
       "      <td>Yes</td>\n",
       "      <td>Mailed check</td>\n",
       "      <td>53.85</td>\n",
       "      <td>108.15</td>\n",
       "      <td>Yes</td>\n",
       "      <td>1</td>\n",
       "      <td>86</td>\n",
       "      <td>3239</td>\n",
       "      <td>Competitor made better offer</td>\n",
       "    </tr>\n",
       "    <tr>\n",
       "      <th>1</th>\n",
       "      <td>9237-HQITU</td>\n",
       "      <td>1</td>\n",
       "      <td>United States</td>\n",
       "      <td>California</td>\n",
       "      <td>Los Angeles</td>\n",
       "      <td>90005</td>\n",
       "      <td>34.059281, -118.30742</td>\n",
       "      <td>34.059281</td>\n",
       "      <td>-118.307420</td>\n",
       "      <td>Female</td>\n",
       "      <td>...</td>\n",
       "      <td>Month-to-month</td>\n",
       "      <td>Yes</td>\n",
       "      <td>Electronic check</td>\n",
       "      <td>70.70</td>\n",
       "      <td>151.65</td>\n",
       "      <td>Yes</td>\n",
       "      <td>1</td>\n",
       "      <td>67</td>\n",
       "      <td>2701</td>\n",
       "      <td>Moved</td>\n",
       "    </tr>\n",
       "    <tr>\n",
       "      <th>2</th>\n",
       "      <td>9305-CDSKC</td>\n",
       "      <td>1</td>\n",
       "      <td>United States</td>\n",
       "      <td>California</td>\n",
       "      <td>Los Angeles</td>\n",
       "      <td>90006</td>\n",
       "      <td>34.048013, -118.293953</td>\n",
       "      <td>34.048013</td>\n",
       "      <td>-118.293953</td>\n",
       "      <td>Female</td>\n",
       "      <td>...</td>\n",
       "      <td>Month-to-month</td>\n",
       "      <td>Yes</td>\n",
       "      <td>Electronic check</td>\n",
       "      <td>99.65</td>\n",
       "      <td>820.5</td>\n",
       "      <td>Yes</td>\n",
       "      <td>1</td>\n",
       "      <td>86</td>\n",
       "      <td>5372</td>\n",
       "      <td>Moved</td>\n",
       "    </tr>\n",
       "    <tr>\n",
       "      <th>3</th>\n",
       "      <td>7892-POOKP</td>\n",
       "      <td>1</td>\n",
       "      <td>United States</td>\n",
       "      <td>California</td>\n",
       "      <td>Los Angeles</td>\n",
       "      <td>90010</td>\n",
       "      <td>34.062125, -118.315709</td>\n",
       "      <td>34.062125</td>\n",
       "      <td>-118.315709</td>\n",
       "      <td>Female</td>\n",
       "      <td>...</td>\n",
       "      <td>Month-to-month</td>\n",
       "      <td>Yes</td>\n",
       "      <td>Electronic check</td>\n",
       "      <td>104.80</td>\n",
       "      <td>3046.05</td>\n",
       "      <td>Yes</td>\n",
       "      <td>1</td>\n",
       "      <td>84</td>\n",
       "      <td>5003</td>\n",
       "      <td>Moved</td>\n",
       "    </tr>\n",
       "    <tr>\n",
       "      <th>4</th>\n",
       "      <td>0280-XJGEX</td>\n",
       "      <td>1</td>\n",
       "      <td>United States</td>\n",
       "      <td>California</td>\n",
       "      <td>Los Angeles</td>\n",
       "      <td>90015</td>\n",
       "      <td>34.039224, -118.266293</td>\n",
       "      <td>34.039224</td>\n",
       "      <td>-118.266293</td>\n",
       "      <td>Male</td>\n",
       "      <td>...</td>\n",
       "      <td>Month-to-month</td>\n",
       "      <td>Yes</td>\n",
       "      <td>Bank transfer (automatic)</td>\n",
       "      <td>103.70</td>\n",
       "      <td>5036.3</td>\n",
       "      <td>Yes</td>\n",
       "      <td>1</td>\n",
       "      <td>89</td>\n",
       "      <td>5340</td>\n",
       "      <td>Competitor had better devices</td>\n",
       "    </tr>\n",
       "    <tr>\n",
       "      <th>...</th>\n",
       "      <td>...</td>\n",
       "      <td>...</td>\n",
       "      <td>...</td>\n",
       "      <td>...</td>\n",
       "      <td>...</td>\n",
       "      <td>...</td>\n",
       "      <td>...</td>\n",
       "      <td>...</td>\n",
       "      <td>...</td>\n",
       "      <td>...</td>\n",
       "      <td>...</td>\n",
       "      <td>...</td>\n",
       "      <td>...</td>\n",
       "      <td>...</td>\n",
       "      <td>...</td>\n",
       "      <td>...</td>\n",
       "      <td>...</td>\n",
       "      <td>...</td>\n",
       "      <td>...</td>\n",
       "      <td>...</td>\n",
       "      <td>...</td>\n",
       "    </tr>\n",
       "    <tr>\n",
       "      <th>7038</th>\n",
       "      <td>2569-WGERO</td>\n",
       "      <td>1</td>\n",
       "      <td>United States</td>\n",
       "      <td>California</td>\n",
       "      <td>Landers</td>\n",
       "      <td>92285</td>\n",
       "      <td>34.341737, -116.539416</td>\n",
       "      <td>34.341737</td>\n",
       "      <td>-116.539416</td>\n",
       "      <td>Female</td>\n",
       "      <td>...</td>\n",
       "      <td>Two year</td>\n",
       "      <td>Yes</td>\n",
       "      <td>Bank transfer (automatic)</td>\n",
       "      <td>21.15</td>\n",
       "      <td>1419.4</td>\n",
       "      <td>No</td>\n",
       "      <td>0</td>\n",
       "      <td>45</td>\n",
       "      <td>5306</td>\n",
       "      <td>NaN</td>\n",
       "    </tr>\n",
       "    <tr>\n",
       "      <th>7039</th>\n",
       "      <td>6840-RESVB</td>\n",
       "      <td>1</td>\n",
       "      <td>United States</td>\n",
       "      <td>California</td>\n",
       "      <td>Adelanto</td>\n",
       "      <td>92301</td>\n",
       "      <td>34.667815, -117.536183</td>\n",
       "      <td>34.667815</td>\n",
       "      <td>-117.536183</td>\n",
       "      <td>Male</td>\n",
       "      <td>...</td>\n",
       "      <td>One year</td>\n",
       "      <td>Yes</td>\n",
       "      <td>Mailed check</td>\n",
       "      <td>84.80</td>\n",
       "      <td>1990.5</td>\n",
       "      <td>No</td>\n",
       "      <td>0</td>\n",
       "      <td>59</td>\n",
       "      <td>2140</td>\n",
       "      <td>NaN</td>\n",
       "    </tr>\n",
       "    <tr>\n",
       "      <th>7040</th>\n",
       "      <td>2234-XADUH</td>\n",
       "      <td>1</td>\n",
       "      <td>United States</td>\n",
       "      <td>California</td>\n",
       "      <td>Amboy</td>\n",
       "      <td>92304</td>\n",
       "      <td>34.559882, -115.637164</td>\n",
       "      <td>34.559882</td>\n",
       "      <td>-115.637164</td>\n",
       "      <td>Female</td>\n",
       "      <td>...</td>\n",
       "      <td>One year</td>\n",
       "      <td>Yes</td>\n",
       "      <td>Credit card (automatic)</td>\n",
       "      <td>103.20</td>\n",
       "      <td>7362.9</td>\n",
       "      <td>No</td>\n",
       "      <td>0</td>\n",
       "      <td>71</td>\n",
       "      <td>5560</td>\n",
       "      <td>NaN</td>\n",
       "    </tr>\n",
       "    <tr>\n",
       "      <th>7041</th>\n",
       "      <td>4801-JZAZL</td>\n",
       "      <td>1</td>\n",
       "      <td>United States</td>\n",
       "      <td>California</td>\n",
       "      <td>Angelus Oaks</td>\n",
       "      <td>92305</td>\n",
       "      <td>34.1678, -116.86433</td>\n",
       "      <td>34.167800</td>\n",
       "      <td>-116.864330</td>\n",
       "      <td>Female</td>\n",
       "      <td>...</td>\n",
       "      <td>Month-to-month</td>\n",
       "      <td>Yes</td>\n",
       "      <td>Electronic check</td>\n",
       "      <td>29.60</td>\n",
       "      <td>346.45</td>\n",
       "      <td>No</td>\n",
       "      <td>0</td>\n",
       "      <td>59</td>\n",
       "      <td>2793</td>\n",
       "      <td>NaN</td>\n",
       "    </tr>\n",
       "    <tr>\n",
       "      <th>7042</th>\n",
       "      <td>3186-AJIEK</td>\n",
       "      <td>1</td>\n",
       "      <td>United States</td>\n",
       "      <td>California</td>\n",
       "      <td>Apple Valley</td>\n",
       "      <td>92308</td>\n",
       "      <td>34.424926, -117.184503</td>\n",
       "      <td>34.424926</td>\n",
       "      <td>-117.184503</td>\n",
       "      <td>Male</td>\n",
       "      <td>...</td>\n",
       "      <td>Two year</td>\n",
       "      <td>Yes</td>\n",
       "      <td>Bank transfer (automatic)</td>\n",
       "      <td>105.65</td>\n",
       "      <td>6844.5</td>\n",
       "      <td>No</td>\n",
       "      <td>0</td>\n",
       "      <td>38</td>\n",
       "      <td>5097</td>\n",
       "      <td>NaN</td>\n",
       "    </tr>\n",
       "  </tbody>\n",
       "</table>\n",
       "<p>7043 rows × 33 columns</p>\n",
       "</div>"
      ],
      "text/plain": [
       "      CustomerID  Count        Country       State          City  ZipCode  \\\n",
       "0     3668-QPYBK      1  United States  California   Los Angeles    90003   \n",
       "1     9237-HQITU      1  United States  California   Los Angeles    90005   \n",
       "2     9305-CDSKC      1  United States  California   Los Angeles    90006   \n",
       "3     7892-POOKP      1  United States  California   Los Angeles    90010   \n",
       "4     0280-XJGEX      1  United States  California   Los Angeles    90015   \n",
       "...          ...    ...            ...         ...           ...      ...   \n",
       "7038  2569-WGERO      1  United States  California       Landers    92285   \n",
       "7039  6840-RESVB      1  United States  California      Adelanto    92301   \n",
       "7040  2234-XADUH      1  United States  California         Amboy    92304   \n",
       "7041  4801-JZAZL      1  United States  California  Angelus Oaks    92305   \n",
       "7042  3186-AJIEK      1  United States  California  Apple Valley    92308   \n",
       "\n",
       "                     LatLong   Latitude   Longitude  Gender  ...  \\\n",
       "0     33.964131, -118.272783  33.964131 -118.272783    Male  ...   \n",
       "1      34.059281, -118.30742  34.059281 -118.307420  Female  ...   \n",
       "2     34.048013, -118.293953  34.048013 -118.293953  Female  ...   \n",
       "3     34.062125, -118.315709  34.062125 -118.315709  Female  ...   \n",
       "4     34.039224, -118.266293  34.039224 -118.266293    Male  ...   \n",
       "...                      ...        ...         ...     ...  ...   \n",
       "7038  34.341737, -116.539416  34.341737 -116.539416  Female  ...   \n",
       "7039  34.667815, -117.536183  34.667815 -117.536183    Male  ...   \n",
       "7040  34.559882, -115.637164  34.559882 -115.637164  Female  ...   \n",
       "7041     34.1678, -116.86433  34.167800 -116.864330  Female  ...   \n",
       "7042  34.424926, -117.184503  34.424926 -117.184503    Male  ...   \n",
       "\n",
       "            Contract PaperlessBilling              PaymentMethod  \\\n",
       "0     Month-to-month              Yes               Mailed check   \n",
       "1     Month-to-month              Yes           Electronic check   \n",
       "2     Month-to-month              Yes           Electronic check   \n",
       "3     Month-to-month              Yes           Electronic check   \n",
       "4     Month-to-month              Yes  Bank transfer (automatic)   \n",
       "...              ...              ...                        ...   \n",
       "7038        Two year              Yes  Bank transfer (automatic)   \n",
       "7039        One year              Yes               Mailed check   \n",
       "7040        One year              Yes    Credit card (automatic)   \n",
       "7041  Month-to-month              Yes           Electronic check   \n",
       "7042        Two year              Yes  Bank transfer (automatic)   \n",
       "\n",
       "      MonthlyCharges TotalCharges ChurnLabel ChurnValue ChurnScore  CLTV  \\\n",
       "0              53.85       108.15        Yes          1         86  3239   \n",
       "1              70.70       151.65        Yes          1         67  2701   \n",
       "2              99.65        820.5        Yes          1         86  5372   \n",
       "3             104.80      3046.05        Yes          1         84  5003   \n",
       "4             103.70       5036.3        Yes          1         89  5340   \n",
       "...              ...          ...        ...        ...        ...   ...   \n",
       "7038           21.15       1419.4         No          0         45  5306   \n",
       "7039           84.80       1990.5         No          0         59  2140   \n",
       "7040          103.20       7362.9         No          0         71  5560   \n",
       "7041           29.60       346.45         No          0         59  2793   \n",
       "7042          105.65       6844.5         No          0         38  5097   \n",
       "\n",
       "                        ChurnReason  \n",
       "0      Competitor made better offer  \n",
       "1                             Moved  \n",
       "2                             Moved  \n",
       "3                             Moved  \n",
       "4     Competitor had better devices  \n",
       "...                             ...  \n",
       "7038                            NaN  \n",
       "7039                            NaN  \n",
       "7040                            NaN  \n",
       "7041                            NaN  \n",
       "7042                            NaN  \n",
       "\n",
       "[7043 rows x 33 columns]"
      ]
     },
     "execution_count": 405,
     "metadata": {},
     "output_type": "execute_result"
    }
   ],
   "source": [
    "dataFrame"
   ]
  },
  {
   "cell_type": "code",
   "execution_count": 406,
   "id": "210e7b66",
   "metadata": {},
   "outputs": [],
   "source": [
    "df=dataFrame.copy()"
   ]
  },
  {
   "cell_type": "code",
   "execution_count": 407,
   "id": "76bab186",
   "metadata": {},
   "outputs": [
    {
     "name": "stdout",
     "output_type": "stream",
     "text": [
      "Defaulting to user installation because normal site-packages is not writeable\n",
      "Requirement already satisfied: imbalanced-learn in c:\\users\\hrugv\\appdata\\roaming\\python\\python39\\site-packages (0.12.3)\n",
      "Requirement already satisfied: scikit-learn>=1.0.2 in c:\\programdata\\anaconda3\\lib\\site-packages (from imbalanced-learn) (1.0.2)\n",
      "Requirement already satisfied: numpy>=1.17.3 in c:\\users\\hrugv\\appdata\\roaming\\python\\python39\\site-packages (from imbalanced-learn) (1.24.0)\n",
      "Requirement already satisfied: threadpoolctl>=2.0.0 in c:\\programdata\\anaconda3\\lib\\site-packages (from imbalanced-learn) (2.2.0)\n",
      "Requirement already satisfied: scipy>=1.5.0 in c:\\programdata\\anaconda3\\lib\\site-packages (from imbalanced-learn) (1.9.1)\n",
      "Requirement already satisfied: joblib>=1.1.1 in c:\\users\\hrugv\\appdata\\roaming\\python\\python39\\site-packages (from imbalanced-learn) (1.4.2)\n",
      "Note: you may need to restart the kernel to use updated packages.\n"
     ]
    },
    {
     "name": "stderr",
     "output_type": "stream",
     "text": [
      "WARNING: Ignoring invalid distribution -pencv-python (c:\\users\\hrugv\\appdata\\roaming\\python\\python39\\site-packages)\n",
      "WARNING: Ignoring invalid distribution -pencv-python (c:\\users\\hrugv\\appdata\\roaming\\python\\python39\\site-packages)\n",
      "WARNING: Ignoring invalid distribution -pencv-python (c:\\users\\hrugv\\appdata\\roaming\\python\\python39\\site-packages)\n",
      "WARNING: Ignoring invalid distribution -pencv-python (c:\\users\\hrugv\\appdata\\roaming\\python\\python39\\site-packages)\n",
      "WARNING: Ignoring invalid distribution -pencv-python (c:\\users\\hrugv\\appdata\\roaming\\python\\python39\\site-packages)\n",
      "WARNING: Ignoring invalid distribution -pencv-python (c:\\users\\hrugv\\appdata\\roaming\\python\\python39\\site-packages)\n"
     ]
    }
   ],
   "source": [
    "pip install imbalanced-learn\n"
   ]
  },
  {
   "cell_type": "code",
   "execution_count": 408,
   "id": "d1c452ec",
   "metadata": {},
   "outputs": [],
   "source": [
    "from imblearn.over_sampling import SMOTE\n",
    "from sklearn.model_selection import train_test_split\n",
    "from sklearn.datasets import make_classification"
   ]
  },
  {
   "cell_type": "code",
   "execution_count": 409,
   "id": "5d336592",
   "metadata": {},
   "outputs": [
    {
     "data": {
      "text/plain": [
       "0    5174\n",
       "1    1869\n",
       "Name: ChurnValue, dtype: int64"
      ]
     },
     "execution_count": 409,
     "metadata": {},
     "output_type": "execute_result"
    }
   ],
   "source": [
    "df['ChurnValue'].value_counts()"
   ]
  },
  {
   "cell_type": "code",
   "execution_count": 410,
   "id": "81f125a0",
   "metadata": {},
   "outputs": [
    {
     "name": "stdout",
     "output_type": "stream",
     "text": [
      "<class 'pandas.core.frame.DataFrame'>\n",
      "RangeIndex: 7043 entries, 0 to 7042\n",
      "Data columns (total 33 columns):\n",
      " #   Column            Non-Null Count  Dtype  \n",
      "---  ------            --------------  -----  \n",
      " 0   CustomerID        7043 non-null   object \n",
      " 1   Count             7043 non-null   int64  \n",
      " 2   Country           7043 non-null   object \n",
      " 3   State             7043 non-null   object \n",
      " 4   City              7043 non-null   object \n",
      " 5   ZipCode           7043 non-null   int64  \n",
      " 6   LatLong           7043 non-null   object \n",
      " 7   Latitude          7043 non-null   float64\n",
      " 8   Longitude         7043 non-null   float64\n",
      " 9   Gender            7043 non-null   object \n",
      " 10  SeniorCitizen     7043 non-null   object \n",
      " 11  Partner           7043 non-null   object \n",
      " 12  Dependents        7043 non-null   object \n",
      " 13  TenureMonths      7043 non-null   int64  \n",
      " 14  PhoneService      7043 non-null   object \n",
      " 15  MultipleLines     7043 non-null   object \n",
      " 16  InternetService   7043 non-null   object \n",
      " 17  OnlineSecurity    7043 non-null   object \n",
      " 18  OnlineBackup      7043 non-null   object \n",
      " 19  DeviceProtection  7043 non-null   object \n",
      " 20  TechSupport       7043 non-null   object \n",
      " 21  StreamingTV       7043 non-null   object \n",
      " 22  Streaming Movies  7043 non-null   object \n",
      " 23  Contract          7043 non-null   object \n",
      " 24  PaperlessBilling  7043 non-null   object \n",
      " 25  PaymentMethod     7043 non-null   object \n",
      " 26  MonthlyCharges    7043 non-null   float64\n",
      " 27  TotalCharges      7043 non-null   object \n",
      " 28  ChurnLabel        7043 non-null   object \n",
      " 29  ChurnValue        7043 non-null   int64  \n",
      " 30  ChurnScore        7043 non-null   int64  \n",
      " 31  CLTV              7043 non-null   int64  \n",
      " 32  ChurnReason       1869 non-null   object \n",
      "dtypes: float64(3), int64(6), object(24)\n",
      "memory usage: 1.8+ MB\n"
     ]
    }
   ],
   "source": [
    "df.info()"
   ]
  },
  {
   "cell_type": "code",
   "execution_count": 411,
   "id": "19df5283",
   "metadata": {},
   "outputs": [],
   "source": [
    "df.drop(['Country'],axis=1,inplace=True)"
   ]
  },
  {
   "cell_type": "code",
   "execution_count": 412,
   "id": "d5ff0084",
   "metadata": {},
   "outputs": [],
   "source": [
    "df.drop(['CustomerID'],axis=1,inplace=True)"
   ]
  },
  {
   "cell_type": "code",
   "execution_count": 413,
   "id": "54ce1cb5",
   "metadata": {},
   "outputs": [
    {
     "data": {
      "text/plain": [
       "1    7043\n",
       "Name: Count, dtype: int64"
      ]
     },
     "execution_count": 413,
     "metadata": {},
     "output_type": "execute_result"
    }
   ],
   "source": [
    "df['Count'].value_counts()"
   ]
  },
  {
   "cell_type": "code",
   "execution_count": 414,
   "id": "472efb36",
   "metadata": {},
   "outputs": [],
   "source": [
    "df.drop(['Count'],axis=1,inplace=True)"
   ]
  },
  {
   "cell_type": "code",
   "execution_count": 415,
   "id": "ed50da21",
   "metadata": {},
   "outputs": [
    {
     "name": "stdout",
     "output_type": "stream",
     "text": [
      "<class 'pandas.core.frame.DataFrame'>\n",
      "RangeIndex: 7043 entries, 0 to 7042\n",
      "Data columns (total 30 columns):\n",
      " #   Column            Non-Null Count  Dtype  \n",
      "---  ------            --------------  -----  \n",
      " 0   State             7043 non-null   object \n",
      " 1   City              7043 non-null   object \n",
      " 2   ZipCode           7043 non-null   int64  \n",
      " 3   LatLong           7043 non-null   object \n",
      " 4   Latitude          7043 non-null   float64\n",
      " 5   Longitude         7043 non-null   float64\n",
      " 6   Gender            7043 non-null   object \n",
      " 7   SeniorCitizen     7043 non-null   object \n",
      " 8   Partner           7043 non-null   object \n",
      " 9   Dependents        7043 non-null   object \n",
      " 10  TenureMonths      7043 non-null   int64  \n",
      " 11  PhoneService      7043 non-null   object \n",
      " 12  MultipleLines     7043 non-null   object \n",
      " 13  InternetService   7043 non-null   object \n",
      " 14  OnlineSecurity    7043 non-null   object \n",
      " 15  OnlineBackup      7043 non-null   object \n",
      " 16  DeviceProtection  7043 non-null   object \n",
      " 17  TechSupport       7043 non-null   object \n",
      " 18  StreamingTV       7043 non-null   object \n",
      " 19  Streaming Movies  7043 non-null   object \n",
      " 20  Contract          7043 non-null   object \n",
      " 21  PaperlessBilling  7043 non-null   object \n",
      " 22  PaymentMethod     7043 non-null   object \n",
      " 23  MonthlyCharges    7043 non-null   float64\n",
      " 24  TotalCharges      7043 non-null   object \n",
      " 25  ChurnLabel        7043 non-null   object \n",
      " 26  ChurnValue        7043 non-null   int64  \n",
      " 27  ChurnScore        7043 non-null   int64  \n",
      " 28  CLTV              7043 non-null   int64  \n",
      " 29  ChurnReason       1869 non-null   object \n",
      "dtypes: float64(3), int64(5), object(22)\n",
      "memory usage: 1.6+ MB\n"
     ]
    }
   ],
   "source": [
    "df.info()"
   ]
  },
  {
   "cell_type": "code",
   "execution_count": 416,
   "id": "0705dea0",
   "metadata": {},
   "outputs": [
    {
     "data": {
      "text/plain": [
       "California    7043\n",
       "Name: State, dtype: int64"
      ]
     },
     "execution_count": 416,
     "metadata": {},
     "output_type": "execute_result"
    }
   ],
   "source": [
    "df['State'].value_counts()"
   ]
  },
  {
   "cell_type": "code",
   "execution_count": 417,
   "id": "47c69f68",
   "metadata": {},
   "outputs": [],
   "source": [
    "df.drop(['State'],inplace=True,axis=1)"
   ]
  },
  {
   "cell_type": "code",
   "execution_count": 418,
   "id": "e050cea3",
   "metadata": {},
   "outputs": [
    {
     "name": "stdout",
     "output_type": "stream",
     "text": [
      "<class 'pandas.core.frame.DataFrame'>\n",
      "RangeIndex: 7043 entries, 0 to 7042\n",
      "Data columns (total 29 columns):\n",
      " #   Column            Non-Null Count  Dtype  \n",
      "---  ------            --------------  -----  \n",
      " 0   City              7043 non-null   object \n",
      " 1   ZipCode           7043 non-null   int64  \n",
      " 2   LatLong           7043 non-null   object \n",
      " 3   Latitude          7043 non-null   float64\n",
      " 4   Longitude         7043 non-null   float64\n",
      " 5   Gender            7043 non-null   object \n",
      " 6   SeniorCitizen     7043 non-null   object \n",
      " 7   Partner           7043 non-null   object \n",
      " 8   Dependents        7043 non-null   object \n",
      " 9   TenureMonths      7043 non-null   int64  \n",
      " 10  PhoneService      7043 non-null   object \n",
      " 11  MultipleLines     7043 non-null   object \n",
      " 12  InternetService   7043 non-null   object \n",
      " 13  OnlineSecurity    7043 non-null   object \n",
      " 14  OnlineBackup      7043 non-null   object \n",
      " 15  DeviceProtection  7043 non-null   object \n",
      " 16  TechSupport       7043 non-null   object \n",
      " 17  StreamingTV       7043 non-null   object \n",
      " 18  Streaming Movies  7043 non-null   object \n",
      " 19  Contract          7043 non-null   object \n",
      " 20  PaperlessBilling  7043 non-null   object \n",
      " 21  PaymentMethod     7043 non-null   object \n",
      " 22  MonthlyCharges    7043 non-null   float64\n",
      " 23  TotalCharges      7043 non-null   object \n",
      " 24  ChurnLabel        7043 non-null   object \n",
      " 25  ChurnValue        7043 non-null   int64  \n",
      " 26  ChurnScore        7043 non-null   int64  \n",
      " 27  CLTV              7043 non-null   int64  \n",
      " 28  ChurnReason       1869 non-null   object \n",
      "dtypes: float64(3), int64(5), object(21)\n",
      "memory usage: 1.6+ MB\n"
     ]
    }
   ],
   "source": [
    "df.info()"
   ]
  },
  {
   "cell_type": "code",
   "execution_count": 419,
   "id": "a88e8ca9",
   "metadata": {},
   "outputs": [],
   "source": [
    "df.drop(['ChurnLabel'],axis=1,inplace=True)"
   ]
  },
  {
   "cell_type": "code",
   "execution_count": 420,
   "id": "f4441328",
   "metadata": {},
   "outputs": [
    {
     "name": "stdout",
     "output_type": "stream",
     "text": [
      "<class 'pandas.core.frame.DataFrame'>\n",
      "RangeIndex: 7043 entries, 0 to 7042\n",
      "Data columns (total 28 columns):\n",
      " #   Column            Non-Null Count  Dtype  \n",
      "---  ------            --------------  -----  \n",
      " 0   City              7043 non-null   object \n",
      " 1   ZipCode           7043 non-null   int64  \n",
      " 2   LatLong           7043 non-null   object \n",
      " 3   Latitude          7043 non-null   float64\n",
      " 4   Longitude         7043 non-null   float64\n",
      " 5   Gender            7043 non-null   object \n",
      " 6   SeniorCitizen     7043 non-null   object \n",
      " 7   Partner           7043 non-null   object \n",
      " 8   Dependents        7043 non-null   object \n",
      " 9   TenureMonths      7043 non-null   int64  \n",
      " 10  PhoneService      7043 non-null   object \n",
      " 11  MultipleLines     7043 non-null   object \n",
      " 12  InternetService   7043 non-null   object \n",
      " 13  OnlineSecurity    7043 non-null   object \n",
      " 14  OnlineBackup      7043 non-null   object \n",
      " 15  DeviceProtection  7043 non-null   object \n",
      " 16  TechSupport       7043 non-null   object \n",
      " 17  StreamingTV       7043 non-null   object \n",
      " 18  Streaming Movies  7043 non-null   object \n",
      " 19  Contract          7043 non-null   object \n",
      " 20  PaperlessBilling  7043 non-null   object \n",
      " 21  PaymentMethod     7043 non-null   object \n",
      " 22  MonthlyCharges    7043 non-null   float64\n",
      " 23  TotalCharges      7043 non-null   object \n",
      " 24  ChurnValue        7043 non-null   int64  \n",
      " 25  ChurnScore        7043 non-null   int64  \n",
      " 26  CLTV              7043 non-null   int64  \n",
      " 27  ChurnReason       1869 non-null   object \n",
      "dtypes: float64(3), int64(5), object(20)\n",
      "memory usage: 1.5+ MB\n"
     ]
    }
   ],
   "source": [
    "df.info()"
   ]
  },
  {
   "cell_type": "code",
   "execution_count": 421,
   "id": "82a2f889",
   "metadata": {},
   "outputs": [],
   "source": [
    "df.drop(['ChurnReason'],inplace=True,axis=1)"
   ]
  },
  {
   "cell_type": "code",
   "execution_count": 422,
   "id": "ca0e9632",
   "metadata": {},
   "outputs": [],
   "source": [
    "df.drop(['LatLong'],inplace=True,axis=1)"
   ]
  },
  {
   "cell_type": "code",
   "execution_count": 423,
   "id": "254592ab",
   "metadata": {},
   "outputs": [
    {
     "data": {
      "text/plain": [
       "array([ 86,  67,  84,  89,  78, 100,  92,  77,  97,  74,  66,  65,  70,\n",
       "        90,  82,  69,  81,  96,  87,  88,  75,  76,  95,  99,  80,  73,\n",
       "        94,  83,  98,  71,  85,  68,  91,  93,  72,  79,  27,  61,  43,\n",
       "        51,  58,  39,  35,  57,  53,  21,  38,  40,  41,  22,  25,  64,\n",
       "        49,  62,  52,  59,  29,  33,  20,  30,  26,  54,  56,  55,  28,\n",
       "        37,   9,  60,  24,  63,  23,  47,  32,   8,  46,  42,  48,  36,\n",
       "        34,   7,  50,  44,  31,   5,  45], dtype=int64)"
      ]
     },
     "execution_count": 423,
     "metadata": {},
     "output_type": "execute_result"
    }
   ],
   "source": [
    "df['ChurnScore'].unique()"
   ]
  },
  {
   "cell_type": "code",
   "execution_count": 424,
   "id": "7cb833d2",
   "metadata": {},
   "outputs": [
    {
     "name": "stdout",
     "output_type": "stream",
     "text": [
      "100\n",
      "5\n"
     ]
    }
   ],
   "source": [
    "print(df['ChurnScore'].max())\n",
    "print(df['ChurnScore'].min())"
   ]
  },
  {
   "cell_type": "code",
   "execution_count": 425,
   "id": "75bfba75",
   "metadata": {},
   "outputs": [
    {
     "data": {
      "text/plain": [
       "80    151\n",
       "71    148\n",
       "77    145\n",
       "67    143\n",
       "76    141\n",
       "     ... \n",
       "88     33\n",
       "9       3\n",
       "8       2\n",
       "7       2\n",
       "5       1\n",
       "Name: ChurnScore, Length: 85, dtype: int64"
      ]
     },
     "execution_count": 425,
     "metadata": {},
     "output_type": "execute_result"
    }
   ],
   "source": [
    "df['ChurnScore'].value_counts()"
   ]
  },
  {
   "cell_type": "code",
   "execution_count": 426,
   "id": "729a3e59",
   "metadata": {},
   "outputs": [
    {
     "name": "stdout",
     "output_type": "stream",
     "text": [
      "            ChurnScore  ChurnValue\n",
      "ChurnScore    1.000000    0.664897\n",
      "ChurnValue    0.664897    1.000000\n"
     ]
    }
   ],
   "source": [
    "correlation_matrix = df[['ChurnScore', 'ChurnValue']].corr()\n",
    "print(correlation_matrix)"
   ]
  },
  {
   "cell_type": "code",
   "execution_count": 427,
   "id": "3ee3ac1d",
   "metadata": {},
   "outputs": [
    {
     "data": {
      "image/png": "[encoded data removed]",
      "text/plain": [
       "<Figure size 640x480 with 1 Axes>"
      ]
     },
     "metadata": {},
     "output_type": "display_data"
    }
   ],
   "source": [
    "plt.bar(df['ChurnValue'],df['ChurnScore'] )\n",
    "plt.xlabel('Column 1')\n",
    "plt.ylabel('Target Column')\n",
    "plt.title('Scatter Plot')\n",
    "plt.show()"
   ]
  },
  {
   "cell_type": "code",
   "execution_count": 428,
   "id": "b2c9de9e",
   "metadata": {},
   "outputs": [
    {
     "data": {
      "text/plain": [
       "array([[<AxesSubplot:title={'center':'ZipCode'}>,\n",
       "        <AxesSubplot:title={'center':'Latitude'}>,\n",
       "        <AxesSubplot:title={'center':'Longitude'}>],\n",
       "       [<AxesSubplot:title={'center':'TenureMonths'}>,\n",
       "        <AxesSubplot:title={'center':'MonthlyCharges'}>,\n",
       "        <AxesSubplot:title={'center':'ChurnValue'}>],\n",
       "       [<AxesSubplot:title={'center':'ChurnScore'}>,\n",
       "        <AxesSubplot:title={'center':'CLTV'}>, <AxesSubplot:>]],\n",
       "      dtype=object)"
      ]
     },
     "execution_count": 428,
     "metadata": {},
     "output_type": "execute_result"
    },
    {
     "data": {
      "image/png": "[encoded data removed]",
      "text/plain": [
       "<Figure size 1500x1500 with 9 Axes>"
      ]
     },
     "metadata": {},
     "output_type": "display_data"
    }
   ],
   "source": [
    "df.hist(figsize=(15,15))"
   ]
  },
  {
   "cell_type": "code",
   "execution_count": 429,
   "id": "72af5142",
   "metadata": {},
   "outputs": [
    {
     "data": {
      "text/plain": [
       "array([33.964131, 34.059281, 34.048013, ..., 40.346634, 41.813521,\n",
       "       39.191797])"
      ]
     },
     "execution_count": 429,
     "metadata": {},
     "output_type": "execute_result"
    }
   ],
   "source": [
    "df[\"Latitude\"].unique()"
   ]
  },
  {
   "cell_type": "code",
   "execution_count": 430,
   "id": "461c4023",
   "metadata": {
    "scrolled": false
   },
   "outputs": [
    {
     "name": "stdout",
     "output_type": "stream",
     "text": [
      "<class 'pandas.core.frame.DataFrame'>\n",
      "RangeIndex: 7043 entries, 0 to 7042\n",
      "Data columns (total 26 columns):\n",
      " #   Column            Non-Null Count  Dtype  \n",
      "---  ------            --------------  -----  \n",
      " 0   City              7043 non-null   object \n",
      " 1   ZipCode           7043 non-null   int64  \n",
      " 2   Latitude          7043 non-null   float64\n",
      " 3   Longitude         7043 non-null   float64\n",
      " 4   Gender            7043 non-null   object \n",
      " 5   SeniorCitizen     7043 non-null   object \n",
      " 6   Partner           7043 non-null   object \n",
      " 7   Dependents        7043 non-null   object \n",
      " 8   TenureMonths      7043 non-null   int64  \n",
      " 9   PhoneService      7043 non-null   object \n",
      " 10  MultipleLines     7043 non-null   object \n",
      " 11  InternetService   7043 non-null   object \n",
      " 12  OnlineSecurity    7043 non-null   object \n",
      " 13  OnlineBackup      7043 non-null   object \n",
      " 14  DeviceProtection  7043 non-null   object \n",
      " 15  TechSupport       7043 non-null   object \n",
      " 16  StreamingTV       7043 non-null   object \n",
      " 17  Streaming Movies  7043 non-null   object \n",
      " 18  Contract          7043 non-null   object \n",
      " 19  PaperlessBilling  7043 non-null   object \n",
      " 20  PaymentMethod     7043 non-null   object \n",
      " 21  MonthlyCharges    7043 non-null   float64\n",
      " 22  TotalCharges      7043 non-null   object \n",
      " 23  ChurnValue        7043 non-null   int64  \n",
      " 24  ChurnScore        7043 non-null   int64  \n",
      " 25  CLTV              7043 non-null   int64  \n",
      "dtypes: float64(3), int64(5), object(18)\n",
      "memory usage: 1.4+ MB\n"
     ]
    }
   ],
   "source": [
    "df.info()"
   ]
  },
  {
   "cell_type": "code",
   "execution_count": 431,
   "id": "f6cb3f72",
   "metadata": {},
   "outputs": [],
   "source": [
    "df['Gender']=df['Gender'].map({'Male':1,'Female':0})\n"
   ]
  },
  {
   "cell_type": "code",
   "execution_count": 432,
   "id": "c3d25958",
   "metadata": {},
   "outputs": [],
   "source": [
    "le = LabelEncoder()\n",
    "\n",
    "# Fit the encoder to the categorical column\n",
    "le.fit(df['City'])\n",
    "\n",
    "# Transform the categorical column\n",
    "df['City'] = le.transform(df['City'])"
   ]
  },
  {
   "cell_type": "code",
   "execution_count": 433,
   "id": "a00ecb46",
   "metadata": {},
   "outputs": [
    {
     "name": "stdout",
     "output_type": "stream",
     "text": [
      "<class 'pandas.core.frame.DataFrame'>\n",
      "RangeIndex: 7043 entries, 0 to 7042\n",
      "Data columns (total 26 columns):\n",
      " #   Column            Non-Null Count  Dtype  \n",
      "---  ------            --------------  -----  \n",
      " 0   City              7043 non-null   int32  \n",
      " 1   ZipCode           7043 non-null   int64  \n",
      " 2   Latitude          7043 non-null   float64\n",
      " 3   Longitude         7043 non-null   float64\n",
      " 4   Gender            7043 non-null   int64  \n",
      " 5   SeniorCitizen     7043 non-null   object \n",
      " 6   Partner           7043 non-null   object \n",
      " 7   Dependents        7043 non-null   object \n",
      " 8   TenureMonths      7043 non-null   int64  \n",
      " 9   PhoneService      7043 non-null   object \n",
      " 10  MultipleLines     7043 non-null   object \n",
      " 11  InternetService   7043 non-null   object \n",
      " 12  OnlineSecurity    7043 non-null   object \n",
      " 13  OnlineBackup      7043 non-null   object \n",
      " 14  DeviceProtection  7043 non-null   object \n",
      " 15  TechSupport       7043 non-null   object \n",
      " 16  StreamingTV       7043 non-null   object \n",
      " 17  Streaming Movies  7043 non-null   object \n",
      " 18  Contract          7043 non-null   object \n",
      " 19  PaperlessBilling  7043 non-null   object \n",
      " 20  PaymentMethod     7043 non-null   object \n",
      " 21  MonthlyCharges    7043 non-null   float64\n",
      " 22  TotalCharges      7043 non-null   object \n",
      " 23  ChurnValue        7043 non-null   int64  \n",
      " 24  ChurnScore        7043 non-null   int64  \n",
      " 25  CLTV              7043 non-null   int64  \n",
      "dtypes: float64(3), int32(1), int64(6), object(16)\n",
      "memory usage: 1.4+ MB\n"
     ]
    }
   ],
   "source": [
    "df.info()"
   ]
  },
  {
   "cell_type": "code",
   "execution_count": 434,
   "id": "2f4f117e",
   "metadata": {},
   "outputs": [
    {
     "data": {
      "text/plain": [
       "No     5416\n",
       "Yes    1627\n",
       "Name: Dependents, dtype: int64"
      ]
     },
     "execution_count": 434,
     "metadata": {},
     "output_type": "execute_result"
    }
   ],
   "source": [
    "df['Dependents'].value_counts()"
   ]
  },
  {
   "cell_type": "code",
   "execution_count": 435,
   "id": "51ae0798",
   "metadata": {},
   "outputs": [],
   "source": [
    "df['Dependents']=df['Dependents'].map({'No':0,'Yes':1})"
   ]
  },
  {
   "cell_type": "raw",
   "id": "b5403135",
   "metadata": {},
   "source": [
    "df.info()"
   ]
  },
  {
   "cell_type": "code",
   "execution_count": 436,
   "id": "80ea92c7",
   "metadata": {},
   "outputs": [],
   "source": [
    "df.drop(['CLTV'],axis=1,inplace=True)"
   ]
  },
  {
   "cell_type": "code",
   "execution_count": 437,
   "id": "72066a5b",
   "metadata": {},
   "outputs": [
    {
     "data": {
      "image/png": "[encoded data removed]",
      "text/plain": [
       "<Figure size 1000x600 with 1 Axes>"
      ]
     },
     "metadata": {},
     "output_type": "display_data"
    }
   ],
   "source": [
    "import seaborn as sns\n",
    "import matplotlib.pyplot as plt\n",
    "plt.figure(figsize=(10, 6))\n",
    "sns.boxplot(data=df)\n",
    "plt.xticks(rotation=45)\n",
    "plt.title('Box Plot of Numerical Columns')\n",
    "plt.show()\n"
   ]
  },
  {
   "cell_type": "code",
   "execution_count": 438,
   "id": "0c8e056e",
   "metadata": {},
   "outputs": [
    {
     "data": {
      "image/png": "[encoded data removed]",
      "text/plain": [
       "<Figure size 640x480 with 2 Axes>"
      ]
     },
     "metadata": {},
     "output_type": "display_data"
    }
   ],
   "source": [
    "mapp=sns.heatmap(df.corr())"
   ]
  },
  {
   "cell_type": "code",
   "execution_count": 439,
   "id": "89e93d88",
   "metadata": {},
   "outputs": [],
   "source": [
    "df['SeniorCitizen']=df['SeniorCitizen'].map({'No':0,'Yes':1})"
   ]
  },
  {
   "cell_type": "code",
   "execution_count": 440,
   "id": "8c4df438",
   "metadata": {},
   "outputs": [
    {
     "data": {
      "text/plain": [
       "0    5901\n",
       "1    1142\n",
       "Name: SeniorCitizen, dtype: int64"
      ]
     },
     "execution_count": 440,
     "metadata": {},
     "output_type": "execute_result"
    }
   ],
   "source": [
    "df['SeniorCitizen'].value_counts()"
   ]
  },
  {
   "cell_type": "code",
   "execution_count": 441,
   "id": "bc3c1a2c",
   "metadata": {},
   "outputs": [],
   "source": [
    "df['Partner']=df['Partner'].map({'No':0,'Yes':1})"
   ]
  },
  {
   "cell_type": "code",
   "execution_count": 442,
   "id": "c8f9cdc2",
   "metadata": {},
   "outputs": [
    {
     "data": {
      "text/plain": [
       "0    3641\n",
       "1    3402\n",
       "Name: Partner, dtype: int64"
      ]
     },
     "execution_count": 442,
     "metadata": {},
     "output_type": "execute_result"
    }
   ],
   "source": [
    "df['Partner'].value_counts()"
   ]
  },
  {
   "cell_type": "code",
   "execution_count": 443,
   "id": "2e840ce7",
   "metadata": {},
   "outputs": [
    {
     "name": "stdout",
     "output_type": "stream",
     "text": [
      "<class 'pandas.core.frame.DataFrame'>\n",
      "RangeIndex: 7043 entries, 0 to 7042\n",
      "Data columns (total 25 columns):\n",
      " #   Column            Non-Null Count  Dtype  \n",
      "---  ------            --------------  -----  \n",
      " 0   City              7043 non-null   int32  \n",
      " 1   ZipCode           7043 non-null   int64  \n",
      " 2   Latitude          7043 non-null   float64\n",
      " 3   Longitude         7043 non-null   float64\n",
      " 4   Gender            7043 non-null   int64  \n",
      " 5   SeniorCitizen     7043 non-null   int64  \n",
      " 6   Partner           7043 non-null   int64  \n",
      " 7   Dependents        7043 non-null   int64  \n",
      " 8   TenureMonths      7043 non-null   int64  \n",
      " 9   PhoneService      7043 non-null   object \n",
      " 10  MultipleLines     7043 non-null   object \n",
      " 11  InternetService   7043 non-null   object \n",
      " 12  OnlineSecurity    7043 non-null   object \n",
      " 13  OnlineBackup      7043 non-null   object \n",
      " 14  DeviceProtection  7043 non-null   object \n",
      " 15  TechSupport       7043 non-null   object \n",
      " 16  StreamingTV       7043 non-null   object \n",
      " 17  Streaming Movies  7043 non-null   object \n",
      " 18  Contract          7043 non-null   object \n",
      " 19  PaperlessBilling  7043 non-null   object \n",
      " 20  PaymentMethod     7043 non-null   object \n",
      " 21  MonthlyCharges    7043 non-null   float64\n",
      " 22  TotalCharges      7043 non-null   object \n",
      " 23  ChurnValue        7043 non-null   int64  \n",
      " 24  ChurnScore        7043 non-null   int64  \n",
      "dtypes: float64(3), int32(1), int64(8), object(13)\n",
      "memory usage: 1.3+ MB\n"
     ]
    }
   ],
   "source": [
    "df.info()"
   ]
  },
  {
   "cell_type": "code",
   "execution_count": 444,
   "id": "85b62761",
   "metadata": {},
   "outputs": [],
   "source": [
    "df['PaperlessBilling']=df['PaperlessBilling'].map({'No':0,'Yes':1})"
   ]
  },
  {
   "cell_type": "code",
   "execution_count": 445,
   "id": "b46b7b42",
   "metadata": {},
   "outputs": [],
   "source": [
    "df['PhoneService']=df['PhoneService'].map({'No':0,'Yes':1})"
   ]
  },
  {
   "cell_type": "code",
   "execution_count": 446,
   "id": "45e1832e",
   "metadata": {},
   "outputs": [
    {
     "data": {
      "text/plain": [
       "No                     3498\n",
       "Yes                    2019\n",
       "No internet service    1526\n",
       "Name: OnlineSecurity, dtype: int64"
      ]
     },
     "execution_count": 446,
     "metadata": {},
     "output_type": "execute_result"
    }
   ],
   "source": [
    "df['OnlineSecurity'].value_counts()"
   ]
  },
  {
   "cell_type": "code",
   "execution_count": 447,
   "id": "e82a7cab",
   "metadata": {},
   "outputs": [],
   "source": [
    "le.fit(df['OnlineSecurity'])\n",
    "\n",
    "df['OnlineSecurity'] = le.transform(df['OnlineSecurity'])"
   ]
  },
  {
   "cell_type": "code",
   "execution_count": 448,
   "id": "db76cda0",
   "metadata": {},
   "outputs": [],
   "source": [
    " #13  OnlineBackup      7043 non-null   object \n",
    " # 14  DeviceProtection  7043 non-null   object \n",
    " #15  TechSupport       7043 non-null   object \n",
    " #16  StreamingTV       7043 non-null   object \n",
    " #17  Streaming Movies  7043 non-null   object \n",
    " #18  Contract          7043 non-null   object"
   ]
  },
  {
   "cell_type": "code",
   "execution_count": 449,
   "id": "5cf92067",
   "metadata": {},
   "outputs": [],
   "source": [
    "le.fit(df['OnlineBackup'])\n",
    "\n",
    "df['OnlineBackup'] = le.transform(df['OnlineBackup'])"
   ]
  },
  {
   "cell_type": "code",
   "execution_count": 450,
   "id": "39f8ea7c",
   "metadata": {},
   "outputs": [],
   "source": [
    "le.fit(df['DeviceProtection'])\n",
    "\n",
    "df['DeviceProtection'] = le.transform(df['DeviceProtection'])"
   ]
  },
  {
   "cell_type": "code",
   "execution_count": 451,
   "id": "e542af28",
   "metadata": {},
   "outputs": [],
   "source": [
    "le.fit(df['TechSupport'])\n",
    "\n",
    "df['TechSupport'] = le.transform(df['TechSupport'])"
   ]
  },
  {
   "cell_type": "code",
   "execution_count": 452,
   "id": "b398c12c",
   "metadata": {},
   "outputs": [],
   "source": [
    "le.fit(df['StreamingTV'])\n",
    "\n",
    "df['StreamingTV'] = le.transform(df['StreamingTV'])"
   ]
  },
  {
   "cell_type": "code",
   "execution_count": 453,
   "id": "9482ac19",
   "metadata": {},
   "outputs": [],
   "source": [
    "le.fit(df['Streaming Movies'])\n",
    "\n",
    "df['Streaming Movies'] = le.transform(df['Streaming Movies'])"
   ]
  },
  {
   "cell_type": "code",
   "execution_count": 454,
   "id": "8a3357cf",
   "metadata": {},
   "outputs": [],
   "source": [
    "le.fit(df['Contract'])\n",
    "\n",
    "df['Contract'] = le.transform(df['Contract'])"
   ]
  },
  {
   "cell_type": "code",
   "execution_count": 455,
   "id": "44bba399",
   "metadata": {},
   "outputs": [
    {
     "name": "stdout",
     "output_type": "stream",
     "text": [
      "0    3088\n",
      "2    2429\n",
      "1    1526\n",
      "Name: OnlineBackup, dtype: int64\n",
      "0    3095\n",
      "2    2422\n",
      "1    1526\n",
      "Name: DeviceProtection, dtype: int64\n",
      "0    3473\n",
      "2    2044\n",
      "1    1526\n",
      "Name: TechSupport, dtype: int64\n",
      "0    2810\n",
      "2    2707\n",
      "1    1526\n",
      "Name: StreamingTV, dtype: int64\n",
      "0    2785\n",
      "2    2732\n",
      "1    1526\n",
      "Name: Streaming Movies, dtype: int64\n",
      "0    3875\n",
      "2    1695\n",
      "1    1473\n",
      "Name: Contract, dtype: int64\n"
     ]
    }
   ],
   "source": [
    "print(df['OnlineBackup'].value_counts())\n",
    "print(df['DeviceProtection'].value_counts())\n",
    "print(df['TechSupport'].value_counts())\n",
    "print(df['StreamingTV'].value_counts())\n",
    "print(df['Streaming Movies'].value_counts())\n",
    "print(df['Contract'].value_counts())\n"
   ]
  },
  {
   "cell_type": "code",
   "execution_count": 456,
   "id": "1fcf6ed2",
   "metadata": {},
   "outputs": [
    {
     "name": "stdout",
     "output_type": "stream",
     "text": [
      "<class 'pandas.core.frame.DataFrame'>\n",
      "RangeIndex: 7043 entries, 0 to 7042\n",
      "Data columns (total 25 columns):\n",
      " #   Column            Non-Null Count  Dtype  \n",
      "---  ------            --------------  -----  \n",
      " 0   City              7043 non-null   int32  \n",
      " 1   ZipCode           7043 non-null   int64  \n",
      " 2   Latitude          7043 non-null   float64\n",
      " 3   Longitude         7043 non-null   float64\n",
      " 4   Gender            7043 non-null   int64  \n",
      " 5   SeniorCitizen     7043 non-null   int64  \n",
      " 6   Partner           7043 non-null   int64  \n",
      " 7   Dependents        7043 non-null   int64  \n",
      " 8   TenureMonths      7043 non-null   int64  \n",
      " 9   PhoneService      7043 non-null   int64  \n",
      " 10  MultipleLines     7043 non-null   object \n",
      " 11  InternetService   7043 non-null   object \n",
      " 12  OnlineSecurity    7043 non-null   int32  \n",
      " 13  OnlineBackup      7043 non-null   int32  \n",
      " 14  DeviceProtection  7043 non-null   int32  \n",
      " 15  TechSupport       7043 non-null   int32  \n",
      " 16  StreamingTV       7043 non-null   int32  \n",
      " 17  Streaming Movies  7043 non-null   int32  \n",
      " 18  Contract          7043 non-null   int32  \n",
      " 19  PaperlessBilling  7043 non-null   int64  \n",
      " 20  PaymentMethod     7043 non-null   object \n",
      " 21  MonthlyCharges    7043 non-null   float64\n",
      " 22  TotalCharges      7043 non-null   object \n",
      " 23  ChurnValue        7043 non-null   int64  \n",
      " 24  ChurnScore        7043 non-null   int64  \n",
      "dtypes: float64(3), int32(8), int64(10), object(4)\n",
      "memory usage: 1.1+ MB\n"
     ]
    }
   ],
   "source": [
    "df.info()"
   ]
  },
  {
   "cell_type": "code",
   "execution_count": null,
   "id": "6e84be8b",
   "metadata": {},
   "outputs": [],
   "source": []
  },
  {
   "cell_type": "code",
   "execution_count": 458,
   "id": "9b21437e",
   "metadata": {},
   "outputs": [
    {
     "ename": "ValueError",
     "evalue": "invalid literal for int() with base 10: '108.15'",
     "output_type": "error",
     "traceback": [
      "\u001b[1;31m---------------------------------------------------------------------------\u001b[0m",
      "\u001b[1;31mValueError\u001b[0m                                Traceback (most recent call last)",
      "\u001b[1;32m~\\AppData\\Local\\Temp\\ipykernel_8104\\1281377260.py\u001b[0m in \u001b[0;36m<module>\u001b[1;34m\u001b[0m\n\u001b[1;32m----> 1\u001b[1;33m \u001b[0mdf\u001b[0m\u001b[1;33m[\u001b[0m\u001b[1;34m'TotalCharges'\u001b[0m\u001b[1;33m]\u001b[0m \u001b[1;33m=\u001b[0m \u001b[0mpd\u001b[0m\u001b[1;33m.\u001b[0m\u001b[0mto_numeric\u001b[0m\u001b[1;33m(\u001b[0m\u001b[0mdf\u001b[0m\u001b[1;33m[\u001b[0m\u001b[1;34m'TotalCharges'\u001b[0m\u001b[1;33m]\u001b[0m\u001b[1;33m.\u001b[0m\u001b[0mastype\u001b[0m\u001b[1;33m(\u001b[0m\u001b[1;34m'Int64'\u001b[0m\u001b[1;33m)\u001b[0m\u001b[1;33m)\u001b[0m\u001b[1;33m\u001b[0m\u001b[1;33m\u001b[0m\u001b[0m\n\u001b[0m",
      "\u001b[1;32mC:\\ProgramData\\Anaconda3\\lib\\site-packages\\pandas\\core\\generic.py\u001b[0m in \u001b[0;36mastype\u001b[1;34m(self, dtype, copy, errors)\u001b[0m\n\u001b[0;32m   5910\u001b[0m         \u001b[1;32melse\u001b[0m\u001b[1;33m:\u001b[0m\u001b[1;33m\u001b[0m\u001b[1;33m\u001b[0m\u001b[0m\n\u001b[0;32m   5911\u001b[0m             \u001b[1;31m# else, only a single dtype is given\u001b[0m\u001b[1;33m\u001b[0m\u001b[1;33m\u001b[0m\u001b[0m\n\u001b[1;32m-> 5912\u001b[1;33m             \u001b[0mnew_data\u001b[0m \u001b[1;33m=\u001b[0m \u001b[0mself\u001b[0m\u001b[1;33m.\u001b[0m\u001b[0m_mgr\u001b[0m\u001b[1;33m.\u001b[0m\u001b[0mastype\u001b[0m\u001b[1;33m(\u001b[0m\u001b[0mdtype\u001b[0m\u001b[1;33m=\u001b[0m\u001b[0mdtype\u001b[0m\u001b[1;33m,\u001b[0m \u001b[0mcopy\u001b[0m\u001b[1;33m=\u001b[0m\u001b[0mcopy\u001b[0m\u001b[1;33m,\u001b[0m \u001b[0merrors\u001b[0m\u001b[1;33m=\u001b[0m\u001b[0merrors\u001b[0m\u001b[1;33m)\u001b[0m\u001b[1;33m\u001b[0m\u001b[1;33m\u001b[0m\u001b[0m\n\u001b[0m\u001b[0;32m   5913\u001b[0m             \u001b[1;32mreturn\u001b[0m \u001b[0mself\u001b[0m\u001b[1;33m.\u001b[0m\u001b[0m_constructor\u001b[0m\u001b[1;33m(\u001b[0m\u001b[0mnew_data\u001b[0m\u001b[1;33m)\u001b[0m\u001b[1;33m.\u001b[0m\u001b[0m__finalize__\u001b[0m\u001b[1;33m(\u001b[0m\u001b[0mself\u001b[0m\u001b[1;33m,\u001b[0m \u001b[0mmethod\u001b[0m\u001b[1;33m=\u001b[0m\u001b[1;34m\"astype\"\u001b[0m\u001b[1;33m)\u001b[0m\u001b[1;33m\u001b[0m\u001b[1;33m\u001b[0m\u001b[0m\n\u001b[0;32m   5914\u001b[0m \u001b[1;33m\u001b[0m\u001b[0m\n",
      "\u001b[1;32mC:\\ProgramData\\Anaconda3\\lib\\site-packages\\pandas\\core\\internals\\managers.py\u001b[0m in \u001b[0;36mastype\u001b[1;34m(self, dtype, copy, errors)\u001b[0m\n\u001b[0;32m    417\u001b[0m \u001b[1;33m\u001b[0m\u001b[0m\n\u001b[0;32m    418\u001b[0m     \u001b[1;32mdef\u001b[0m \u001b[0mastype\u001b[0m\u001b[1;33m(\u001b[0m\u001b[0mself\u001b[0m\u001b[1;33m:\u001b[0m \u001b[0mT\u001b[0m\u001b[1;33m,\u001b[0m \u001b[0mdtype\u001b[0m\u001b[1;33m,\u001b[0m \u001b[0mcopy\u001b[0m\u001b[1;33m:\u001b[0m \u001b[0mbool\u001b[0m \u001b[1;33m=\u001b[0m \u001b[1;32mFalse\u001b[0m\u001b[1;33m,\u001b[0m \u001b[0merrors\u001b[0m\u001b[1;33m:\u001b[0m \u001b[0mstr\u001b[0m \u001b[1;33m=\u001b[0m \u001b[1;34m\"raise\"\u001b[0m\u001b[1;33m)\u001b[0m \u001b[1;33m->\u001b[0m \u001b[0mT\u001b[0m\u001b[1;33m:\u001b[0m\u001b[1;33m\u001b[0m\u001b[1;33m\u001b[0m\u001b[0m\n\u001b[1;32m--> 419\u001b[1;33m         \u001b[1;32mreturn\u001b[0m \u001b[0mself\u001b[0m\u001b[1;33m.\u001b[0m\u001b[0mapply\u001b[0m\u001b[1;33m(\u001b[0m\u001b[1;34m\"astype\"\u001b[0m\u001b[1;33m,\u001b[0m \u001b[0mdtype\u001b[0m\u001b[1;33m=\u001b[0m\u001b[0mdtype\u001b[0m\u001b[1;33m,\u001b[0m \u001b[0mcopy\u001b[0m\u001b[1;33m=\u001b[0m\u001b[0mcopy\u001b[0m\u001b[1;33m,\u001b[0m \u001b[0merrors\u001b[0m\u001b[1;33m=\u001b[0m\u001b[0merrors\u001b[0m\u001b[1;33m)\u001b[0m\u001b[1;33m\u001b[0m\u001b[1;33m\u001b[0m\u001b[0m\n\u001b[0m\u001b[0;32m    420\u001b[0m \u001b[1;33m\u001b[0m\u001b[0m\n\u001b[0;32m    421\u001b[0m     def convert(\n",
      "\u001b[1;32mC:\\ProgramData\\Anaconda3\\lib\\site-packages\\pandas\\core\\internals\\managers.py\u001b[0m in \u001b[0;36mapply\u001b[1;34m(self, f, align_keys, ignore_failures, **kwargs)\u001b[0m\n\u001b[0;32m    302\u001b[0m                     \u001b[0mapplied\u001b[0m \u001b[1;33m=\u001b[0m \u001b[0mb\u001b[0m\u001b[1;33m.\u001b[0m\u001b[0mapply\u001b[0m\u001b[1;33m(\u001b[0m\u001b[0mf\u001b[0m\u001b[1;33m,\u001b[0m \u001b[1;33m**\u001b[0m\u001b[0mkwargs\u001b[0m\u001b[1;33m)\u001b[0m\u001b[1;33m\u001b[0m\u001b[1;33m\u001b[0m\u001b[0m\n\u001b[0;32m    303\u001b[0m                 \u001b[1;32melse\u001b[0m\u001b[1;33m:\u001b[0m\u001b[1;33m\u001b[0m\u001b[1;33m\u001b[0m\u001b[0m\n\u001b[1;32m--> 304\u001b[1;33m                     \u001b[0mapplied\u001b[0m \u001b[1;33m=\u001b[0m \u001b[0mgetattr\u001b[0m\u001b[1;33m(\u001b[0m\u001b[0mb\u001b[0m\u001b[1;33m,\u001b[0m \u001b[0mf\u001b[0m\u001b[1;33m)\u001b[0m\u001b[1;33m(\u001b[0m\u001b[1;33m**\u001b[0m\u001b[0mkwargs\u001b[0m\u001b[1;33m)\u001b[0m\u001b[1;33m\u001b[0m\u001b[1;33m\u001b[0m\u001b[0m\n\u001b[0m\u001b[0;32m    305\u001b[0m             \u001b[1;32mexcept\u001b[0m \u001b[1;33m(\u001b[0m\u001b[0mTypeError\u001b[0m\u001b[1;33m,\u001b[0m \u001b[0mNotImplementedError\u001b[0m\u001b[1;33m)\u001b[0m\u001b[1;33m:\u001b[0m\u001b[1;33m\u001b[0m\u001b[1;33m\u001b[0m\u001b[0m\n\u001b[0;32m    306\u001b[0m                 \u001b[1;32mif\u001b[0m \u001b[1;32mnot\u001b[0m \u001b[0mignore_failures\u001b[0m\u001b[1;33m:\u001b[0m\u001b[1;33m\u001b[0m\u001b[1;33m\u001b[0m\u001b[0m\n",
      "\u001b[1;32mC:\\ProgramData\\Anaconda3\\lib\\site-packages\\pandas\\core\\internals\\blocks.py\u001b[0m in \u001b[0;36mastype\u001b[1;34m(self, dtype, copy, errors)\u001b[0m\n\u001b[0;32m    578\u001b[0m         \u001b[0mvalues\u001b[0m \u001b[1;33m=\u001b[0m \u001b[0mself\u001b[0m\u001b[1;33m.\u001b[0m\u001b[0mvalues\u001b[0m\u001b[1;33m\u001b[0m\u001b[1;33m\u001b[0m\u001b[0m\n\u001b[0;32m    579\u001b[0m \u001b[1;33m\u001b[0m\u001b[0m\n\u001b[1;32m--> 580\u001b[1;33m         \u001b[0mnew_values\u001b[0m \u001b[1;33m=\u001b[0m \u001b[0mastype_array_safe\u001b[0m\u001b[1;33m(\u001b[0m\u001b[0mvalues\u001b[0m\u001b[1;33m,\u001b[0m \u001b[0mdtype\u001b[0m\u001b[1;33m,\u001b[0m \u001b[0mcopy\u001b[0m\u001b[1;33m=\u001b[0m\u001b[0mcopy\u001b[0m\u001b[1;33m,\u001b[0m \u001b[0merrors\u001b[0m\u001b[1;33m=\u001b[0m\u001b[0merrors\u001b[0m\u001b[1;33m)\u001b[0m\u001b[1;33m\u001b[0m\u001b[1;33m\u001b[0m\u001b[0m\n\u001b[0m\u001b[0;32m    581\u001b[0m \u001b[1;33m\u001b[0m\u001b[0m\n\u001b[0;32m    582\u001b[0m         \u001b[0mnew_values\u001b[0m \u001b[1;33m=\u001b[0m \u001b[0mmaybe_coerce_values\u001b[0m\u001b[1;33m(\u001b[0m\u001b[0mnew_values\u001b[0m\u001b[1;33m)\u001b[0m\u001b[1;33m\u001b[0m\u001b[1;33m\u001b[0m\u001b[0m\n",
      "\u001b[1;32mC:\\ProgramData\\Anaconda3\\lib\\site-packages\\pandas\\core\\dtypes\\cast.py\u001b[0m in \u001b[0;36mastype_array_safe\u001b[1;34m(values, dtype, copy, errors)\u001b[0m\n\u001b[0;32m   1290\u001b[0m \u001b[1;33m\u001b[0m\u001b[0m\n\u001b[0;32m   1291\u001b[0m     \u001b[1;32mtry\u001b[0m\u001b[1;33m:\u001b[0m\u001b[1;33m\u001b[0m\u001b[1;33m\u001b[0m\u001b[0m\n\u001b[1;32m-> 1292\u001b[1;33m         \u001b[0mnew_values\u001b[0m \u001b[1;33m=\u001b[0m \u001b[0mastype_array\u001b[0m\u001b[1;33m(\u001b[0m\u001b[0mvalues\u001b[0m\u001b[1;33m,\u001b[0m \u001b[0mdtype\u001b[0m\u001b[1;33m,\u001b[0m \u001b[0mcopy\u001b[0m\u001b[1;33m=\u001b[0m\u001b[0mcopy\u001b[0m\u001b[1;33m)\u001b[0m\u001b[1;33m\u001b[0m\u001b[1;33m\u001b[0m\u001b[0m\n\u001b[0m\u001b[0;32m   1293\u001b[0m     \u001b[1;32mexcept\u001b[0m \u001b[1;33m(\u001b[0m\u001b[0mValueError\u001b[0m\u001b[1;33m,\u001b[0m \u001b[0mTypeError\u001b[0m\u001b[1;33m)\u001b[0m\u001b[1;33m:\u001b[0m\u001b[1;33m\u001b[0m\u001b[1;33m\u001b[0m\u001b[0m\n\u001b[0;32m   1294\u001b[0m         \u001b[1;31m# e.g. astype_nansafe can fail on object-dtype of strings\u001b[0m\u001b[1;33m\u001b[0m\u001b[1;33m\u001b[0m\u001b[0m\n",
      "\u001b[1;32mC:\\ProgramData\\Anaconda3\\lib\\site-packages\\pandas\\core\\dtypes\\cast.py\u001b[0m in \u001b[0;36mastype_array\u001b[1;34m(values, dtype, copy)\u001b[0m\n\u001b[0;32m   1235\u001b[0m \u001b[1;33m\u001b[0m\u001b[0m\n\u001b[0;32m   1236\u001b[0m     \u001b[1;32melse\u001b[0m\u001b[1;33m:\u001b[0m\u001b[1;33m\u001b[0m\u001b[1;33m\u001b[0m\u001b[0m\n\u001b[1;32m-> 1237\u001b[1;33m         \u001b[0mvalues\u001b[0m \u001b[1;33m=\u001b[0m \u001b[0mastype_nansafe\u001b[0m\u001b[1;33m(\u001b[0m\u001b[0mvalues\u001b[0m\u001b[1;33m,\u001b[0m \u001b[0mdtype\u001b[0m\u001b[1;33m,\u001b[0m \u001b[0mcopy\u001b[0m\u001b[1;33m=\u001b[0m\u001b[0mcopy\u001b[0m\u001b[1;33m)\u001b[0m\u001b[1;33m\u001b[0m\u001b[1;33m\u001b[0m\u001b[0m\n\u001b[0m\u001b[0;32m   1238\u001b[0m \u001b[1;33m\u001b[0m\u001b[0m\n\u001b[0;32m   1239\u001b[0m     \u001b[1;31m# in pandas we don't store numpy str dtypes, so convert to object\u001b[0m\u001b[1;33m\u001b[0m\u001b[1;33m\u001b[0m\u001b[0m\n",
      "\u001b[1;32mC:\\ProgramData\\Anaconda3\\lib\\site-packages\\pandas\\core\\dtypes\\cast.py\u001b[0m in \u001b[0;36mastype_nansafe\u001b[1;34m(arr, dtype, copy, skipna)\u001b[0m\n\u001b[0;32m   1106\u001b[0m     \u001b[1;31m# dispatch on extension dtype if needed\u001b[0m\u001b[1;33m\u001b[0m\u001b[1;33m\u001b[0m\u001b[0m\n\u001b[0;32m   1107\u001b[0m     \u001b[1;32mif\u001b[0m \u001b[0misinstance\u001b[0m\u001b[1;33m(\u001b[0m\u001b[0mdtype\u001b[0m\u001b[1;33m,\u001b[0m \u001b[0mExtensionDtype\u001b[0m\u001b[1;33m)\u001b[0m\u001b[1;33m:\u001b[0m\u001b[1;33m\u001b[0m\u001b[1;33m\u001b[0m\u001b[0m\n\u001b[1;32m-> 1108\u001b[1;33m         \u001b[1;32mreturn\u001b[0m \u001b[0mdtype\u001b[0m\u001b[1;33m.\u001b[0m\u001b[0mconstruct_array_type\u001b[0m\u001b[1;33m(\u001b[0m\u001b[1;33m)\u001b[0m\u001b[1;33m.\u001b[0m\u001b[0m_from_sequence\u001b[0m\u001b[1;33m(\u001b[0m\u001b[0marr\u001b[0m\u001b[1;33m,\u001b[0m \u001b[0mdtype\u001b[0m\u001b[1;33m=\u001b[0m\u001b[0mdtype\u001b[0m\u001b[1;33m,\u001b[0m \u001b[0mcopy\u001b[0m\u001b[1;33m=\u001b[0m\u001b[0mcopy\u001b[0m\u001b[1;33m)\u001b[0m\u001b[1;33m\u001b[0m\u001b[1;33m\u001b[0m\u001b[0m\n\u001b[0m\u001b[0;32m   1109\u001b[0m \u001b[1;33m\u001b[0m\u001b[0m\n\u001b[0;32m   1110\u001b[0m     \u001b[1;32melif\u001b[0m \u001b[1;32mnot\u001b[0m \u001b[0misinstance\u001b[0m\u001b[1;33m(\u001b[0m\u001b[0mdtype\u001b[0m\u001b[1;33m,\u001b[0m \u001b[0mnp\u001b[0m\u001b[1;33m.\u001b[0m\u001b[0mdtype\u001b[0m\u001b[1;33m)\u001b[0m\u001b[1;33m:\u001b[0m  \u001b[1;31m# pragma: no cover\u001b[0m\u001b[1;33m\u001b[0m\u001b[1;33m\u001b[0m\u001b[0m\n",
      "\u001b[1;32mC:\\ProgramData\\Anaconda3\\lib\\site-packages\\pandas\\core\\arrays\\integer.py\u001b[0m in \u001b[0;36m_from_sequence\u001b[1;34m(cls, scalars, dtype, copy)\u001b[0m\n\u001b[0;32m    323\u001b[0m         \u001b[0mcls\u001b[0m\u001b[1;33m,\u001b[0m \u001b[0mscalars\u001b[0m\u001b[1;33m,\u001b[0m \u001b[1;33m*\u001b[0m\u001b[1;33m,\u001b[0m \u001b[0mdtype\u001b[0m\u001b[1;33m:\u001b[0m \u001b[0mDtype\u001b[0m \u001b[1;33m|\u001b[0m \u001b[1;32mNone\u001b[0m \u001b[1;33m=\u001b[0m \u001b[1;32mNone\u001b[0m\u001b[1;33m,\u001b[0m \u001b[0mcopy\u001b[0m\u001b[1;33m:\u001b[0m \u001b[0mbool\u001b[0m \u001b[1;33m=\u001b[0m \u001b[1;32mFalse\u001b[0m\u001b[1;33m\u001b[0m\u001b[1;33m\u001b[0m\u001b[0m\n\u001b[0;32m    324\u001b[0m     ) -> IntegerArray:\n\u001b[1;32m--> 325\u001b[1;33m         \u001b[0mvalues\u001b[0m\u001b[1;33m,\u001b[0m \u001b[0mmask\u001b[0m \u001b[1;33m=\u001b[0m \u001b[0mcoerce_to_array\u001b[0m\u001b[1;33m(\u001b[0m\u001b[0mscalars\u001b[0m\u001b[1;33m,\u001b[0m \u001b[0mdtype\u001b[0m\u001b[1;33m=\u001b[0m\u001b[0mdtype\u001b[0m\u001b[1;33m,\u001b[0m \u001b[0mcopy\u001b[0m\u001b[1;33m=\u001b[0m\u001b[0mcopy\u001b[0m\u001b[1;33m)\u001b[0m\u001b[1;33m\u001b[0m\u001b[1;33m\u001b[0m\u001b[0m\n\u001b[0m\u001b[0;32m    326\u001b[0m         \u001b[1;32mreturn\u001b[0m \u001b[0mIntegerArray\u001b[0m\u001b[1;33m(\u001b[0m\u001b[0mvalues\u001b[0m\u001b[1;33m,\u001b[0m \u001b[0mmask\u001b[0m\u001b[1;33m)\u001b[0m\u001b[1;33m\u001b[0m\u001b[1;33m\u001b[0m\u001b[0m\n\u001b[0;32m    327\u001b[0m \u001b[1;33m\u001b[0m\u001b[0m\n",
      "\u001b[1;32mC:\\ProgramData\\Anaconda3\\lib\\site-packages\\pandas\\core\\arrays\\integer.py\u001b[0m in \u001b[0;36mcoerce_to_array\u001b[1;34m(values, dtype, mask, copy)\u001b[0m\n\u001b[0;32m    226\u001b[0m         \u001b[1;31m# casts from str are always safe since they raise\u001b[0m\u001b[1;33m\u001b[0m\u001b[1;33m\u001b[0m\u001b[0m\n\u001b[0;32m    227\u001b[0m         \u001b[1;31m# a ValueError if the str cannot be parsed into an int\u001b[0m\u001b[1;33m\u001b[0m\u001b[1;33m\u001b[0m\u001b[0m\n\u001b[1;32m--> 228\u001b[1;33m         \u001b[0mvalues\u001b[0m \u001b[1;33m=\u001b[0m \u001b[0mvalues\u001b[0m\u001b[1;33m.\u001b[0m\u001b[0mastype\u001b[0m\u001b[1;33m(\u001b[0m\u001b[0mdtype\u001b[0m\u001b[1;33m,\u001b[0m \u001b[0mcopy\u001b[0m\u001b[1;33m=\u001b[0m\u001b[0mcopy\u001b[0m\u001b[1;33m)\u001b[0m\u001b[1;33m\u001b[0m\u001b[1;33m\u001b[0m\u001b[0m\n\u001b[0m\u001b[0;32m    229\u001b[0m     \u001b[1;32melse\u001b[0m\u001b[1;33m:\u001b[0m\u001b[1;33m\u001b[0m\u001b[1;33m\u001b[0m\u001b[0m\n\u001b[0;32m    230\u001b[0m         \u001b[0mvalues\u001b[0m \u001b[1;33m=\u001b[0m \u001b[0msafe_cast\u001b[0m\u001b[1;33m(\u001b[0m\u001b[0mvalues\u001b[0m\u001b[1;33m,\u001b[0m \u001b[0mdtype\u001b[0m\u001b[1;33m,\u001b[0m \u001b[0mcopy\u001b[0m\u001b[1;33m=\u001b[0m\u001b[1;32mFalse\u001b[0m\u001b[1;33m)\u001b[0m\u001b[1;33m\u001b[0m\u001b[1;33m\u001b[0m\u001b[0m\n",
      "\u001b[1;31mValueError\u001b[0m: invalid literal for int() with base 10: '108.15'"
     ]
    }
   ],
   "source": [
    "df['TotalCharges'] = pd.to_numeric(df['TotalCharges'].astype('Int64'))"
   ]
  },
  {
   "cell_type": "code",
   "execution_count": 459,
   "id": "fd660384",
   "metadata": {},
   "outputs": [],
   "source": [
    "df['TotalCharges'] = pd.to_numeric(df['TotalCharges'], errors='coerce').astype('float64')\n"
   ]
  },
  {
   "cell_type": "code",
   "execution_count": 460,
   "id": "73e1951a",
   "metadata": {},
   "outputs": [
    {
     "data": {
      "text/plain": [
       "0        108.15\n",
       "1        151.65\n",
       "2        820.50\n",
       "3       3046.05\n",
       "4       5036.30\n",
       "         ...   \n",
       "7038    1419.40\n",
       "7039    1990.50\n",
       "7040    7362.90\n",
       "7041     346.45\n",
       "7042    6844.50\n",
       "Name: TotalCharges, Length: 7043, dtype: float64"
      ]
     },
     "execution_count": 460,
     "metadata": {},
     "output_type": "execute_result"
    }
   ],
   "source": [
    "df['TotalCharges']"
   ]
  },
  {
   "cell_type": "code",
   "execution_count": 461,
   "id": "d8429ed8",
   "metadata": {},
   "outputs": [
    {
     "name": "stdout",
     "output_type": "stream",
     "text": [
      "<class 'pandas.core.frame.DataFrame'>\n",
      "RangeIndex: 7043 entries, 0 to 7042\n",
      "Data columns (total 25 columns):\n",
      " #   Column            Non-Null Count  Dtype  \n",
      "---  ------            --------------  -----  \n",
      " 0   City              7043 non-null   int32  \n",
      " 1   ZipCode           7043 non-null   int64  \n",
      " 2   Latitude          7043 non-null   float64\n",
      " 3   Longitude         7043 non-null   float64\n",
      " 4   Gender            7043 non-null   int64  \n",
      " 5   SeniorCitizen     7043 non-null   int64  \n",
      " 6   Partner           7043 non-null   int64  \n",
      " 7   Dependents        7043 non-null   int64  \n",
      " 8   TenureMonths      7043 non-null   int64  \n",
      " 9   PhoneService      7043 non-null   int64  \n",
      " 10  MultipleLines     7043 non-null   object \n",
      " 11  InternetService   7043 non-null   object \n",
      " 12  OnlineSecurity    7043 non-null   int32  \n",
      " 13  OnlineBackup      7043 non-null   int32  \n",
      " 14  DeviceProtection  7043 non-null   int32  \n",
      " 15  TechSupport       7043 non-null   int32  \n",
      " 16  StreamingTV       7043 non-null   int32  \n",
      " 17  Streaming Movies  7043 non-null   int32  \n",
      " 18  Contract          7043 non-null   int32  \n",
      " 19  PaperlessBilling  7043 non-null   int64  \n",
      " 20  PaymentMethod     7043 non-null   object \n",
      " 21  MonthlyCharges    7043 non-null   float64\n",
      " 22  TotalCharges      7032 non-null   float64\n",
      " 23  ChurnValue        7043 non-null   int64  \n",
      " 24  ChurnScore        7043 non-null   int64  \n",
      "dtypes: float64(4), int32(8), int64(10), object(3)\n",
      "memory usage: 1.1+ MB\n"
     ]
    }
   ],
   "source": [
    "df.info()"
   ]
  },
  {
   "cell_type": "code",
   "execution_count": 462,
   "id": "d317e2b5",
   "metadata": {},
   "outputs": [
    {
     "data": {
      "text/plain": [
       "Electronic check             2365\n",
       "Mailed check                 1612\n",
       "Bank transfer (automatic)    1544\n",
       "Credit card (automatic)      1522\n",
       "Name: PaymentMethod, dtype: int64"
      ]
     },
     "execution_count": 462,
     "metadata": {},
     "output_type": "execute_result"
    }
   ],
   "source": [
    "df['PaymentMethod'].value_counts()"
   ]
  },
  {
   "cell_type": "code",
   "execution_count": 463,
   "id": "7daa0293",
   "metadata": {},
   "outputs": [],
   "source": [
    "le.fit(df['PaymentMethod'])\n",
    "\n",
    "df['PaymentMethod'] = le.transform(df['PaymentMethod'])"
   ]
  },
  {
   "cell_type": "code",
   "execution_count": 464,
   "id": "51b85e6a",
   "metadata": {},
   "outputs": [
    {
     "data": {
      "text/plain": [
       "No                  3390\n",
       "Yes                 2971\n",
       "No phone service     682\n",
       "Name: MultipleLines, dtype: int64"
      ]
     },
     "execution_count": 464,
     "metadata": {},
     "output_type": "execute_result"
    }
   ],
   "source": [
    "df['MultipleLines'].value_counts()"
   ]
  },
  {
   "cell_type": "code",
   "execution_count": 465,
   "id": "1a83184a",
   "metadata": {},
   "outputs": [
    {
     "ename": "ValueError",
     "evalue": "y contains previously unseen labels: 'No'",
     "output_type": "error",
     "traceback": [
      "\u001b[1;31m---------------------------------------------------------------------------\u001b[0m",
      "\u001b[1;31mKeyError\u001b[0m                                  Traceback (most recent call last)",
      "\u001b[1;32mC:\\ProgramData\\Anaconda3\\lib\\site-packages\\sklearn\\utils\\_encode.py\u001b[0m in \u001b[0;36m_encode\u001b[1;34m(values, uniques, check_unknown)\u001b[0m\n\u001b[0;32m    181\u001b[0m         \u001b[1;32mtry\u001b[0m\u001b[1;33m:\u001b[0m\u001b[1;33m\u001b[0m\u001b[1;33m\u001b[0m\u001b[0m\n\u001b[1;32m--> 182\u001b[1;33m             \u001b[1;32mreturn\u001b[0m \u001b[0m_map_to_integer\u001b[0m\u001b[1;33m(\u001b[0m\u001b[0mvalues\u001b[0m\u001b[1;33m,\u001b[0m \u001b[0muniques\u001b[0m\u001b[1;33m)\u001b[0m\u001b[1;33m\u001b[0m\u001b[1;33m\u001b[0m\u001b[0m\n\u001b[0m\u001b[0;32m    183\u001b[0m         \u001b[1;32mexcept\u001b[0m \u001b[0mKeyError\u001b[0m \u001b[1;32mas\u001b[0m \u001b[0me\u001b[0m\u001b[1;33m:\u001b[0m\u001b[1;33m\u001b[0m\u001b[1;33m\u001b[0m\u001b[0m\n",
      "\u001b[1;32mC:\\ProgramData\\Anaconda3\\lib\\site-packages\\sklearn\\utils\\_encode.py\u001b[0m in \u001b[0;36m_map_to_integer\u001b[1;34m(values, uniques)\u001b[0m\n\u001b[0;32m    125\u001b[0m     \u001b[0mtable\u001b[0m \u001b[1;33m=\u001b[0m \u001b[0m_nandict\u001b[0m\u001b[1;33m(\u001b[0m\u001b[1;33m{\u001b[0m\u001b[0mval\u001b[0m\u001b[1;33m:\u001b[0m \u001b[0mi\u001b[0m \u001b[1;32mfor\u001b[0m \u001b[0mi\u001b[0m\u001b[1;33m,\u001b[0m \u001b[0mval\u001b[0m \u001b[1;32min\u001b[0m \u001b[0menumerate\u001b[0m\u001b[1;33m(\u001b[0m\u001b[0muniques\u001b[0m\u001b[1;33m)\u001b[0m\u001b[1;33m}\u001b[0m\u001b[1;33m)\u001b[0m\u001b[1;33m\u001b[0m\u001b[1;33m\u001b[0m\u001b[0m\n\u001b[1;32m--> 126\u001b[1;33m     \u001b[1;32mreturn\u001b[0m \u001b[0mnp\u001b[0m\u001b[1;33m.\u001b[0m\u001b[0marray\u001b[0m\u001b[1;33m(\u001b[0m\u001b[1;33m[\u001b[0m\u001b[0mtable\u001b[0m\u001b[1;33m[\u001b[0m\u001b[0mv\u001b[0m\u001b[1;33m]\u001b[0m \u001b[1;32mfor\u001b[0m \u001b[0mv\u001b[0m \u001b[1;32min\u001b[0m \u001b[0mvalues\u001b[0m\u001b[1;33m]\u001b[0m\u001b[1;33m)\u001b[0m\u001b[1;33m\u001b[0m\u001b[1;33m\u001b[0m\u001b[0m\n\u001b[0m\u001b[0;32m    127\u001b[0m \u001b[1;33m\u001b[0m\u001b[0m\n",
      "\u001b[1;32mC:\\ProgramData\\Anaconda3\\lib\\site-packages\\sklearn\\utils\\_encode.py\u001b[0m in \u001b[0;36m<listcomp>\u001b[1;34m(.0)\u001b[0m\n\u001b[0;32m    125\u001b[0m     \u001b[0mtable\u001b[0m \u001b[1;33m=\u001b[0m \u001b[0m_nandict\u001b[0m\u001b[1;33m(\u001b[0m\u001b[1;33m{\u001b[0m\u001b[0mval\u001b[0m\u001b[1;33m:\u001b[0m \u001b[0mi\u001b[0m \u001b[1;32mfor\u001b[0m \u001b[0mi\u001b[0m\u001b[1;33m,\u001b[0m \u001b[0mval\u001b[0m \u001b[1;32min\u001b[0m \u001b[0menumerate\u001b[0m\u001b[1;33m(\u001b[0m\u001b[0muniques\u001b[0m\u001b[1;33m)\u001b[0m\u001b[1;33m}\u001b[0m\u001b[1;33m)\u001b[0m\u001b[1;33m\u001b[0m\u001b[1;33m\u001b[0m\u001b[0m\n\u001b[1;32m--> 126\u001b[1;33m     \u001b[1;32mreturn\u001b[0m \u001b[0mnp\u001b[0m\u001b[1;33m.\u001b[0m\u001b[0marray\u001b[0m\u001b[1;33m(\u001b[0m\u001b[1;33m[\u001b[0m\u001b[0mtable\u001b[0m\u001b[1;33m[\u001b[0m\u001b[0mv\u001b[0m\u001b[1;33m]\u001b[0m \u001b[1;32mfor\u001b[0m \u001b[0mv\u001b[0m \u001b[1;32min\u001b[0m \u001b[0mvalues\u001b[0m\u001b[1;33m]\u001b[0m\u001b[1;33m)\u001b[0m\u001b[1;33m\u001b[0m\u001b[1;33m\u001b[0m\u001b[0m\n\u001b[0m\u001b[0;32m    127\u001b[0m \u001b[1;33m\u001b[0m\u001b[0m\n",
      "\u001b[1;32mC:\\ProgramData\\Anaconda3\\lib\\site-packages\\sklearn\\utils\\_encode.py\u001b[0m in \u001b[0;36m__missing__\u001b[1;34m(self, key)\u001b[0m\n\u001b[0;32m    119\u001b[0m             \u001b[1;32mreturn\u001b[0m \u001b[0mself\u001b[0m\u001b[1;33m.\u001b[0m\u001b[0mnan_value\u001b[0m\u001b[1;33m\u001b[0m\u001b[1;33m\u001b[0m\u001b[0m\n\u001b[1;32m--> 120\u001b[1;33m         \u001b[1;32mraise\u001b[0m \u001b[0mKeyError\u001b[0m\u001b[1;33m(\u001b[0m\u001b[0mkey\u001b[0m\u001b[1;33m)\u001b[0m\u001b[1;33m\u001b[0m\u001b[1;33m\u001b[0m\u001b[0m\n\u001b[0m\u001b[0;32m    121\u001b[0m \u001b[1;33m\u001b[0m\u001b[0m\n",
      "\u001b[1;31mKeyError\u001b[0m: 'No'",
      "\nDuring handling of the above exception, another exception occurred:\n",
      "\u001b[1;31mValueError\u001b[0m                                Traceback (most recent call last)",
      "\u001b[1;32m~\\AppData\\Local\\Temp\\ipykernel_8104\\3960472669.py\u001b[0m in \u001b[0;36m<module>\u001b[1;34m\u001b[0m\n\u001b[0;32m      1\u001b[0m \u001b[0mle\u001b[0m\u001b[1;33m.\u001b[0m\u001b[0mfit\u001b[0m\u001b[1;33m(\u001b[0m\u001b[1;33m[\u001b[0m\u001b[1;34m'MultipleLines'\u001b[0m\u001b[1;33m]\u001b[0m\u001b[1;33m)\u001b[0m\u001b[1;33m\u001b[0m\u001b[1;33m\u001b[0m\u001b[0m\n\u001b[1;32m----> 2\u001b[1;33m \u001b[0mdf\u001b[0m\u001b[1;33m[\u001b[0m\u001b[1;34m'MultipleLines'\u001b[0m\u001b[1;33m]\u001b[0m\u001b[1;33m=\u001b[0m\u001b[0mle\u001b[0m\u001b[1;33m.\u001b[0m\u001b[0mtransform\u001b[0m\u001b[1;33m(\u001b[0m\u001b[0mdf\u001b[0m\u001b[1;33m[\u001b[0m\u001b[1;34m'MultipleLines'\u001b[0m\u001b[1;33m]\u001b[0m\u001b[1;33m)\u001b[0m\u001b[1;33m\u001b[0m\u001b[1;33m\u001b[0m\u001b[0m\n\u001b[0m",
      "\u001b[1;32mC:\\ProgramData\\Anaconda3\\lib\\site-packages\\sklearn\\preprocessing\\_label.py\u001b[0m in \u001b[0;36mtransform\u001b[1;34m(self, y)\u001b[0m\n\u001b[0;32m    136\u001b[0m             \u001b[1;32mreturn\u001b[0m \u001b[0mnp\u001b[0m\u001b[1;33m.\u001b[0m\u001b[0marray\u001b[0m\u001b[1;33m(\u001b[0m\u001b[1;33m[\u001b[0m\u001b[1;33m]\u001b[0m\u001b[1;33m)\u001b[0m\u001b[1;33m\u001b[0m\u001b[1;33m\u001b[0m\u001b[0m\n\u001b[0;32m    137\u001b[0m \u001b[1;33m\u001b[0m\u001b[0m\n\u001b[1;32m--> 138\u001b[1;33m         \u001b[1;32mreturn\u001b[0m \u001b[0m_encode\u001b[0m\u001b[1;33m(\u001b[0m\u001b[0my\u001b[0m\u001b[1;33m,\u001b[0m \u001b[0muniques\u001b[0m\u001b[1;33m=\u001b[0m\u001b[0mself\u001b[0m\u001b[1;33m.\u001b[0m\u001b[0mclasses_\u001b[0m\u001b[1;33m)\u001b[0m\u001b[1;33m\u001b[0m\u001b[1;33m\u001b[0m\u001b[0m\n\u001b[0m\u001b[0;32m    139\u001b[0m \u001b[1;33m\u001b[0m\u001b[0m\n\u001b[0;32m    140\u001b[0m     \u001b[1;32mdef\u001b[0m \u001b[0minverse_transform\u001b[0m\u001b[1;33m(\u001b[0m\u001b[0mself\u001b[0m\u001b[1;33m,\u001b[0m \u001b[0my\u001b[0m\u001b[1;33m)\u001b[0m\u001b[1;33m:\u001b[0m\u001b[1;33m\u001b[0m\u001b[1;33m\u001b[0m\u001b[0m\n",
      "\u001b[1;32mC:\\ProgramData\\Anaconda3\\lib\\site-packages\\sklearn\\utils\\_encode.py\u001b[0m in \u001b[0;36m_encode\u001b[1;34m(values, uniques, check_unknown)\u001b[0m\n\u001b[0;32m    182\u001b[0m             \u001b[1;32mreturn\u001b[0m \u001b[0m_map_to_integer\u001b[0m\u001b[1;33m(\u001b[0m\u001b[0mvalues\u001b[0m\u001b[1;33m,\u001b[0m \u001b[0muniques\u001b[0m\u001b[1;33m)\u001b[0m\u001b[1;33m\u001b[0m\u001b[1;33m\u001b[0m\u001b[0m\n\u001b[0;32m    183\u001b[0m         \u001b[1;32mexcept\u001b[0m \u001b[0mKeyError\u001b[0m \u001b[1;32mas\u001b[0m \u001b[0me\u001b[0m\u001b[1;33m:\u001b[0m\u001b[1;33m\u001b[0m\u001b[1;33m\u001b[0m\u001b[0m\n\u001b[1;32m--> 184\u001b[1;33m             \u001b[1;32mraise\u001b[0m \u001b[0mValueError\u001b[0m\u001b[1;33m(\u001b[0m\u001b[1;34mf\"y contains previously unseen labels: {str(e)}\"\u001b[0m\u001b[1;33m)\u001b[0m\u001b[1;33m\u001b[0m\u001b[1;33m\u001b[0m\u001b[0m\n\u001b[0m\u001b[0;32m    185\u001b[0m     \u001b[1;32melse\u001b[0m\u001b[1;33m:\u001b[0m\u001b[1;33m\u001b[0m\u001b[1;33m\u001b[0m\u001b[0m\n\u001b[0;32m    186\u001b[0m         \u001b[1;32mif\u001b[0m \u001b[0mcheck_unknown\u001b[0m\u001b[1;33m:\u001b[0m\u001b[1;33m\u001b[0m\u001b[1;33m\u001b[0m\u001b[0m\n",
      "\u001b[1;31mValueError\u001b[0m: y contains previously unseen labels: 'No'"
     ]
    }
   ],
   "source": [
    "le.fit(['MultipleLines'])\n",
    "df['MultipleLines']=le.transform(df['MultipleLines'])"
   ]
  },
  {
   "cell_type": "code",
   "execution_count": null,
   "id": "46b29479",
   "metadata": {},
   "outputs": [],
   "source": [
    "df['MultipleLines'].unique()"
   ]
  },
  {
   "cell_type": "code",
   "execution_count": 466,
   "id": "cd7ce7b2",
   "metadata": {},
   "outputs": [],
   "source": [
    "df['MultipleLines']=df['MultipleLines'].map({'No':0,'Yes':1,'No phone service':2})"
   ]
  },
  {
   "cell_type": "code",
   "execution_count": 467,
   "id": "0adb7d29",
   "metadata": {},
   "outputs": [
    {
     "name": "stdout",
     "output_type": "stream",
     "text": [
      "<class 'pandas.core.frame.DataFrame'>\n",
      "RangeIndex: 7043 entries, 0 to 7042\n",
      "Data columns (total 25 columns):\n",
      " #   Column            Non-Null Count  Dtype  \n",
      "---  ------            --------------  -----  \n",
      " 0   City              7043 non-null   int32  \n",
      " 1   ZipCode           7043 non-null   int64  \n",
      " 2   Latitude          7043 non-null   float64\n",
      " 3   Longitude         7043 non-null   float64\n",
      " 4   Gender            7043 non-null   int64  \n",
      " 5   SeniorCitizen     7043 non-null   int64  \n",
      " 6   Partner           7043 non-null   int64  \n",
      " 7   Dependents        7043 non-null   int64  \n",
      " 8   TenureMonths      7043 non-null   int64  \n",
      " 9   PhoneService      7043 non-null   int64  \n",
      " 10  MultipleLines     7043 non-null   int64  \n",
      " 11  InternetService   7043 non-null   object \n",
      " 12  OnlineSecurity    7043 non-null   int32  \n",
      " 13  OnlineBackup      7043 non-null   int32  \n",
      " 14  DeviceProtection  7043 non-null   int32  \n",
      " 15  TechSupport       7043 non-null   int32  \n",
      " 16  StreamingTV       7043 non-null   int32  \n",
      " 17  Streaming Movies  7043 non-null   int32  \n",
      " 18  Contract          7043 non-null   int32  \n",
      " 19  PaperlessBilling  7043 non-null   int64  \n",
      " 20  PaymentMethod     7043 non-null   int32  \n",
      " 21  MonthlyCharges    7043 non-null   float64\n",
      " 22  TotalCharges      7032 non-null   float64\n",
      " 23  ChurnValue        7043 non-null   int64  \n",
      " 24  ChurnScore        7043 non-null   int64  \n",
      "dtypes: float64(4), int32(9), int64(11), object(1)\n",
      "memory usage: 1.1+ MB\n"
     ]
    }
   ],
   "source": [
    "df.info()"
   ]
  },
  {
   "cell_type": "code",
   "execution_count": 468,
   "id": "e6d5eedc",
   "metadata": {},
   "outputs": [
    {
     "data": {
      "text/plain": [
       "array(['DSL', 'Fiber optic', 'No'], dtype=object)"
      ]
     },
     "execution_count": 468,
     "metadata": {},
     "output_type": "execute_result"
    }
   ],
   "source": [
    "df['InternetService'].unique()"
   ]
  },
  {
   "cell_type": "code",
   "execution_count": 469,
   "id": "210813b4",
   "metadata": {},
   "outputs": [],
   "source": [
    "df['InternetService']=df['InternetService'].map({'DSL':0,'Fiber optic':1,'No':2})"
   ]
  },
  {
   "cell_type": "code",
   "execution_count": null,
   "id": "4e88a750",
   "metadata": {},
   "outputs": [],
   "source": []
  },
  {
   "cell_type": "code",
   "execution_count": 470,
   "id": "734f7f90",
   "metadata": {},
   "outputs": [
    {
     "name": "stdout",
     "output_type": "stream",
     "text": [
      "<class 'pandas.core.frame.DataFrame'>\n",
      "RangeIndex: 7043 entries, 0 to 7042\n",
      "Data columns (total 25 columns):\n",
      " #   Column            Non-Null Count  Dtype  \n",
      "---  ------            --------------  -----  \n",
      " 0   City              7043 non-null   int32  \n",
      " 1   ZipCode           7043 non-null   int64  \n",
      " 2   Latitude          7043 non-null   float64\n",
      " 3   Longitude         7043 non-null   float64\n",
      " 4   Gender            7043 non-null   int64  \n",
      " 5   SeniorCitizen     7043 non-null   int64  \n",
      " 6   Partner           7043 non-null   int64  \n",
      " 7   Dependents        7043 non-null   int64  \n",
      " 8   TenureMonths      7043 non-null   int64  \n",
      " 9   PhoneService      7043 non-null   int64  \n",
      " 10  MultipleLines     7043 non-null   int64  \n",
      " 11  InternetService   7043 non-null   int64  \n",
      " 12  OnlineSecurity    7043 non-null   int32  \n",
      " 13  OnlineBackup      7043 non-null   int32  \n",
      " 14  DeviceProtection  7043 non-null   int32  \n",
      " 15  TechSupport       7043 non-null   int32  \n",
      " 16  StreamingTV       7043 non-null   int32  \n",
      " 17  Streaming Movies  7043 non-null   int32  \n",
      " 18  Contract          7043 non-null   int32  \n",
      " 19  PaperlessBilling  7043 non-null   int64  \n",
      " 20  PaymentMethod     7043 non-null   int32  \n",
      " 21  MonthlyCharges    7043 non-null   float64\n",
      " 22  TotalCharges      7032 non-null   float64\n",
      " 23  ChurnValue        7043 non-null   int64  \n",
      " 24  ChurnScore        7043 non-null   int64  \n",
      "dtypes: float64(4), int32(9), int64(12)\n",
      "memory usage: 1.1 MB\n"
     ]
    }
   ],
   "source": [
    "df.info()"
   ]
  },
  {
   "cell_type": "code",
   "execution_count": 489,
   "id": "34ab524d",
   "metadata": {},
   "outputs": [
    {
     "name": "stdout",
     "output_type": "stream",
     "text": [
      "Accuracy:0.92\n",
      "\n",
      "the classification report:\n",
      "               precision    recall  f1-score   support\n",
      "\n",
      "           0       0.93      0.97      0.95      1806\n",
      "           1       0.91      0.79      0.84       660\n",
      "\n",
      "    accuracy                           0.92      2466\n",
      "   macro avg       0.92      0.88      0.90      2466\n",
      "weighted avg       0.92      0.92      0.92      2466\n",
      "\n"
     ]
    }
   ],
   "source": [
    "y=df['ChurnValue']\n",
    "X=df.drop(['ChurnValue'],axis=1)\n",
    "X_train , X_test ,y_train,y_test=train_test_split(X,y,test_size=.35,random_state=0)\n",
    "rfc=RandomForestClassifier(n_estimators=10,random_state=0)\n",
    "\n",
    "rfc.fit(X_train,y_train)\n",
    "\n",
    "y_pred=rfc.predict(X_test)\n",
    "accu=accuracy_score(y_test,y_pred)\n",
    "classification_rep=classification_report(y_test,y_pred)\n",
    "print(f\"Accuracy:{accu:.2f}\")\n",
    "print(\"\\nthe classification report:\\n\",classification_rep)"
   ]
  },
  {
   "cell_type": "code",
   "execution_count": 472,
   "id": "44191605",
   "metadata": {},
   "outputs": [],
   "source": [
    "df['Latitude'] = df['Latitude'].astype('float32')\n"
   ]
  },
  {
   "cell_type": "code",
   "execution_count": 473,
   "id": "8811b6c1",
   "metadata": {},
   "outputs": [],
   "source": [
    "df['Longitude'] = df['Longitude'].astype('float32')\n"
   ]
  },
  {
   "cell_type": "code",
   "execution_count": 488,
   "id": "fed059ed",
   "metadata": {},
   "outputs": [
    {
     "name": "stdout",
     "output_type": "stream",
     "text": [
      "<class 'pandas.core.frame.DataFrame'>\n",
      "RangeIndex: 7043 entries, 0 to 7042\n",
      "Data columns (total 25 columns):\n",
      " #   Column            Non-Null Count  Dtype  \n",
      "---  ------            --------------  -----  \n",
      " 0   City              7043 non-null   int32  \n",
      " 1   ZipCode           7043 non-null   int64  \n",
      " 2   Latitude          7043 non-null   float32\n",
      " 3   Longitude         7043 non-null   float32\n",
      " 4   Gender            7043 non-null   int64  \n",
      " 5   SeniorCitizen     7043 non-null   int64  \n",
      " 6   Partner           7043 non-null   int64  \n",
      " 7   Dependents        7043 non-null   int64  \n",
      " 8   TenureMonths      7043 non-null   int64  \n",
      " 9   PhoneService      7043 non-null   int64  \n",
      " 10  MultipleLines     7043 non-null   int64  \n",
      " 11  InternetService   7043 non-null   int64  \n",
      " 12  OnlineSecurity    7043 non-null   int32  \n",
      " 13  OnlineBackup      7043 non-null   int32  \n",
      " 14  DeviceProtection  7043 non-null   int32  \n",
      " 15  TechSupport       7043 non-null   int32  \n",
      " 16  StreamingTV       7043 non-null   int32  \n",
      " 17  Streaming Movies  7043 non-null   int32  \n",
      " 18  Contract          7043 non-null   int32  \n",
      " 19  PaperlessBilling  7043 non-null   int64  \n",
      " 20  PaymentMethod     7043 non-null   int32  \n",
      " 21  MonthlyCharges    7043 non-null   float32\n",
      " 22  TotalCharges      7043 non-null   float32\n",
      " 23  ChurnValue        7043 non-null   int64  \n",
      " 24  ChurnScore        7043 non-null   int64  \n",
      "dtypes: float32(4), int32(9), int64(12)\n",
      "memory usage: 1018.1 KB\n"
     ]
    }
   ],
   "source": [
    "df.info()"
   ]
  },
  {
   "cell_type": "code",
   "execution_count": 477,
   "id": "2c0d36ad",
   "metadata": {},
   "outputs": [],
   "source": [
    "df['MonthlyCharges'] = df['MonthlyCharges'].astype('float32')"
   ]
  },
  {
   "cell_type": "code",
   "execution_count": 482,
   "id": "ef7ab067",
   "metadata": {},
   "outputs": [],
   "source": [
    "df['TotalCharges'] = df['TotalCharges'].astype('float32')"
   ]
  },
  {
   "cell_type": "code",
   "execution_count": null,
   "id": "8fb9bf4c",
   "metadata": {},
   "outputs": [],
   "source": [
    "df.isnull().sum()"
   ]
  },
  {
   "cell_type": "code",
   "execution_count": null,
   "id": "f2eaa50e",
   "metadata": {},
   "outputs": [],
   "source": [
    "df['TotalCharges'].isnull().sum()"
   ]
  },
  {
   "cell_type": "code",
   "execution_count": 480,
   "id": "8468e252",
   "metadata": {},
   "outputs": [],
   "source": [
    "df['TotalCharges'] = df['TotalCharges'].fillna(0)"
   ]
  },
  {
   "cell_type": "code",
   "execution_count": null,
   "id": "2f9e4649",
   "metadata": {},
   "outputs": [],
   "source": [
    "#using smote to balance the data"
   ]
  },
  {
   "cell_type": "code",
   "execution_count": 491,
   "id": "11f5708e",
   "metadata": {},
   "outputs": [],
   "source": [
    "df1=df.copy()"
   ]
  },
  {
   "cell_type": "code",
   "execution_count": 492,
   "id": "dc0ee806",
   "metadata": {},
   "outputs": [],
   "source": [
    "df2=df.copy()"
   ]
  },
  {
   "cell_type": "code",
   "execution_count": 493,
   "id": "0bd00456",
   "metadata": {},
   "outputs": [
    {
     "name": "stdout",
     "output_type": "stream",
     "text": [
      "0    5174\n",
      "1    3000\n",
      "Name: ChurnValue, dtype: int64\n"
     ]
    }
   ],
   "source": [
    "from imblearn.over_sampling import SMOTE\n",
    "import pandas as pd\n",
    "\n",
    "smote = SMOTE(sampling_strategy={1: 3000}, random_state=42)\n",
    "\n",
    "X_resampled, y_resampled = smote.fit_resample(X, y)\n",
    "\n",
    "print(pd.Series(y_resampled).value_counts())\n"
   ]
  },
  {
   "cell_type": "code",
   "execution_count": 494,
   "id": "e9d8b5b7",
   "metadata": {},
   "outputs": [
    {
     "name": "stdout",
     "output_type": "stream",
     "text": [
      "              precision    recall  f1-score   support\n",
      "\n",
      "           0       1.00      1.00      1.00      1806\n",
      "           1       1.00      1.00      1.00       660\n",
      "\n",
      "    accuracy                           1.00      2466\n",
      "   macro avg       1.00      1.00      1.00      2466\n",
      "weighted avg       1.00      1.00      1.00      2466\n",
      "\n",
      "Confusion Matrix:\n",
      "[[1806    0]\n",
      " [   0  660]]\n"
     ]
    }
   ],
   "source": [
    "# Instantiate RandomForestClassifier\n",
    "rf_classifier = RandomForestClassifier(random_state=42)\n",
    "\n",
    "# Fit the classifier to the resampled data\n",
    "rf_classifier.fit(X_resampled, y_resampled)\n",
    "\n",
    "# Assuming X_test and y_test are your test features and target\n",
    "# Make predictions on the test set\n",
    "y_pred = rf_classifier.predict(X_test)\n",
    "\n",
    "# Print classification report and confusion matrix\n",
    "print(classification_report(y_test, y_pred))\n",
    "\n",
    "\n",
    "print(\"Confusion Matrix:\")\n",
    "print(confusion_matrix(y_test, y_pred))\n"
   ]
  },
  {
   "cell_type": "code",
   "execution_count": null,
   "id": "55ebea79",
   "metadata": {},
   "outputs": [],
   "source": [
    "df1.info()"
   ]
  },
  {
   "cell_type": "code",
   "execution_count": 498,
   "id": "0b7bfe30",
   "metadata": {},
   "outputs": [],
   "source": [
    "df1.drop(['ChurnScore'],axis=1,inplace=True)"
   ]
  },
  {
   "cell_type": "code",
   "execution_count": 503,
   "id": "37e9b79e",
   "metadata": {},
   "outputs": [
    {
     "name": "stdout",
     "output_type": "stream",
     "text": [
      "0    5174\n",
      "1    3738\n",
      "Name: ChurnValue, dtype: int64\n"
     ]
    }
   ],
   "source": [
    "from imblearn.over_sampling import SMOTE\n",
    "import pandas as pd\n",
    "\n",
    "X = df1.drop('ChurnValue', axis=1)  \n",
    "y = df1['ChurnValue']\n",
    "X_train, X_test, y_train, y_test = train_test_split(X, y, test_size=0.5, random_state=42)\n",
    "\n",
    "\n",
    "\n",
    "smote = SMOTE(sampling_strategy={1: 1869*2}, random_state=42)\n",
    "\n",
    "X_resampled, y_resampled = smote.fit_resample(X, y)\n",
    "\n",
    "\n",
    "\n",
    "# Combine X_resampled and y_resampled back into df2\n",
    "df2_resampled = pd.concat([X_resampled_df, y_resampled], axis=1)\n",
    "\n",
    "# Display new class counts\n",
    "print(df2_resampled['ChurnValue'].value_counts())\n"
   ]
  },
  {
   "cell_type": "code",
   "execution_count": 504,
   "id": "9ad09e9e",
   "metadata": {},
   "outputs": [
    {
     "name": "stdout",
     "output_type": "stream",
     "text": [
      "              precision    recall  f1-score   support\n",
      "\n",
      "           0       1.00      1.00      1.00      2562\n",
      "           1       1.00      1.00      1.00       960\n",
      "\n",
      "    accuracy                           1.00      3522\n",
      "   macro avg       1.00      1.00      1.00      3522\n",
      "weighted avg       1.00      1.00      1.00      3522\n",
      "\n",
      "Confusion Matrix:\n",
      "[[2561    1]\n",
      " [   0  960]]\n"
     ]
    }
   ],
   "source": [
    "rf_classifier = RandomForestClassifier(random_state=42)\n",
    "\n",
    "rf_classifier.fit(X_resampled, y_resampled)\n",
    "\n",
    "y_pred = rf_classifier.predict(X_test)\n",
    "\n",
    "print(classification_report(y_test, y_pred))\n",
    "\n",
    "\n",
    "print(\"Confusion Matrix:\")\n",
    "print(confusion_matrix(y_test, y_pred))"
   ]
  },
  {
   "cell_type": "code",
   "execution_count": 509,
   "id": "cd3063bc",
   "metadata": {},
   "outputs": [
    {
     "name": "stdout",
     "output_type": "stream",
     "text": [
      "<class 'pandas.core.frame.DataFrame'>\n",
      "RangeIndex: 7043 entries, 0 to 7042\n",
      "Data columns (total 25 columns):\n",
      " #   Column            Non-Null Count  Dtype  \n",
      "---  ------            --------------  -----  \n",
      " 0   City              7043 non-null   int32  \n",
      " 1   ZipCode           7043 non-null   int64  \n",
      " 2   Latitude          7043 non-null   float32\n",
      " 3   Longitude         7043 non-null   float32\n",
      " 4   Gender            7043 non-null   int64  \n",
      " 5   SeniorCitizen     7043 non-null   int64  \n",
      " 6   Partner           7043 non-null   int64  \n",
      " 7   Dependents        7043 non-null   int64  \n",
      " 8   TenureMonths      7043 non-null   int64  \n",
      " 9   PhoneService      7043 non-null   int64  \n",
      " 10  MultipleLines     7043 non-null   int64  \n",
      " 11  InternetService   7043 non-null   int64  \n",
      " 12  OnlineSecurity    7043 non-null   int32  \n",
      " 13  OnlineBackup      7043 non-null   int32  \n",
      " 14  DeviceProtection  7043 non-null   int32  \n",
      " 15  TechSupport       7043 non-null   int32  \n",
      " 16  StreamingTV       7043 non-null   int32  \n",
      " 17  Streaming Movies  7043 non-null   int32  \n",
      " 18  Contract          7043 non-null   int32  \n",
      " 19  PaperlessBilling  7043 non-null   int64  \n",
      " 20  PaymentMethod     7043 non-null   int32  \n",
      " 21  MonthlyCharges    7043 non-null   float32\n",
      " 22  TotalCharges      7043 non-null   float32\n",
      " 23  ChurnValue        7043 non-null   int64  \n",
      " 24  ChurnScore        7043 non-null   int64  \n",
      "dtypes: float32(4), int32(9), int64(12)\n",
      "memory usage: 1018.1 KB\n"
     ]
    }
   ],
   "source": [
    "df2.info()"
   ]
  },
  {
   "cell_type": "code",
   "execution_count": 505,
   "id": "f0e20083",
   "metadata": {},
   "outputs": [
    {
     "name": "stderr",
     "output_type": "stream",
     "text": [
      "C:\\Users\\hrugv\\AppData\\Roaming\\Python\\Python39\\site-packages\\imblearn\\ensemble\\_forest.py:577: FutureWarning: The default of `sampling_strategy` will change from `'auto'` to `'all'` in version 0.13. This change will follow the implementation proposed in the original paper. Set to `'all'` to silence this warning and adopt the future behaviour.\n",
      "  warn(\n",
      "C:\\Users\\hrugv\\AppData\\Roaming\\Python\\Python39\\site-packages\\imblearn\\ensemble\\_forest.py:589: FutureWarning: The default of `replacement` will change from `False` to `True` in version 0.13. This change will follow the implementation proposed in the original paper. Set to `True` to silence this warning and adopt the future behaviour.\n",
      "  warn(\n",
      "C:\\Users\\hrugv\\AppData\\Roaming\\Python\\Python39\\site-packages\\imblearn\\ensemble\\_forest.py:601: FutureWarning: The default of `bootstrap` will change from `True` to `False` in version 0.13. This change will follow the implementation proposed in the original paper. Set to `False` to silence this warning and adopt the future behaviour.\n",
      "  warn(\n"
     ]
    },
    {
     "name": "stdout",
     "output_type": "stream",
     "text": [
      "Accuracy:\n",
      "0.9111922141119222\n",
      "Classification Report:\n",
      "              precision    recall  f1-score   support\n",
      "\n",
      "           0       0.98      0.90      0.94      1789\n",
      "           1       0.78      0.94      0.85       677\n",
      "\n",
      "    accuracy                           0.91      2466\n",
      "   macro avg       0.88      0.92      0.89      2466\n",
      "weighted avg       0.92      0.91      0.91      2466\n",
      "\n",
      "Confusion Matrix:\n",
      "[[1610  179]\n",
      " [  40  637]]\n"
     ]
    }
   ],
   "source": [
    "from imblearn.ensemble import BalancedRandomForestClassifier\n",
    "from sklearn.model_selection import train_test_split\n",
    "from sklearn.metrics import classification_report, confusion_matrix\n",
    "\n",
    "\n",
    "X = df2.drop('ChurnValue', axis=1)\n",
    "y = df2['ChurnValue']\n",
    "X_train, X_test, y_train, y_test = train_test_split(X, y, test_size=0.35, random_state=42)\n",
    "\n",
    "\n",
    "brf = BalancedRandomForestClassifier(random_state=42)\n",
    "\n",
    "brf.fit(X_train, y_train)\n",
    "\n",
    "y_pred = brf.predict(X_test)\n",
    "accu=accuracy_score(y_test,y_pred)\n",
    "print(\"Accuracy:\")\n",
    "print(accu)\n",
    "print(\"Classification Report:\")\n",
    "print(classification_report(y_test, y_pred))\n",
    "\n",
    "print(\"Confusion Matrix:\")\n",
    "print(confusion_matrix(y_test, y_pred))\n"
   ]
  },
  {
   "cell_type": "code",
   "execution_count": null,
   "id": "ae8aae2b",
   "metadata": {},
   "outputs": [],
   "source": [
    "df2.info()"
   ]
  },
  {
   "cell_type": "code",
   "execution_count": 510,
   "id": "983a8bc1",
   "metadata": {},
   "outputs": [],
   "source": [
    "df3=df.copy()"
   ]
  },
  {
   "cell_type": "code",
   "execution_count": 512,
   "id": "8b9fc760",
   "metadata": {},
   "outputs": [],
   "source": [
    "df3.drop(['ChurnScore'],axis=1,inplace=True)"
   ]
  },
  {
   "cell_type": "code",
   "execution_count": 516,
   "id": "3031a829",
   "metadata": {},
   "outputs": [
    {
     "name": "stdout",
     "output_type": "stream",
     "text": [
      "Accuracy:0.92\n",
      "\n",
      "the classification report:\n",
      "               precision    recall  f1-score   support\n",
      "\n",
      "           0       0.93      0.97      0.95      1806\n",
      "           1       0.91      0.79      0.84       660\n",
      "\n",
      "    accuracy                           0.92      2466\n",
      "   macro avg       0.92      0.88      0.90      2466\n",
      "weighted avg       0.92      0.92      0.92      2466\n",
      "\n"
     ]
    }
   ],
   "source": [
    "y=df['ChurnValue']\n",
    "X=df.drop(['ChurnValue'],axis=1)\n",
    "X_train , X_test ,y_train,y_test=train_test_split(X,y,test_size=.35,random_state=0)\n",
    "rfc=RandomForestClassifier(n_estimators=10,random_state=0)\n",
    "\n",
    "rfc.fit(X_train,y_train)\n",
    "\n",
    "y_pred=rfc.predict(X_test)\n",
    "accu=accuracy_score(y_test,y_pred)\n",
    "classification_rep=classification_report(y_test,y_pred)\n",
    "print(f\"Accuracy:{accu:.2f}\")\n",
    "print(\"\\nthe classification report:\\n\",classification_rep)"
   ]
  },
  {
   "cell_type": "code",
   "execution_count": 589,
   "id": "6623f8bc",
   "metadata": {},
   "outputs": [],
   "source": [
    "XX_test=X_test.copy()"
   ]
  },
  {
   "cell_type": "code",
   "execution_count": 590,
   "id": "49c29236",
   "metadata": {},
   "outputs": [
    {
     "data": {
      "text/html": [
       "<div>\n",
       "<style scoped>\n",
       "    .dataframe tbody tr th:only-of-type {\n",
       "        vertical-align: middle;\n",
       "    }\n",
       "\n",
       "    .dataframe tbody tr th {\n",
       "        vertical-align: top;\n",
       "    }\n",
       "\n",
       "    .dataframe thead th {\n",
       "        text-align: right;\n",
       "    }\n",
       "</style>\n",
       "<table border=\"1\" class=\"dataframe\">\n",
       "  <thead>\n",
       "    <tr style=\"text-align: right;\">\n",
       "      <th></th>\n",
       "      <th>City</th>\n",
       "      <th>ZipCode</th>\n",
       "      <th>Latitude</th>\n",
       "      <th>Longitude</th>\n",
       "      <th>Gender</th>\n",
       "      <th>SeniorCitizen</th>\n",
       "      <th>Partner</th>\n",
       "      <th>Dependents</th>\n",
       "      <th>TenureMonths</th>\n",
       "      <th>PhoneService</th>\n",
       "      <th>...</th>\n",
       "      <th>DeviceProtection</th>\n",
       "      <th>TechSupport</th>\n",
       "      <th>StreamingTV</th>\n",
       "      <th>Streaming Movies</th>\n",
       "      <th>Contract</th>\n",
       "      <th>PaperlessBilling</th>\n",
       "      <th>PaymentMethod</th>\n",
       "      <th>MonthlyCharges</th>\n",
       "      <th>TotalCharges</th>\n",
       "      <th>ChurnScore</th>\n",
       "    </tr>\n",
       "  </thead>\n",
       "  <tbody>\n",
       "    <tr>\n",
       "      <th>2200</th>\n",
       "      <td>93</td>\n",
       "      <td>92316</td>\n",
       "      <td>34.059723</td>\n",
       "      <td>-117.391037</td>\n",
       "      <td>0</td>\n",
       "      <td>1</td>\n",
       "      <td>0</td>\n",
       "      <td>0</td>\n",
       "      <td>49</td>\n",
       "      <td>1</td>\n",
       "      <td>...</td>\n",
       "      <td>0</td>\n",
       "      <td>0</td>\n",
       "      <td>2</td>\n",
       "      <td>2</td>\n",
       "      <td>0</td>\n",
       "      <td>0</td>\n",
       "      <td>1</td>\n",
       "      <td>101.550003</td>\n",
       "      <td>5070.399902</td>\n",
       "      <td>22</td>\n",
       "    </tr>\n",
       "    <tr>\n",
       "      <th>4627</th>\n",
       "      <td>55</td>\n",
       "      <td>92309</td>\n",
       "      <td>35.289520</td>\n",
       "      <td>-116.092216</td>\n",
       "      <td>1</td>\n",
       "      <td>0</td>\n",
       "      <td>0</td>\n",
       "      <td>0</td>\n",
       "      <td>24</td>\n",
       "      <td>1</td>\n",
       "      <td>...</td>\n",
       "      <td>1</td>\n",
       "      <td>1</td>\n",
       "      <td>1</td>\n",
       "      <td>1</td>\n",
       "      <td>1</td>\n",
       "      <td>0</td>\n",
       "      <td>2</td>\n",
       "      <td>24.600000</td>\n",
       "      <td>592.650024</td>\n",
       "      <td>79</td>\n",
       "    </tr>\n",
       "    <tr>\n",
       "      <th>3225</th>\n",
       "      <td>371</td>\n",
       "      <td>91203</td>\n",
       "      <td>34.153339</td>\n",
       "      <td>-118.262978</td>\n",
       "      <td>1</td>\n",
       "      <td>0</td>\n",
       "      <td>0</td>\n",
       "      <td>0</td>\n",
       "      <td>1</td>\n",
       "      <td>1</td>\n",
       "      <td>...</td>\n",
       "      <td>0</td>\n",
       "      <td>0</td>\n",
       "      <td>0</td>\n",
       "      <td>0</td>\n",
       "      <td>0</td>\n",
       "      <td>0</td>\n",
       "      <td>2</td>\n",
       "      <td>47.950001</td>\n",
       "      <td>47.950001</td>\n",
       "      <td>35</td>\n",
       "    </tr>\n",
       "    <tr>\n",
       "      <th>2828</th>\n",
       "      <td>1088</td>\n",
       "      <td>95488</td>\n",
       "      <td>39.724434</td>\n",
       "      <td>-123.767578</td>\n",
       "      <td>0</td>\n",
       "      <td>1</td>\n",
       "      <td>0</td>\n",
       "      <td>0</td>\n",
       "      <td>20</td>\n",
       "      <td>1</td>\n",
       "      <td>...</td>\n",
       "      <td>0</td>\n",
       "      <td>0</td>\n",
       "      <td>2</td>\n",
       "      <td>0</td>\n",
       "      <td>0</td>\n",
       "      <td>0</td>\n",
       "      <td>0</td>\n",
       "      <td>80.699997</td>\n",
       "      <td>1614.199951</td>\n",
       "      <td>73</td>\n",
       "    </tr>\n",
       "    <tr>\n",
       "      <th>3768</th>\n",
       "      <td>872</td>\n",
       "      <td>94111</td>\n",
       "      <td>37.801777</td>\n",
       "      <td>-122.402290</td>\n",
       "      <td>0</td>\n",
       "      <td>0</td>\n",
       "      <td>1</td>\n",
       "      <td>1</td>\n",
       "      <td>13</td>\n",
       "      <td>1</td>\n",
       "      <td>...</td>\n",
       "      <td>1</td>\n",
       "      <td>1</td>\n",
       "      <td>1</td>\n",
       "      <td>1</td>\n",
       "      <td>2</td>\n",
       "      <td>1</td>\n",
       "      <td>0</td>\n",
       "      <td>25.000000</td>\n",
       "      <td>332.500000</td>\n",
       "      <td>21</td>\n",
       "    </tr>\n",
       "    <tr>\n",
       "      <th>...</th>\n",
       "      <td>...</td>\n",
       "      <td>...</td>\n",
       "      <td>...</td>\n",
       "      <td>...</td>\n",
       "      <td>...</td>\n",
       "      <td>...</td>\n",
       "      <td>...</td>\n",
       "      <td>...</td>\n",
       "      <td>...</td>\n",
       "      <td>...</td>\n",
       "      <td>...</td>\n",
       "      <td>...</td>\n",
       "      <td>...</td>\n",
       "      <td>...</td>\n",
       "      <td>...</td>\n",
       "      <td>...</td>\n",
       "      <td>...</td>\n",
       "      <td>...</td>\n",
       "      <td>...</td>\n",
       "      <td>...</td>\n",
       "      <td>...</td>\n",
       "    </tr>\n",
       "    <tr>\n",
       "      <th>5753</th>\n",
       "      <td>655</td>\n",
       "      <td>91948</td>\n",
       "      <td>32.830853</td>\n",
       "      <td>-116.444603</td>\n",
       "      <td>0</td>\n",
       "      <td>0</td>\n",
       "      <td>0</td>\n",
       "      <td>0</td>\n",
       "      <td>59</td>\n",
       "      <td>1</td>\n",
       "      <td>...</td>\n",
       "      <td>0</td>\n",
       "      <td>2</td>\n",
       "      <td>0</td>\n",
       "      <td>2</td>\n",
       "      <td>1</td>\n",
       "      <td>0</td>\n",
       "      <td>0</td>\n",
       "      <td>68.699997</td>\n",
       "      <td>4070.949951</td>\n",
       "      <td>29</td>\n",
       "    </tr>\n",
       "    <tr>\n",
       "      <th>4109</th>\n",
       "      <td>434</td>\n",
       "      <td>95639</td>\n",
       "      <td>38.375324</td>\n",
       "      <td>-121.507935</td>\n",
       "      <td>1</td>\n",
       "      <td>0</td>\n",
       "      <td>0</td>\n",
       "      <td>0</td>\n",
       "      <td>17</td>\n",
       "      <td>1</td>\n",
       "      <td>...</td>\n",
       "      <td>1</td>\n",
       "      <td>1</td>\n",
       "      <td>1</td>\n",
       "      <td>1</td>\n",
       "      <td>2</td>\n",
       "      <td>0</td>\n",
       "      <td>1</td>\n",
       "      <td>19.450001</td>\n",
       "      <td>369.049988</td>\n",
       "      <td>29</td>\n",
       "    </tr>\n",
       "    <tr>\n",
       "      <th>4106</th>\n",
       "      <td>339</td>\n",
       "      <td>95631</td>\n",
       "      <td>39.031876</td>\n",
       "      <td>-120.811142</td>\n",
       "      <td>1</td>\n",
       "      <td>0</td>\n",
       "      <td>0</td>\n",
       "      <td>1</td>\n",
       "      <td>9</td>\n",
       "      <td>1</td>\n",
       "      <td>...</td>\n",
       "      <td>1</td>\n",
       "      <td>1</td>\n",
       "      <td>1</td>\n",
       "      <td>1</td>\n",
       "      <td>0</td>\n",
       "      <td>0</td>\n",
       "      <td>3</td>\n",
       "      <td>20.400000</td>\n",
       "      <td>184.100006</td>\n",
       "      <td>67</td>\n",
       "    </tr>\n",
       "    <tr>\n",
       "      <th>2760</th>\n",
       "      <td>544</td>\n",
       "      <td>95334</td>\n",
       "      <td>37.361988</td>\n",
       "      <td>-120.748390</td>\n",
       "      <td>0</td>\n",
       "      <td>0</td>\n",
       "      <td>0</td>\n",
       "      <td>0</td>\n",
       "      <td>12</td>\n",
       "      <td>1</td>\n",
       "      <td>...</td>\n",
       "      <td>0</td>\n",
       "      <td>0</td>\n",
       "      <td>0</td>\n",
       "      <td>0</td>\n",
       "      <td>0</td>\n",
       "      <td>1</td>\n",
       "      <td>2</td>\n",
       "      <td>49.400002</td>\n",
       "      <td>611.650024</td>\n",
       "      <td>70</td>\n",
       "    </tr>\n",
       "    <tr>\n",
       "      <th>2534</th>\n",
       "      <td>730</td>\n",
       "      <td>94044</td>\n",
       "      <td>37.573631</td>\n",
       "      <td>-122.455170</td>\n",
       "      <td>1</td>\n",
       "      <td>1</td>\n",
       "      <td>0</td>\n",
       "      <td>0</td>\n",
       "      <td>32</td>\n",
       "      <td>1</td>\n",
       "      <td>...</td>\n",
       "      <td>2</td>\n",
       "      <td>0</td>\n",
       "      <td>0</td>\n",
       "      <td>0</td>\n",
       "      <td>0</td>\n",
       "      <td>1</td>\n",
       "      <td>1</td>\n",
       "      <td>81.099998</td>\n",
       "      <td>2619.250000</td>\n",
       "      <td>50</td>\n",
       "    </tr>\n",
       "  </tbody>\n",
       "</table>\n",
       "<p>2466 rows × 24 columns</p>\n",
       "</div>"
      ],
      "text/plain": [
       "      City  ZipCode   Latitude   Longitude  Gender  SeniorCitizen  Partner  \\\n",
       "2200    93    92316  34.059723 -117.391037       0              1        0   \n",
       "4627    55    92309  35.289520 -116.092216       1              0        0   \n",
       "3225   371    91203  34.153339 -118.262978       1              0        0   \n",
       "2828  1088    95488  39.724434 -123.767578       0              1        0   \n",
       "3768   872    94111  37.801777 -122.402290       0              0        1   \n",
       "...    ...      ...        ...         ...     ...            ...      ...   \n",
       "5753   655    91948  32.830853 -116.444603       0              0        0   \n",
       "4109   434    95639  38.375324 -121.507935       1              0        0   \n",
       "4106   339    95631  39.031876 -120.811142       1              0        0   \n",
       "2760   544    95334  37.361988 -120.748390       0              0        0   \n",
       "2534   730    94044  37.573631 -122.455170       1              1        0   \n",
       "\n",
       "      Dependents  TenureMonths  PhoneService  ...  DeviceProtection  \\\n",
       "2200           0            49             1  ...                 0   \n",
       "4627           0            24             1  ...                 1   \n",
       "3225           0             1             1  ...                 0   \n",
       "2828           0            20             1  ...                 0   \n",
       "3768           1            13             1  ...                 1   \n",
       "...          ...           ...           ...  ...               ...   \n",
       "5753           0            59             1  ...                 0   \n",
       "4109           0            17             1  ...                 1   \n",
       "4106           1             9             1  ...                 1   \n",
       "2760           0            12             1  ...                 0   \n",
       "2534           0            32             1  ...                 2   \n",
       "\n",
       "      TechSupport  StreamingTV  Streaming Movies  Contract  PaperlessBilling  \\\n",
       "2200            0            2                 2         0                 0   \n",
       "4627            1            1                 1         1                 0   \n",
       "3225            0            0                 0         0                 0   \n",
       "2828            0            2                 0         0                 0   \n",
       "3768            1            1                 1         2                 1   \n",
       "...           ...          ...               ...       ...               ...   \n",
       "5753            2            0                 2         1                 0   \n",
       "4109            1            1                 1         2                 0   \n",
       "4106            1            1                 1         0                 0   \n",
       "2760            0            0                 0         0                 1   \n",
       "2534            0            0                 0         0                 1   \n",
       "\n",
       "      PaymentMethod  MonthlyCharges  TotalCharges  ChurnScore  \n",
       "2200              1      101.550003   5070.399902          22  \n",
       "4627              2       24.600000    592.650024          79  \n",
       "3225              2       47.950001     47.950001          35  \n",
       "2828              0       80.699997   1614.199951          73  \n",
       "3768              0       25.000000    332.500000          21  \n",
       "...             ...             ...           ...         ...  \n",
       "5753              0       68.699997   4070.949951          29  \n",
       "4109              1       19.450001    369.049988          29  \n",
       "4106              3       20.400000    184.100006          67  \n",
       "2760              2       49.400002    611.650024          70  \n",
       "2534              1       81.099998   2619.250000          50  \n",
       "\n",
       "[2466 rows x 24 columns]"
      ]
     },
     "execution_count": 590,
     "metadata": {},
     "output_type": "execute_result"
    }
   ],
   "source": [
    "XX_test"
   ]
  },
  {
   "cell_type": "code",
   "execution_count": 519,
   "id": "e337db9f",
   "metadata": {},
   "outputs": [
    {
     "data": {
      "image/png": "[encoded data removed]",
      "text/plain": [
       "<Figure size 640x480 with 2 Axes>"
      ]
     },
     "metadata": {},
     "output_type": "display_data"
    }
   ],
   "source": [
    "import matplotlib.pyplot as plt\n",
    "import numpy\n",
    "from sklearn import metrics\n",
    "\n",
    "confusion_matrix = metrics.confusion_matrix(y_test, y_pred)\n",
    "\n",
    "cm_display = metrics.ConfusionMatrixDisplay(confusion_matrix = confusion_matrix, display_labels = [0, 1])\n",
    "\n",
    "cm_display.plot()\n",
    "plt.show() "
   ]
  },
  {
   "cell_type": "code",
   "execution_count": 574,
   "id": "3fb1f99d",
   "metadata": {},
   "outputs": [
    {
     "data": {
      "text/plain": [
       "[]"
      ]
     },
     "execution_count": 574,
     "metadata": {},
     "output_type": "execute_result"
    }
   ],
   "source": [
    "tf.config.list_physical_devices('GPU')"
   ]
  },
  {
   "cell_type": "code",
   "execution_count": 521,
   "id": "11e7ab20",
   "metadata": {},
   "outputs": [
    {
     "name": "stdout",
     "output_type": "stream",
     "text": [
      "<class 'pandas.core.frame.DataFrame'>\n",
      "RangeIndex: 7043 entries, 0 to 7042\n",
      "Data columns (total 24 columns):\n",
      " #   Column            Non-Null Count  Dtype  \n",
      "---  ------            --------------  -----  \n",
      " 0   City              7043 non-null   int32  \n",
      " 1   ZipCode           7043 non-null   int64  \n",
      " 2   Latitude          7043 non-null   float32\n",
      " 3   Longitude         7043 non-null   float32\n",
      " 4   Gender            7043 non-null   int64  \n",
      " 5   SeniorCitizen     7043 non-null   int64  \n",
      " 6   Partner           7043 non-null   int64  \n",
      " 7   Dependents        7043 non-null   int64  \n",
      " 8   TenureMonths      7043 non-null   int64  \n",
      " 9   PhoneService      7043 non-null   int64  \n",
      " 10  MultipleLines     7043 non-null   int64  \n",
      " 11  InternetService   7043 non-null   int64  \n",
      " 12  OnlineSecurity    7043 non-null   int32  \n",
      " 13  OnlineBackup      7043 non-null   int32  \n",
      " 14  DeviceProtection  7043 non-null   int32  \n",
      " 15  TechSupport       7043 non-null   int32  \n",
      " 16  StreamingTV       7043 non-null   int32  \n",
      " 17  Streaming Movies  7043 non-null   int32  \n",
      " 18  Contract          7043 non-null   int32  \n",
      " 19  PaperlessBilling  7043 non-null   int64  \n",
      " 20  PaymentMethod     7043 non-null   int32  \n",
      " 21  MonthlyCharges    7043 non-null   float32\n",
      " 22  TotalCharges      7043 non-null   float32\n",
      " 23  ChurnValue        7043 non-null   int64  \n",
      "dtypes: float32(4), int32(9), int64(11)\n",
      "memory usage: 963.0 KB\n"
     ]
    }
   ],
   "source": [
    "df3.info()"
   ]
  },
  {
   "cell_type": "code",
   "execution_count": 581,
   "id": "a371946e",
   "metadata": {},
   "outputs": [],
   "source": [
    "import pandas as pd\n",
    "\n",
    "# Example of custom input data\n",
    "custom_input = pd.DataFrame({\n",
    "    'City': [562],\n",
    "    'ZipCode': [90003],\n",
    "    'Latitude': [33.96413],\n",
    "    'Longitude': [-118.272781],\n",
    "    'Gender': [1],\n",
    "    'SeniorCitizen': [0],\n",
    "    'Partner': [0],\n",
    "    'Dependents': [1],\n",
    "    'TenureMonths': [2],\n",
    "    'PhoneService': [1],\n",
    "    'MultipleLines': [1],\n",
    "    'InternetService': [1],\n",
    "    'OnlineSecurity': [2],\n",
    "    'OnlineBackup': [2],\n",
    "    'DeviceProtection': [0],\n",
    "    'TechSupport': [1],\n",
    "    'StreamingTV': [1],\n",
    "    'Streaming Movies': [0],\n",
    "    'Contract': [0],\n",
    "    'PaperlessBilling': [1],\n",
    "    'PaymentMethod': [3],\n",
    "    'MonthlyCharges': [53.849998],\n",
    "    'TotalCharges': [108.150002]\n",
    "})\n",
    "\n"
   ]
  },
  {
   "cell_type": "code",
   "execution_count": 583,
   "id": "81340a15",
   "metadata": {},
   "outputs": [
    {
     "data": {
      "text/plain": [
       "(1, 23)"
      ]
     },
     "execution_count": 583,
     "metadata": {},
     "output_type": "execute_result"
    }
   ],
   "source": [
    "custom_input.shape"
   ]
  },
  {
   "cell_type": "code",
   "execution_count": 582,
   "id": "870effe9",
   "metadata": {},
   "outputs": [
    {
     "name": "stderr",
     "output_type": "stream",
     "text": [
      "C:\\ProgramData\\Anaconda3\\lib\\site-packages\\sklearn\\base.py:493: FutureWarning: The feature names should match those that were passed during fit. Starting version 1.2, an error will be raised.\n",
      "Feature names unseen at fit time:\n",
      "- Gender\n",
      "Feature names seen at fit time, yet now missing:\n",
      "- ChurnScore\n",
      "- ChurnValue\n",
      "\n",
      "  warnings.warn(message, FutureWarning)\n"
     ]
    },
    {
     "ename": "ValueError",
     "evalue": "X has 23 features, but RandomForestClassifier is expecting 24 features as input.",
     "output_type": "error",
     "traceback": [
      "\u001b[1;31m---------------------------------------------------------------------------\u001b[0m",
      "\u001b[1;31mValueError\u001b[0m                                Traceback (most recent call last)",
      "\u001b[1;32m~\\AppData\\Local\\Temp\\ipykernel_8104\\3601625516.py\u001b[0m in \u001b[0;36m<module>\u001b[1;34m\u001b[0m\n\u001b[1;32m----> 1\u001b[1;33m \u001b[0my_pred\u001b[0m\u001b[1;33m=\u001b[0m\u001b[0mrfc\u001b[0m\u001b[1;33m.\u001b[0m\u001b[0mpredict\u001b[0m\u001b[1;33m(\u001b[0m\u001b[0mcustom_input\u001b[0m\u001b[1;33m)\u001b[0m\u001b[1;33m\u001b[0m\u001b[1;33m\u001b[0m\u001b[0m\n\u001b[0m\u001b[0;32m      2\u001b[0m \u001b[1;33m\u001b[0m\u001b[0m\n\u001b[0;32m      3\u001b[0m \u001b[1;33m\u001b[0m\u001b[0m\n",
      "\u001b[1;32mC:\\ProgramData\\Anaconda3\\lib\\site-packages\\sklearn\\ensemble\\_forest.py\u001b[0m in \u001b[0;36mpredict\u001b[1;34m(self, X)\u001b[0m\n\u001b[0;32m    806\u001b[0m             \u001b[0mThe\u001b[0m \u001b[0mpredicted\u001b[0m \u001b[0mclasses\u001b[0m\u001b[1;33m.\u001b[0m\u001b[1;33m\u001b[0m\u001b[1;33m\u001b[0m\u001b[0m\n\u001b[0;32m    807\u001b[0m         \"\"\"\n\u001b[1;32m--> 808\u001b[1;33m         \u001b[0mproba\u001b[0m \u001b[1;33m=\u001b[0m \u001b[0mself\u001b[0m\u001b[1;33m.\u001b[0m\u001b[0mpredict_proba\u001b[0m\u001b[1;33m(\u001b[0m\u001b[0mX\u001b[0m\u001b[1;33m)\u001b[0m\u001b[1;33m\u001b[0m\u001b[1;33m\u001b[0m\u001b[0m\n\u001b[0m\u001b[0;32m    809\u001b[0m \u001b[1;33m\u001b[0m\u001b[0m\n\u001b[0;32m    810\u001b[0m         \u001b[1;32mif\u001b[0m \u001b[0mself\u001b[0m\u001b[1;33m.\u001b[0m\u001b[0mn_outputs_\u001b[0m \u001b[1;33m==\u001b[0m \u001b[1;36m1\u001b[0m\u001b[1;33m:\u001b[0m\u001b[1;33m\u001b[0m\u001b[1;33m\u001b[0m\u001b[0m\n",
      "\u001b[1;32mC:\\ProgramData\\Anaconda3\\lib\\site-packages\\sklearn\\ensemble\\_forest.py\u001b[0m in \u001b[0;36mpredict_proba\u001b[1;34m(self, X)\u001b[0m\n\u001b[0;32m    848\u001b[0m         \u001b[0mcheck_is_fitted\u001b[0m\u001b[1;33m(\u001b[0m\u001b[0mself\u001b[0m\u001b[1;33m)\u001b[0m\u001b[1;33m\u001b[0m\u001b[1;33m\u001b[0m\u001b[0m\n\u001b[0;32m    849\u001b[0m         \u001b[1;31m# Check data\u001b[0m\u001b[1;33m\u001b[0m\u001b[1;33m\u001b[0m\u001b[0m\n\u001b[1;32m--> 850\u001b[1;33m         \u001b[0mX\u001b[0m \u001b[1;33m=\u001b[0m \u001b[0mself\u001b[0m\u001b[1;33m.\u001b[0m\u001b[0m_validate_X_predict\u001b[0m\u001b[1;33m(\u001b[0m\u001b[0mX\u001b[0m\u001b[1;33m)\u001b[0m\u001b[1;33m\u001b[0m\u001b[1;33m\u001b[0m\u001b[0m\n\u001b[0m\u001b[0;32m    851\u001b[0m \u001b[1;33m\u001b[0m\u001b[0m\n\u001b[0;32m    852\u001b[0m         \u001b[1;31m# Assign chunk of trees to jobs\u001b[0m\u001b[1;33m\u001b[0m\u001b[1;33m\u001b[0m\u001b[0m\n",
      "\u001b[1;32mC:\\ProgramData\\Anaconda3\\lib\\site-packages\\sklearn\\ensemble\\_forest.py\u001b[0m in \u001b[0;36m_validate_X_predict\u001b[1;34m(self, X)\u001b[0m\n\u001b[0;32m    577\u001b[0m         Validate X whenever one tries to predict, apply, predict_proba.\"\"\"\n\u001b[0;32m    578\u001b[0m         \u001b[0mcheck_is_fitted\u001b[0m\u001b[1;33m(\u001b[0m\u001b[0mself\u001b[0m\u001b[1;33m)\u001b[0m\u001b[1;33m\u001b[0m\u001b[1;33m\u001b[0m\u001b[0m\n\u001b[1;32m--> 579\u001b[1;33m         \u001b[0mX\u001b[0m \u001b[1;33m=\u001b[0m \u001b[0mself\u001b[0m\u001b[1;33m.\u001b[0m\u001b[0m_validate_data\u001b[0m\u001b[1;33m(\u001b[0m\u001b[0mX\u001b[0m\u001b[1;33m,\u001b[0m \u001b[0mdtype\u001b[0m\u001b[1;33m=\u001b[0m\u001b[0mDTYPE\u001b[0m\u001b[1;33m,\u001b[0m \u001b[0maccept_sparse\u001b[0m\u001b[1;33m=\u001b[0m\u001b[1;34m\"csr\"\u001b[0m\u001b[1;33m,\u001b[0m \u001b[0mreset\u001b[0m\u001b[1;33m=\u001b[0m\u001b[1;32mFalse\u001b[0m\u001b[1;33m)\u001b[0m\u001b[1;33m\u001b[0m\u001b[1;33m\u001b[0m\u001b[0m\n\u001b[0m\u001b[0;32m    580\u001b[0m         \u001b[1;32mif\u001b[0m \u001b[0missparse\u001b[0m\u001b[1;33m(\u001b[0m\u001b[0mX\u001b[0m\u001b[1;33m)\u001b[0m \u001b[1;32mand\u001b[0m \u001b[1;33m(\u001b[0m\u001b[0mX\u001b[0m\u001b[1;33m.\u001b[0m\u001b[0mindices\u001b[0m\u001b[1;33m.\u001b[0m\u001b[0mdtype\u001b[0m \u001b[1;33m!=\u001b[0m \u001b[0mnp\u001b[0m\u001b[1;33m.\u001b[0m\u001b[0mintc\u001b[0m \u001b[1;32mor\u001b[0m \u001b[0mX\u001b[0m\u001b[1;33m.\u001b[0m\u001b[0mindptr\u001b[0m\u001b[1;33m.\u001b[0m\u001b[0mdtype\u001b[0m \u001b[1;33m!=\u001b[0m \u001b[0mnp\u001b[0m\u001b[1;33m.\u001b[0m\u001b[0mintc\u001b[0m\u001b[1;33m)\u001b[0m\u001b[1;33m:\u001b[0m\u001b[1;33m\u001b[0m\u001b[1;33m\u001b[0m\u001b[0m\n\u001b[0;32m    581\u001b[0m             \u001b[1;32mraise\u001b[0m \u001b[0mValueError\u001b[0m\u001b[1;33m(\u001b[0m\u001b[1;34m\"No support for np.int64 index based sparse matrices\"\u001b[0m\u001b[1;33m)\u001b[0m\u001b[1;33m\u001b[0m\u001b[1;33m\u001b[0m\u001b[0m\n",
      "\u001b[1;32mC:\\ProgramData\\Anaconda3\\lib\\site-packages\\sklearn\\base.py\u001b[0m in \u001b[0;36m_validate_data\u001b[1;34m(self, X, y, reset, validate_separately, **check_params)\u001b[0m\n\u001b[0;32m    583\u001b[0m \u001b[1;33m\u001b[0m\u001b[0m\n\u001b[0;32m    584\u001b[0m         \u001b[1;32mif\u001b[0m \u001b[1;32mnot\u001b[0m \u001b[0mno_val_X\u001b[0m \u001b[1;32mand\u001b[0m \u001b[0mcheck_params\u001b[0m\u001b[1;33m.\u001b[0m\u001b[0mget\u001b[0m\u001b[1;33m(\u001b[0m\u001b[1;34m\"ensure_2d\"\u001b[0m\u001b[1;33m,\u001b[0m \u001b[1;32mTrue\u001b[0m\u001b[1;33m)\u001b[0m\u001b[1;33m:\u001b[0m\u001b[1;33m\u001b[0m\u001b[1;33m\u001b[0m\u001b[0m\n\u001b[1;32m--> 585\u001b[1;33m             \u001b[0mself\u001b[0m\u001b[1;33m.\u001b[0m\u001b[0m_check_n_features\u001b[0m\u001b[1;33m(\u001b[0m\u001b[0mX\u001b[0m\u001b[1;33m,\u001b[0m \u001b[0mreset\u001b[0m\u001b[1;33m=\u001b[0m\u001b[0mreset\u001b[0m\u001b[1;33m)\u001b[0m\u001b[1;33m\u001b[0m\u001b[1;33m\u001b[0m\u001b[0m\n\u001b[0m\u001b[0;32m    586\u001b[0m \u001b[1;33m\u001b[0m\u001b[0m\n\u001b[0;32m    587\u001b[0m         \u001b[1;32mreturn\u001b[0m \u001b[0mout\u001b[0m\u001b[1;33m\u001b[0m\u001b[1;33m\u001b[0m\u001b[0m\n",
      "\u001b[1;32mC:\\ProgramData\\Anaconda3\\lib\\site-packages\\sklearn\\base.py\u001b[0m in \u001b[0;36m_check_n_features\u001b[1;34m(self, X, reset)\u001b[0m\n\u001b[0;32m    398\u001b[0m \u001b[1;33m\u001b[0m\u001b[0m\n\u001b[0;32m    399\u001b[0m         \u001b[1;32mif\u001b[0m \u001b[0mn_features\u001b[0m \u001b[1;33m!=\u001b[0m \u001b[0mself\u001b[0m\u001b[1;33m.\u001b[0m\u001b[0mn_features_in_\u001b[0m\u001b[1;33m:\u001b[0m\u001b[1;33m\u001b[0m\u001b[1;33m\u001b[0m\u001b[0m\n\u001b[1;32m--> 400\u001b[1;33m             raise ValueError(\n\u001b[0m\u001b[0;32m    401\u001b[0m                 \u001b[1;34mf\"X has {n_features} features, but {self.__class__.__name__} \"\u001b[0m\u001b[1;33m\u001b[0m\u001b[1;33m\u001b[0m\u001b[0m\n\u001b[0;32m    402\u001b[0m                 \u001b[1;34mf\"is expecting {self.n_features_in_} features as input.\"\u001b[0m\u001b[1;33m\u001b[0m\u001b[1;33m\u001b[0m\u001b[0m\n",
      "\u001b[1;31mValueError\u001b[0m: X has 23 features, but RandomForestClassifier is expecting 24 features as input."
     ]
    }
   ],
   "source": [
    "y_pred=rfc.predict(custom_input)\n",
    "\n",
    "\n"
   ]
  },
  {
   "cell_type": "code",
   "execution_count": 579,
   "id": "4a0ba980",
   "metadata": {},
   "outputs": [
    {
     "name": "stdout",
     "output_type": "stream",
     "text": [
      "[0]\n"
     ]
    }
   ],
   "source": [
    "print(y_pred)"
   ]
  },
  {
   "cell_type": "code",
   "execution_count": null,
   "id": "ec605c0e",
   "metadata": {},
   "outputs": [],
   "source": [
    "df3.drop(['ChurnValue'],axis=1,inplace=True)"
   ]
  },
  {
   "cell_type": "code",
   "execution_count": null,
   "id": "c25039b0",
   "metadata": {},
   "outputs": [],
   "source": []
  },
  {
   "cell_type": "code",
   "execution_count": 588,
   "id": "47946007",
   "metadata": {},
   "outputs": [
    {
     "name": "stdout",
     "output_type": "stream",
     "text": [
      "Accuracy:0.92\n",
      "\n",
      "the classification report:\n",
      "               precision    recall  f1-score   support\n",
      "\n",
      "           0       0.93      0.97      0.95      1806\n",
      "           1       0.91      0.79      0.84       660\n",
      "\n",
      "    accuracy                           0.92      2466\n",
      "   macro avg       0.92      0.88      0.90      2466\n",
      "weighted avg       0.92      0.92      0.92      2466\n",
      "\n"
     ]
    }
   ],
   "source": [
    "y=df['ChurnValue']\n",
    "\n",
    "X=df.drop(['ChurnValue'],axis=1)\n",
    "X_train , X_test ,y_train,y_test=train_test_split(X,y,test_size=.35,random_state=0)\n",
    "rfc=RandomForestClassifier(n_estimators=10,random_state=0)\n",
    "\n",
    "rfc.fit(X_train,y_train)\n",
    "\n",
    "y_pred=rfc.predict(X_test)\n",
    "accu=accuracy_score(y_test,y_pred)\n",
    "classification_rep=classification_report(y_test,y_pred)\n",
    "print(f\"Accuracy:{accu:.2f}\")\n",
    "print(\"\\nthe classification report:\\n\",classification_rep)"
   ]
  },
  {
   "cell_type": "code",
   "execution_count": null,
   "id": "2d0c0802",
   "metadata": {},
   "outputs": [],
   "source": [
    "\n",
    " "
   ]
  },
  {
   "cell_type": "code",
   "execution_count": null,
   "id": "21f34302",
   "metadata": {},
   "outputs": [],
   "source": []
  },
  {
   "cell_type": "code",
   "execution_count": null,
   "id": "534e8b76",
   "metadata": {},
   "outputs": [],
   "source": []
  },
  {
   "cell_type": "code",
   "execution_count": null,
   "id": "a85e2d12",
   "metadata": {},
   "outputs": [],
   "source": []
  },
  {
   "cell_type": "code",
   "execution_count": null,
   "id": "a8f8d503",
   "metadata": {},
   "outputs": [],
   "source": []
  },
  {
   "cell_type": "code",
   "execution_count": null,
   "id": "089374a2",
   "metadata": {},
   "outputs": [],
   "source": []
  },
  {
   "cell_type": "code",
   "execution_count": null,
   "id": "a88754bb",
   "metadata": {},
   "outputs": [],
   "source": []
  },
  {
   "cell_type": "code",
   "execution_count": null,
   "id": "847a7851",
   "metadata": {},
   "outputs": [],
   "source": []
  },
  {
   "cell_type": "code",
   "execution_count": null,
   "id": "6a9b95b6",
   "metadata": {},
   "outputs": [],
   "source": []
  },
  {
   "cell_type": "code",
   "execution_count": null,
   "id": "1fd373fe",
   "metadata": {},
   "outputs": [],
   "source": []
  },
  {
   "cell_type": "code",
   "execution_count": null,
   "id": "f90c85ad",
   "metadata": {},
   "outputs": [],
   "source": []
  },
  {
   "cell_type": "code",
   "execution_count": null,
   "id": "a486c398",
   "metadata": {},
   "outputs": [],
   "source": []
  },
  {
   "cell_type": "code",
   "execution_count": null,
   "id": "96491540",
   "metadata": {},
   "outputs": [],
   "source": []
  },
  {
   "cell_type": "code",
   "execution_count": null,
   "id": "3448fbd0",
   "metadata": {},
   "outputs": [],
   "source": []
  },
  {
   "cell_type": "code",
   "execution_count": null,
   "id": "ddecb73c",
   "metadata": {},
   "outputs": [],
   "source": []
  },
  {
   "cell_type": "code",
   "execution_count": null,
   "id": "868a216b",
   "metadata": {},
   "outputs": [],
   "source": []
  },
  {
   "cell_type": "code",
   "execution_count": null,
   "id": "9c6ecf24",
   "metadata": {},
   "outputs": [],
   "source": []
  },
  {
   "cell_type": "code",
   "execution_count": null,
   "id": "bcf42cba",
   "metadata": {},
   "outputs": [],
   "source": []
  },
  {
   "cell_type": "code",
   "execution_count": null,
   "id": "19c0a619",
   "metadata": {},
   "outputs": [],
   "source": []
  },
  {
   "cell_type": "code",
   "execution_count": 591,
   "id": "06ad214b",
   "metadata": {},
   "outputs": [
    {
     "name": "stdout",
     "output_type": "stream",
     "text": [
      "<class 'pandas.core.frame.DataFrame'>\n",
      "RangeIndex: 7043 entries, 0 to 7042\n",
      "Data columns (total 25 columns):\n",
      " #   Column            Non-Null Count  Dtype  \n",
      "---  ------            --------------  -----  \n",
      " 0   City              7043 non-null   int32  \n",
      " 1   ZipCode           7043 non-null   int64  \n",
      " 2   Latitude          7043 non-null   float32\n",
      " 3   Longitude         7043 non-null   float32\n",
      " 4   Gender            7043 non-null   int64  \n",
      " 5   SeniorCitizen     7043 non-null   int64  \n",
      " 6   Partner           7043 non-null   int64  \n",
      " 7   Dependents        7043 non-null   int64  \n",
      " 8   TenureMonths      7043 non-null   int64  \n",
      " 9   PhoneService      7043 non-null   int64  \n",
      " 10  MultipleLines     7043 non-null   int64  \n",
      " 11  InternetService   7043 non-null   int64  \n",
      " 12  OnlineSecurity    7043 non-null   int32  \n",
      " 13  OnlineBackup      7043 non-null   int32  \n",
      " 14  DeviceProtection  7043 non-null   int32  \n",
      " 15  TechSupport       7043 non-null   int32  \n",
      " 16  StreamingTV       7043 non-null   int32  \n",
      " 17  Streaming Movies  7043 non-null   int32  \n",
      " 18  Contract          7043 non-null   int32  \n",
      " 19  PaperlessBilling  7043 non-null   int64  \n",
      " 20  PaymentMethod     7043 non-null   int32  \n",
      " 21  MonthlyCharges    7043 non-null   float32\n",
      " 22  TotalCharges      7043 non-null   float32\n",
      " 23  ChurnValue        7043 non-null   int64  \n",
      " 24  ChurnScore        7043 non-null   int64  \n",
      "dtypes: float32(4), int32(9), int64(12)\n",
      "memory usage: 1018.1 KB\n"
     ]
    }
   ],
   "source": [
    "df2.info()"
   ]
  },
  {
   "cell_type": "code",
   "execution_count": 592,
   "id": "ba49b55d",
   "metadata": {},
   "outputs": [],
   "source": [
    "df4=df2.copy()"
   ]
  },
  {
   "cell_type": "code",
   "execution_count": 605,
   "id": "1ca6d87d",
   "metadata": {},
   "outputs": [
    {
     "name": "stdout",
     "output_type": "stream",
     "text": [
      "<class 'pandas.core.frame.DataFrame'>\n",
      "RangeIndex: 7043 entries, 0 to 7042\n",
      "Data columns (total 24 columns):\n",
      " #   Column            Non-Null Count  Dtype  \n",
      "---  ------            --------------  -----  \n",
      " 0   City              7043 non-null   int32  \n",
      " 1   ZipCode           7043 non-null   int64  \n",
      " 2   Latitude          7043 non-null   float32\n",
      " 3   Longitude         7043 non-null   float32\n",
      " 4   Gender            7043 non-null   int64  \n",
      " 5   SeniorCitizen     7043 non-null   int64  \n",
      " 6   Partner           7043 non-null   int64  \n",
      " 7   Dependents        7043 non-null   int64  \n",
      " 8   TenureMonths      7043 non-null   int64  \n",
      " 9   PhoneService      7043 non-null   int64  \n",
      " 10  MultipleLines     7043 non-null   int64  \n",
      " 11  InternetService   7043 non-null   int64  \n",
      " 12  OnlineSecurity    7043 non-null   int32  \n",
      " 13  OnlineBackup      7043 non-null   int32  \n",
      " 14  DeviceProtection  7043 non-null   int32  \n",
      " 15  TechSupport       7043 non-null   int32  \n",
      " 16  StreamingTV       7043 non-null   int32  \n",
      " 17  Streaming Movies  7043 non-null   int32  \n",
      " 18  Contract          7043 non-null   int32  \n",
      " 19  PaperlessBilling  7043 non-null   int64  \n",
      " 20  PaymentMethod     7043 non-null   int32  \n",
      " 21  MonthlyCharges    7043 non-null   float32\n",
      " 22  TotalCharges      7043 non-null   float32\n",
      " 23  ChurnValue        7043 non-null   int64  \n",
      "dtypes: float32(4), int32(9), int64(11)\n",
      "memory usage: 963.0 KB\n"
     ]
    }
   ],
   "source": [
    "df4.info()"
   ]
  },
  {
   "cell_type": "code",
   "execution_count": 630,
   "id": "340069c9",
   "metadata": {},
   "outputs": [],
   "source": [
    "df4.drop(['City'],inplace=True,axis=1)"
   ]
  },
  {
   "cell_type": "code",
   "execution_count": 631,
   "id": "ce5f6b16",
   "metadata": {},
   "outputs": [
    {
     "name": "stdout",
     "output_type": "stream",
     "text": [
      "Index(['ZipCode', 'Latitude', 'Longitude', 'Gender', 'SeniorCitizen',\n",
      "       'Partner', 'Dependents', 'TenureMonths', 'PhoneService',\n",
      "       'MultipleLines', 'InternetService', 'OnlineSecurity', 'OnlineBackup',\n",
      "       'DeviceProtection', 'TechSupport', 'StreamingTV', 'Streaming Movies',\n",
      "       'Contract', 'PaperlessBilling', 'PaymentMethod', 'MonthlyCharges',\n",
      "       'TotalCharges'],\n",
      "      dtype='object')\n"
     ]
    }
   ],
   "source": [
    "y=df4['ChurnValue']\n",
    "\n",
    "X=df4.drop(['ChurnValue'],axis=1)\n",
    "X_train , X_test ,y_train,y_test=train_test_split(X,y,test_size=.35,random_state=0)\n",
    "rfc=RandomForestClassifier(n_estimators=10,random_state=0)\n",
    "print(X_test.columns)"
   ]
  },
  {
   "cell_type": "code",
   "execution_count": 632,
   "id": "097bd02f",
   "metadata": {},
   "outputs": [
    {
     "name": "stdout",
     "output_type": "stream",
     "text": [
      "Accuracy:0.78\n",
      "\n",
      "the classification report:\n",
      "               precision    recall  f1-score   support\n",
      "\n",
      "           0       0.82      0.91      0.86      1806\n",
      "           1       0.63      0.45      0.52       660\n",
      "\n",
      "    accuracy                           0.78      2466\n",
      "   macro avg       0.73      0.68      0.69      2466\n",
      "weighted avg       0.77      0.78      0.77      2466\n",
      "\n"
     ]
    }
   ],
   "source": [
    "rfc.fit(X_train,y_train)\n",
    "y_pred=rfc.predict(X_test)\n",
    "accu=accuracy_score(y_test,y_pred)\n",
    "classification_rep=classification_report(y_test,y_pred)\n",
    "print(f\"Accuracy:{accu:.2f}\")\n",
    "print(\"\\nthe classification report:\\n\",classification_rep)"
   ]
  },
  {
   "cell_type": "code",
   "execution_count": 634,
   "id": "f18e182c",
   "metadata": {},
   "outputs": [
    {
     "data": {
      "text/plain": [
       "(2466, 22)"
      ]
     },
     "execution_count": 634,
     "metadata": {},
     "output_type": "execute_result"
    }
   ],
   "source": [
    "X_test.shape"
   ]
  },
  {
   "cell_type": "code",
   "execution_count": 635,
   "id": "730a2f61",
   "metadata": {},
   "outputs": [
    {
     "data": {
      "text/plain": [
       "(7043, 23)"
      ]
     },
     "execution_count": 635,
     "metadata": {},
     "output_type": "execute_result"
    }
   ],
   "source": [
    "df4.shape"
   ]
  },
  {
   "cell_type": "code",
   "execution_count": 626,
   "id": "1a55ece7",
   "metadata": {},
   "outputs": [
    {
     "name": "stdout",
     "output_type": "stream",
     "text": [
      "Index(['City', 'ZipCode', 'Latitude', 'Longitude', 'Gender', 'SeniorCitizen',\n",
      "       'Partner', 'Dependents', 'TenureMonths', 'PhoneService',\n",
      "       'MultipleLines', 'InternetService', 'OnlineSecurity', 'OnlineBackup',\n",
      "       'DeviceProtection', 'TechSupport', 'StreamingTV', 'Streaming Movies',\n",
      "       'Contract', 'PaperlessBilling', 'PaymentMethod', 'MonthlyCharges',\n",
      "       'TotalCharges', 'ChurnValue'],\n",
      "      dtype='object')\n"
     ]
    }
   ],
   "source": [
    "print(df4.columns)"
   ]
  },
  {
   "cell_type": "code",
   "execution_count": null,
   "id": "17c10264",
   "metadata": {},
   "outputs": [],
   "source": [
    "df4.drop(['city'])"
   ]
  },
  {
   "cell_type": "code",
   "execution_count": 636,
   "id": "12440185",
   "metadata": {},
   "outputs": [
    {
     "name": "stdout",
     "output_type": "stream",
     "text": [
      "   ZipCode  Latitude   Longitude  Gender  SeniorCitizen  Partner  Dependents  \\\n",
      "0    90003  33.96413 -118.272781       1              0        0           1   \n",
      "\n",
      "   TenureMonths  PhoneService  MultipleLines  ...  OnlineBackup  \\\n",
      "0             2             1              1  ...             2   \n",
      "\n",
      "   DeviceProtection  TechSupport  StreamingTV  Streaming Movies  Contract  \\\n",
      "0                 0            1            1                 0         0   \n",
      "\n",
      "   PaperlessBilling  PaymentMethod  MonthlyCharges  TotalCharges  \n",
      "0                 1              3       53.849998    108.150002  \n",
      "\n",
      "[1 rows x 22 columns]\n"
     ]
    }
   ],
   "source": [
    "custom_input = pd.DataFrame({\n",
    "    'ZipCode': [90003],\n",
    "    'Latitude': [33.96413],\n",
    "    'Longitude': [-118.272781],\n",
    "    'Gender': [1],\n",
    "    'SeniorCitizen': [0],\n",
    "    'Partner': [0],\n",
    "    'Dependents': [1],\n",
    "    'TenureMonths': [2],\n",
    "    'PhoneService': [1],\n",
    "    'MultipleLines': [1],\n",
    "    'InternetService': [1],\n",
    "    'OnlineSecurity': [2],\n",
    "    'OnlineBackup': [2],\n",
    "    'DeviceProtection': [0],\n",
    "    'TechSupport': [1],\n",
    "    'StreamingTV': [1],\n",
    "    'Streaming Movies': [0],\n",
    "    'Contract': [0],\n",
    "    'PaperlessBilling': [1],\n",
    "    'PaymentMethod': [3],\n",
    "    'MonthlyCharges': [53.849998],\n",
    "    'TotalCharges': [108.150002],\n",
    "})\n",
    "\n",
    "# Verify the structure of the custom input data\n",
    "print(custom_input)"
   ]
  },
  {
   "cell_type": "code",
   "execution_count": 637,
   "id": "4ab9c6bd",
   "metadata": {},
   "outputs": [
    {
     "data": {
      "text/plain": [
       "(1, 22)"
      ]
     },
     "execution_count": 637,
     "metadata": {},
     "output_type": "execute_result"
    }
   ],
   "source": [
    "custom_input.shape\n"
   ]
  },
  {
   "cell_type": "code",
   "execution_count": 638,
   "id": "4d649493",
   "metadata": {},
   "outputs": [],
   "source": [
    "y_pred=rfc.predict(custom_input)\n"
   ]
  },
  {
   "cell_type": "code",
   "execution_count": 639,
   "id": "c0e8edae",
   "metadata": {},
   "outputs": [
    {
     "name": "stdout",
     "output_type": "stream",
     "text": [
      "[0]\n"
     ]
    }
   ],
   "source": [
    "print(y_pred)"
   ]
  },
  {
   "cell_type": "code",
   "execution_count": 640,
   "id": "8f7f4273",
   "metadata": {},
   "outputs": [
    {
     "data": {
      "image/png": "[encoded data removed]",
      "text/plain": [
       "<Figure size 640x480 with 2 Axes>"
      ]
     },
     "metadata": {},
     "output_type": "display_data"
    }
   ],
   "source": [
    "mapp=sns.heatmap(df4.corr())"
   ]
  },
  {
   "cell_type": "code",
   "execution_count": null,
   "id": "d5490a9f",
   "metadata": {},
   "outputs": [],
   "source": []
  }
 ],
 "metadata": {
  "kernelspec": {
   "display_name": "Python 3 (ipykernel)",
   "language": "python",
   "name": "python3"
  },
  "language_info": {
   "codemirror_mode": {
    "name": "ipython",
    "version": 3
   },
   "file_extension": ".py",
   "mimetype": "text/x-python",
   "name": "python",
   "nbconvert_exporter": "python",
   "pygments_lexer": "ipython3",
   "version": "3.9.13"
  }
 },
 "nbformat": 4,
 "nbformat_minor": 5
}
